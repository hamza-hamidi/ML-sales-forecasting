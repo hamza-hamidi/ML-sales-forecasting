{
  "nbformat": 4,
  "nbformat_minor": 0,
  "metadata": {
    "colab": {
      "provenance": [],
      "authorship_tag": "ABX9TyNqqx5vDsIMG99/ba5k1+yB",
      "include_colab_link": true
    },
    "kernelspec": {
      "name": "python3",
      "display_name": "Python 3"
    },
    "language_info": {
      "name": "python"
    }
  },
  "cells": [
    {
      "cell_type": "markdown",
      "metadata": {
        "id": "view-in-github",
        "colab_type": "text"
      },
      "source": [
        "<a href=\"https://colab.research.google.com/github/hamza-hamidi/ML-sales-forecasting/blob/main/PredictionOfFutureSales(ML_Project).ipynb\" target=\"_parent\"><img src=\"https://colab.research.google.com/assets/colab-badge.svg\" alt=\"Open In Colab\"/></a>"
      ]
    },
    {
      "cell_type": "code",
      "execution_count": null,
      "metadata": {
        "colab": {
          "base_uri": "https://localhost:8080/"
        },
        "id": "ucDzJliWe9pP",
        "outputId": "10d6d237-ea9b-4752-dab5-b74a2f3034a5"
      },
      "outputs": [
        {
          "output_type": "stream",
          "name": "stdout",
          "text": [
            "\u001b[2K     \u001b[90m━━━━━━━━━━━━━━━━━━━━━━━━━━━━━━━━━━━━━━━━\u001b[0m \u001b[32m160.3/160.3 kB\u001b[0m \u001b[31m1.5 MB/s\u001b[0m eta \u001b[36m0:00:00\u001b[0m\n",
            "\u001b[2K     \u001b[90m━━━━━━━━━━━━━━━━━━━━━━━━━━━━━━━━━━━━━━━━\u001b[0m \u001b[32m98.7/98.7 MB\u001b[0m \u001b[31m7.4 MB/s\u001b[0m eta \u001b[36m0:00:00\u001b[0m\n",
            "\u001b[2K     \u001b[90m━━━━━━━━━━━━━━━━━━━━━━━━━━━━━━━━━━━━━━━━\u001b[0m \u001b[32m1.7/1.7 MB\u001b[0m \u001b[31m24.3 MB/s\u001b[0m eta \u001b[36m0:00:00\u001b[0m\n",
            "\u001b[2K     \u001b[90m━━━━━━━━━━━━━━━━━━━━━━━━━━━━━━━━━━━━━━━━\u001b[0m \u001b[32m108.3/108.3 kB\u001b[0m \u001b[31m8.3 MB/s\u001b[0m eta \u001b[36m0:00:00\u001b[0m\n",
            "\u001b[?25h  Preparing metadata (setup.py) ... \u001b[?25l\u001b[?25hdone\n",
            "\u001b[2K     \u001b[90m━━━━━━━━━━━━━━━━━━━━━━━━━━━━━━━━━━━━━━━━\u001b[0m \u001b[32m139.4/139.4 kB\u001b[0m \u001b[31m5.7 MB/s\u001b[0m eta \u001b[36m0:00:00\u001b[0m\n",
            "\u001b[2K     \u001b[90m━━━━━━━━━━━━━━━━━━━━━━━━━━━━━━━━━━━━━━━━\u001b[0m \u001b[32m433.2/433.2 kB\u001b[0m \u001b[31m21.1 MB/s\u001b[0m eta \u001b[36m0:00:00\u001b[0m\n",
            "\u001b[2K     \u001b[90m━━━━━━━━━━━━━━━━━━━━━━━━━━━━━━━━━━━━━━━━\u001b[0m \u001b[32m109.4/109.4 kB\u001b[0m \u001b[31m8.3 MB/s\u001b[0m eta \u001b[36m0:00:00\u001b[0m\n",
            "\u001b[2K     \u001b[90m━━━━━━━━━━━━━━━━━━━━━━━━━━━━━━━━━━━━━━━━\u001b[0m \u001b[32m278.2/278.2 kB\u001b[0m \u001b[31m9.8 MB/s\u001b[0m eta \u001b[36m0:00:00\u001b[0m\n",
            "\u001b[2K     \u001b[90m━━━━━━━━━━━━━━━━━━━━━━━━━━━━━━━━━━━━━━━━\u001b[0m \u001b[32m2.8/2.8 MB\u001b[0m \u001b[31m19.8 MB/s\u001b[0m eta \u001b[36m0:00:00\u001b[0m\n",
            "\u001b[2K     \u001b[90m━━━━━━━━━━━━━━━━━━━━━━━━━━━━━━━━━━━━━━━━\u001b[0m \u001b[32m913.9/913.9 kB\u001b[0m \u001b[31m35.9 MB/s\u001b[0m eta \u001b[36m0:00:00\u001b[0m\n",
            "\u001b[?25h  Preparing metadata (setup.py) ... \u001b[?25l\u001b[?25hdone\n",
            "\u001b[2K     \u001b[90m━━━━━━━━━━━━━━━━━━━━━━━━━━━━━━━━━━━━━━━━\u001b[0m \u001b[32m1.6/1.6 MB\u001b[0m \u001b[31m45.1 MB/s\u001b[0m eta \u001b[36m0:00:00\u001b[0m\n",
            "\u001b[2K     \u001b[90m━━━━━━━━━━━━━━━━━━━━━━━━━━━━━━━━━━━━━━━━\u001b[0m \u001b[32m2.3/2.3 MB\u001b[0m \u001b[31m52.6 MB/s\u001b[0m eta \u001b[36m0:00:00\u001b[0m\n",
            "\u001b[2K     \u001b[90m━━━━━━━━━━━━━━━━━━━━━━━━━━━━━━━━━━━━━━━━\u001b[0m \u001b[32m1.6/1.6 MB\u001b[0m \u001b[31m34.7 MB/s\u001b[0m eta \u001b[36m0:00:00\u001b[0m\n",
            "\u001b[2K     \u001b[90m━━━━━━━━━━━━━━━━━━━━━━━━━━━━━━━━━━━━━━━━\u001b[0m \u001b[32m105.0/105.0 kB\u001b[0m \u001b[31m6.2 MB/s\u001b[0m eta \u001b[36m0:00:00\u001b[0m\n",
            "\u001b[2K     \u001b[90m━━━━━━━━━━━━━━━━━━━━━━━━━━━━━━━━━━━━━━━━\u001b[0m \u001b[32m46.2/46.2 kB\u001b[0m \u001b[31m3.7 MB/s\u001b[0m eta \u001b[36m0:00:00\u001b[0m\n",
            "\u001b[2K     \u001b[90m━━━━━━━━━━━━━━━━━━━━━━━━━━━━━━━━━━━━━━━━\u001b[0m \u001b[32m194.6/194.6 kB\u001b[0m \u001b[31m15.7 MB/s\u001b[0m eta \u001b[36m0:00:00\u001b[0m\n",
            "\u001b[2K     \u001b[90m━━━━━━━━━━━━━━━━━━━━━━━━━━━━━━━━━━━━━━━━\u001b[0m \u001b[32m58.1/58.1 kB\u001b[0m \u001b[31m6.1 MB/s\u001b[0m eta \u001b[36m0:00:00\u001b[0m\n",
            "\u001b[?25h  Building wheel for xhtml2pdf (setup.py) ... \u001b[?25l\u001b[?25hdone\n",
            "  Building wheel for svglib (setup.py) ... \u001b[?25l\u001b[?25hdone\n"
          ]
        }
      ],
      "source": [
        "%pip install -Uq upgini catboost"
      ]
    },
    {
      "cell_type": "markdown",
      "source": [
        "Input Data\n"
      ],
      "metadata": {
        "id": "xALisiY1f3Ah"
      }
    },
    {
      "cell_type": "markdown",
      "source": [],
      "metadata": {
        "id": "C3xypuCyRceQ"
      }
    },
    {
      "cell_type": "markdown",
      "source": [
        "training data set and testing data set\n"
      ],
      "metadata": {
        "id": "LFsOHTuwk-AA"
      }
    },
    {
      "cell_type": "code",
      "source": [
        "train=df[df[\"date\"]<'2017-01-01']\n",
        "test=df[df[\"date\"]>='2017-01-01']"
      ],
      "metadata": {
        "id": "Cgnupu9gkoTH"
      },
      "execution_count": null,
      "outputs": []
    },
    {
      "cell_type": "code",
      "source": [
        "train_features=train.drop(columns=[\"sales\"])\n",
        "train_targ=train[\"sales\"]\n",
        "test_features=test.drop(columns=[\"sales\"])\n",
        "test_targ=test[\"sales\"]"
      ],
      "metadata": {
        "id": "hCpFpFOCmWoT"
      },
      "execution_count": null,
      "outputs": []
    },
    {
      "cell_type": "code",
      "source": [],
      "metadata": {
        "id": "_R70z8pCSKSC"
      },
      "execution_count": null,
      "outputs": []
    },
    {
      "cell_type": "markdown",
      "source": [
        "enrich features"
      ],
      "metadata": {
        "id": "wGTGAHxWniK7"
      }
    },
    {
      "cell_type": "code",
      "source": [
        "from upgini import FeaturesEnricher, SearchKey\n",
        "from upgini.metadata import CVType\n",
        "enricher=FeaturesEnricher(\n",
        "    search_keys ={\n",
        "        \"date\":SearchKey.DATE,\n",
        "\n",
        "    },\n",
        "    cv=CVType.time_series\n",
        ")\n",
        "enricher.fit(train_features,\n",
        "             train_targ,\n",
        "             eval_set=[(test_features,test_targ)])"
      ],
      "metadata": {
        "colab": {
          "base_uri": "https://localhost:8080/",
          "height": 1000
        },
        "id": "y5SYozlsm14-",
        "outputId": "34e42031-7d65-4a49-9cc7-71a71f2f37a9"
      },
      "execution_count": null,
      "outputs": [
        {
          "output_type": "display_data",
          "data": {
            "text/plain": [
              "[============================================================] 100% Finished"
            ],
            "text/html": [
              "<progress style='width:60ex' max='100' value='100'></progress>  100% Finished</br>"
            ]
          },
          "metadata": {}
        },
        {
          "output_type": "display_data",
          "data": {
            "text/plain": [
              "<IPython.core.display.Javascript object>"
            ],
            "application/javascript": [
              "\n",
              "                        window.visitorId = import('https://openfpcdn.io/fingerprintjs/v3')\n",
              "                            .then(FingerprintJS => FingerprintJS.load())\n",
              "                            .then(fp => fp.get())\n",
              "                            .then(result => result.visitorId);\n",
              "                    "
            ]
          },
          "metadata": {}
        },
        {
          "output_type": "display_data",
          "data": {
            "text/plain": [
              "<IPython.core.display.Javascript object>"
            ],
            "application/javascript": [
              "\n",
              "                        window.visitorId = import('https://openfpcdn.io/fingerprintjs/v3')\n",
              "                            .then(FingerprintJS => FingerprintJS.load())\n",
              "                            .then(fp => fp.get())\n",
              "                            .then(result => result.visitorId);\n",
              "                    "
            ]
          },
          "metadata": {}
        },
        {
          "output_type": "display_data",
          "data": {
            "text/plain": [
              "<IPython.core.display.Javascript object>"
            ],
            "application/javascript": [
              "\n",
              "                        window.visitorId = import('https://openfpcdn.io/fingerprintjs/v3')\n",
              "                            .then(FingerprintJS => FingerprintJS.load())\n",
              "                            .then(fp => fp.get())\n",
              "                            .then(result => result.visitorId);\n",
              "                    "
            ]
          },
          "metadata": {}
        },
        {
          "output_type": "display_data",
          "data": {
            "text/plain": [
              "<IPython.core.display.Javascript object>"
            ],
            "application/javascript": [
              "\n",
              "                        window.visitorId = import('https://openfpcdn.io/fingerprintjs/v3')\n",
              "                            .then(FingerprintJS => FingerprintJS.load())\n",
              "                            .then(fp => fp.get())\n",
              "                            .then(result => result.visitorId);\n",
              "                    "
            ]
          },
          "metadata": {}
        },
        {
          "output_type": "display_data",
          "data": {
            "text/plain": [
              "<IPython.core.display.Javascript object>"
            ],
            "application/javascript": [
              "\n",
              "                        window.visitorId = import('https://openfpcdn.io/fingerprintjs/v3')\n",
              "                            .then(FingerprintJS => FingerprintJS.load())\n",
              "                            .then(fp => fp.get())\n",
              "                            .then(result => result.visitorId);\n",
              "                    "
            ]
          },
          "metadata": {}
        },
        {
          "output_type": "display_data",
          "data": {
            "text/plain": [
              "<IPython.core.display.Javascript object>"
            ],
            "application/javascript": [
              "\n",
              "                        window.visitorId = import('https://openfpcdn.io/fingerprintjs/v3')\n",
              "                            .then(FingerprintJS => FingerprintJS.load())\n",
              "                            .then(fp => fp.get())\n",
              "                            .then(result => result.visitorId);\n",
              "                    "
            ]
          },
          "metadata": {}
        },
        {
          "output_type": "display_data",
          "data": {
            "text/plain": [
              "<IPython.core.display.Javascript object>"
            ],
            "application/javascript": [
              "\n",
              "                        window.visitorId = import('https://openfpcdn.io/fingerprintjs/v3')\n",
              "                            .then(FingerprintJS => FingerprintJS.load())\n",
              "                            .then(fp => fp.get())\n",
              "                            .then(result => result.visitorId);\n",
              "                    "
            ]
          },
          "metadata": {}
        },
        {
          "output_type": "display_data",
          "data": {
            "text/plain": [
              "<IPython.core.display.Javascript object>"
            ],
            "application/javascript": [
              "\n",
              "                        window.visitorId = import('https://openfpcdn.io/fingerprintjs/v3')\n",
              "                            .then(FingerprintJS => FingerprintJS.load())\n",
              "                            .then(fp => fp.get())\n",
              "                            .then(result => result.visitorId);\n",
              "                    "
            ]
          },
          "metadata": {}
        },
        {
          "output_type": "stream",
          "name": "stdout",
          "text": [
            "\n",
            "WARNING: Search started with DATE search key only\n",
            "Try to add other keys like the COUNTRY, POSTAL_CODE, PHONE NUMBER, EMAIL/HEM, IPv4 to your training dataset\n",
            "for search through all the available data sources.\n",
            "See docs https://github.com/upgini/upgini#-total-239-countries-and-up-to-41-years-of-history\n"
          ]
        },
        {
          "output_type": "display_data",
          "data": {
            "text/plain": [
              "<IPython.core.display.Javascript object>"
            ],
            "application/javascript": [
              "\n",
              "                        window.visitorId = import('https://openfpcdn.io/fingerprintjs/v3')\n",
              "                            .then(FingerprintJS => FingerprintJS.load())\n",
              "                            .then(fp => fp.get())\n",
              "                            .then(result => result.visitorId);\n",
              "                    "
            ]
          },
          "metadata": {}
        },
        {
          "output_type": "display_data",
          "data": {
            "text/plain": [
              "<IPython.core.display.Javascript object>"
            ],
            "application/javascript": [
              "\n",
              "                        window.visitorId = import('https://openfpcdn.io/fingerprintjs/v3')\n",
              "                            .then(FingerprintJS => FingerprintJS.load())\n",
              "                            .then(fp => fp.get())\n",
              "                            .then(result => result.visitorId);\n",
              "                    "
            ]
          },
          "metadata": {}
        },
        {
          "output_type": "stream",
          "name": "stdout",
          "text": [
            "Detected task type: ModelTaskType.REGRESSION\n",
            "\n"
          ]
        },
        {
          "output_type": "display_data",
          "data": {
            "text/plain": [
              "<IPython.core.display.Javascript object>"
            ],
            "application/javascript": [
              "\n",
              "                        window.visitorId = import('https://openfpcdn.io/fingerprintjs/v3')\n",
              "                            .then(FingerprintJS => FingerprintJS.load())\n",
              "                            .then(fp => fp.get())\n",
              "                            .then(result => result.visitorId);\n",
              "                    "
            ]
          },
          "metadata": {}
        },
        {
          "output_type": "display_data",
          "data": {
            "text/plain": [
              "<IPython.core.display.Javascript object>"
            ],
            "application/javascript": [
              "\n",
              "                        window.visitorId = import('https://openfpcdn.io/fingerprintjs/v3')\n",
              "                            .then(FingerprintJS => FingerprintJS.load())\n",
              "                            .then(fp => fp.get())\n",
              "                            .then(result => result.visitorId);\n",
              "                    "
            ]
          },
          "metadata": {}
        },
        {
          "output_type": "display_data",
          "data": {
            "text/plain": [
              "<IPython.core.display.Javascript object>"
            ],
            "application/javascript": [
              "\n",
              "                        window.visitorId = import('https://openfpcdn.io/fingerprintjs/v3')\n",
              "                            .then(FingerprintJS => FingerprintJS.load())\n",
              "                            .then(fp => fp.get())\n",
              "                            .then(result => result.visitorId);\n",
              "                    "
            ]
          },
          "metadata": {}
        },
        {
          "output_type": "display_data",
          "data": {
            "text/plain": [
              "<IPython.core.display.Javascript object>"
            ],
            "application/javascript": [
              "\n",
              "                            window.clientIP = fetch(\"https://api.ipify.org\")\n",
              "                                .then(response => response.text())\n",
              "                                .then(data => data);\n",
              "                        "
            ]
          },
          "metadata": {}
        },
        {
          "output_type": "display_data",
          "data": {
            "text/plain": [
              "<IPython.core.display.Javascript object>"
            ],
            "application/javascript": [
              "\n",
              "                        window.visitorId = import('https://openfpcdn.io/fingerprintjs/v3')\n",
              "                            .then(FingerprintJS => FingerprintJS.load())\n",
              "                            .then(fp => fp.get())\n",
              "                            .then(result => result.visitorId);\n",
              "                    "
            ]
          },
          "metadata": {}
        },
        {
          "output_type": "display_data",
          "data": {
            "text/plain": [
              "<IPython.core.display.Javascript object>"
            ],
            "application/javascript": [
              "\n",
              "                        window.visitorId = import('https://openfpcdn.io/fingerprintjs/v3')\n",
              "                            .then(FingerprintJS => FingerprintJS.load())\n",
              "                            .then(fp => fp.get())\n",
              "                            .then(result => result.visitorId);\n",
              "                    "
            ]
          },
          "metadata": {}
        },
        {
          "output_type": "display_data",
          "data": {
            "text/plain": [
              "<IPython.core.display.HTML object>"
            ],
            "text/html": [
              "<table><tr><th style='font-weight:bold'>Column name</th><th style='font-weight:bold'>Status</th><th style='font-weight:bold'>Errors</th></tr><tr><td>date</td><td style='background-color:#DAF7A6;color:black'>All valid</td><td>-</td></tr><tr><td>target</td><td style='background-color:#DAF7A6;color:black'>All valid</td><td>-</td></tr></table>"
            ]
          },
          "metadata": {}
        },
        {
          "output_type": "display_data",
          "data": {
            "text/plain": [
              "<IPython.core.display.Javascript object>"
            ],
            "application/javascript": [
              "\n",
              "                        window.visitorId = import('https://openfpcdn.io/fingerprintjs/v3')\n",
              "                            .then(FingerprintJS => FingerprintJS.load())\n",
              "                            .then(fp => fp.get())\n",
              "                            .then(result => result.visitorId);\n",
              "                    "
            ]
          },
          "metadata": {}
        },
        {
          "output_type": "display_data",
          "data": {
            "text/plain": [
              "<IPython.core.display.Javascript object>"
            ],
            "application/javascript": [
              "\n",
              "                            window.clientIP = fetch(\"https://api.ipify.org\")\n",
              "                                .then(response => response.text())\n",
              "                                .then(data => data);\n",
              "                        "
            ]
          },
          "metadata": {}
        },
        {
          "output_type": "display_data",
          "data": {
            "text/plain": [
              "<IPython.core.display.Javascript object>"
            ],
            "application/javascript": [
              "\n",
              "                        window.visitorId = import('https://openfpcdn.io/fingerprintjs/v3')\n",
              "                            .then(FingerprintJS => FingerprintJS.load())\n",
              "                            .then(fp => fp.get())\n",
              "                            .then(result => result.visitorId);\n",
              "                    "
            ]
          },
          "metadata": {}
        },
        {
          "output_type": "display_data",
          "data": {
            "text/plain": [
              "<IPython.core.display.Javascript object>"
            ],
            "application/javascript": [
              "\n",
              "                            window.clientIP = fetch(\"https://api.ipify.org\")\n",
              "                                .then(response => response.text())\n",
              "                                .then(data => data);\n",
              "                        "
            ]
          },
          "metadata": {}
        },
        {
          "output_type": "display_data",
          "data": {
            "text/plain": [
              "<IPython.core.display.Javascript object>"
            ],
            "application/javascript": [
              "\n",
              "                            window.clientIP = fetch(\"https://api.ipify.org\")\n",
              "                                .then(response => response.text())\n",
              "                                .then(data => data);\n",
              "                        "
            ]
          },
          "metadata": {}
        },
        {
          "output_type": "display_data",
          "data": {
            "text/plain": [
              "<IPython.core.display.Javascript object>"
            ],
            "application/javascript": [
              "\n",
              "                            window.clientIP = fetch(\"https://api.ipify.org\")\n",
              "                                .then(response => response.text())\n",
              "                                .then(data => data);\n",
              "                        "
            ]
          },
          "metadata": {}
        },
        {
          "output_type": "display_data",
          "data": {
            "text/plain": [
              "<IPython.core.display.Javascript object>"
            ],
            "application/javascript": [
              "\n",
              "                            window.clientIP = fetch(\"https://api.ipify.org\")\n",
              "                                .then(response => response.text())\n",
              "                                .then(data => data);\n",
              "                        "
            ]
          },
          "metadata": {}
        },
        {
          "output_type": "display_data",
          "data": {
            "text/plain": [
              "<IPython.core.display.Javascript object>"
            ],
            "application/javascript": [
              "\n",
              "                            window.clientIP = fetch(\"https://api.ipify.org\")\n",
              "                                .then(response => response.text())\n",
              "                                .then(data => data);\n",
              "                        "
            ]
          },
          "metadata": {}
        },
        {
          "output_type": "display_data",
          "data": {
            "text/plain": [
              "<IPython.core.display.Javascript object>"
            ],
            "application/javascript": [
              "\n",
              "                            window.clientIP = fetch(\"https://api.ipify.org\")\n",
              "                                .then(response => response.text())\n",
              "                                .then(data => data);\n",
              "                        "
            ]
          },
          "metadata": {}
        },
        {
          "output_type": "display_data",
          "data": {
            "text/plain": [
              "<IPython.core.display.Javascript object>"
            ],
            "application/javascript": [
              "\n",
              "                            window.clientIP = fetch(\"https://api.ipify.org\")\n",
              "                                .then(response => response.text())\n",
              "                                .then(data => data);\n",
              "                        "
            ]
          },
          "metadata": {}
        },
        {
          "output_type": "display_data",
          "data": {
            "text/plain": [
              "<IPython.core.display.Javascript object>"
            ],
            "application/javascript": [
              "\n",
              "                            window.clientIP = fetch(\"https://api.ipify.org\")\n",
              "                                .then(response => response.text())\n",
              "                                .then(data => data);\n",
              "                        "
            ]
          },
          "metadata": {}
        },
        {
          "output_type": "display_data",
          "data": {
            "text/plain": [
              "<IPython.core.display.Javascript object>"
            ],
            "application/javascript": [
              "\n",
              "                            window.clientIP = fetch(\"https://api.ipify.org\")\n",
              "                                .then(response => response.text())\n",
              "                                .then(data => data);\n",
              "                        "
            ]
          },
          "metadata": {}
        },
        {
          "output_type": "display_data",
          "data": {
            "text/plain": [
              "<IPython.core.display.Javascript object>"
            ],
            "application/javascript": [
              "\n",
              "                            window.clientIP = fetch(\"https://api.ipify.org\")\n",
              "                                .then(response => response.text())\n",
              "                                .then(data => data);\n",
              "                        "
            ]
          },
          "metadata": {}
        },
        {
          "output_type": "display_data",
          "data": {
            "text/plain": [
              "<IPython.core.display.Javascript object>"
            ],
            "application/javascript": [
              "\n",
              "                            window.clientIP = fetch(\"https://api.ipify.org\")\n",
              "                                .then(response => response.text())\n",
              "                                .then(data => data);\n",
              "                        "
            ]
          },
          "metadata": {}
        },
        {
          "output_type": "display_data",
          "data": {
            "text/plain": [
              "<IPython.core.display.Javascript object>"
            ],
            "application/javascript": [
              "\n",
              "                            window.clientIP = fetch(\"https://api.ipify.org\")\n",
              "                                .then(response => response.text())\n",
              "                                .then(data => data);\n",
              "                        "
            ]
          },
          "metadata": {}
        },
        {
          "output_type": "display_data",
          "data": {
            "text/plain": [
              "<IPython.core.display.Javascript object>"
            ],
            "application/javascript": [
              "\n",
              "                            window.clientIP = fetch(\"https://api.ipify.org\")\n",
              "                                .then(response => response.text())\n",
              "                                .then(data => data);\n",
              "                        "
            ]
          },
          "metadata": {}
        },
        {
          "output_type": "display_data",
          "data": {
            "text/plain": [
              "<IPython.core.display.Javascript object>"
            ],
            "application/javascript": [
              "\n",
              "                            window.clientIP = fetch(\"https://api.ipify.org\")\n",
              "                                .then(response => response.text())\n",
              "                                .then(data => data);\n",
              "                        "
            ]
          },
          "metadata": {}
        },
        {
          "output_type": "display_data",
          "data": {
            "text/plain": [
              "<IPython.core.display.Javascript object>"
            ],
            "application/javascript": [
              "\n",
              "                            window.clientIP = fetch(\"https://api.ipify.org\")\n",
              "                                .then(response => response.text())\n",
              "                                .then(data => data);\n",
              "                        "
            ]
          },
          "metadata": {}
        },
        {
          "output_type": "stream",
          "name": "stdout",
          "text": [
            "\n",
            "Running search request, search_id=c13f2878-5709-4897-a0c5-117953d0a823\n",
            "We'll send email notification once it's completed, just use your personal api_key from profile.upgini.com\n",
            "\n",
            "\u001b[92m\u001b[1m\n",
            "49 relevant feature(s) found with the search keys: ['date']\u001b[0m\n"
          ]
        },
        {
          "output_type": "display_data",
          "data": {
            "text/plain": [
              "<IPython.core.display.HTML object>"
            ],
            "text/html": [
              "<style>\n",
              "            .upgini-df thead th {\n",
              "                font-weight:bold;\n",
              "                text-align: center;\n",
              "                padding: 0.5em;\n",
              "                border-bottom: 2px solid black;\n",
              "            }\n",
              "\n",
              "            .upgini-df tbody td {\n",
              "                padding: 0.5em;\n",
              "            }\n",
              "\n",
              "            .upgini-df tbody tr:nth-child(odd) {\n",
              "                background-color: #ffffff;\n",
              "            }\n",
              "\n",
              "            .upgini-df tbody tr:nth-child(even) {\n",
              "                background-color: #f2f2f2;\n",
              "            }\n",
              "\n",
              "            .upgini-text {\n",
              "                text-align: left;\n",
              "            }\n",
              "\n",
              "            .upgini-number {\n",
              "                text-align: center;\n",
              "            }\n",
              "        </style>\n",
              "        <h2>Relevant features</h2>\n",
              "        <div style=\"display:flex; flex-direction:column; align-items:flex-end; width: fit-content;\">\n",
              "            <div style=\"text-align: right\">\n",
              "                <button onclick=navigator.clipboard.writeText(decodeURI('Feature%20name%09SHAP%20value%09Coverage%20%25%09Value%20preview%09Provider%09Source%09Feature%20type%0Af_weather_date_weather_umap_48_b39cd0c4%090.0481%09100.0%095.0802,%204.88,%205.1556%09Upgini%09Weather%20%26%20climate%20normals%20data%09Premium%0Af_weather_date_weather_umap_31_fa6d9a99%090.0448%09100.0%095.5616,%204.8025,%205.6095%09Upgini%09Weather%20%26%20climate%20normals%20data%09Premium%0Af_autofe_mul_16f51329%090.0178%09100.0%09-0.7956,%20-0.4169,%20-0.321%09Upgini%09AutoFE%3A%20features%20from%20%3Ca%20href%3D%27https%3A%2F%2Fupgini.com%2F%23data_sources%27%20target%3D%27_blank%27%20rel%3D%27noopener%20noreferrer%27%3ECalendar%20data%3C%2Fa%3E,%3Ca%20href%3D%27https%3A%2F%2Fupgini.com%2F%23data_sources%27%20target%3D%27_blank%27%20rel%3D%27noopener%20noreferrer%27%3EMarkets%20data%3C%2Fa%3E%09Free%0Af_autofe_div_20a12630%090.0142%09100.0%090.0075,%200.0023,%20-0.0091%09Upgini%09AutoFE%3A%20features%20from%20%3Ca%20href%3D%27https%3A%2F%2Fupgini.com%2F%23data_sources%27%20target%3D%27_blank%27%20rel%3D%27noopener%20noreferrer%27%3ECalendar%20data%3C%2Fa%3E,%3Ca%20href%3D%27https%3A%2F%2Fupgini.com%2F%23data_sources%27%20target%3D%27_blank%27%20rel%3D%27noopener%20noreferrer%27%3EMarkets%20data%3C%2Fa%3E%09Free%0Af_autofe_div_cbf285e0%090.012%09100.0%09-0.8013,%20-0.0139,%20-0.2956%09Upgini%09AutoFE%3A%20features%20from%20%3Ca%20href%3D%27https%3A%2F%2Fupgini.com%2F%23data_sources%27%20target%3D%27_blank%27%20rel%3D%27noopener%20noreferrer%27%3ECalendar%20data%3C%2Fa%3E,%3Ca%20href%3D%27https%3A%2F%2Fupgini.com%2F%23data_sources%27%20target%3D%27_blank%27%20rel%3D%27noopener%20noreferrer%27%3EMarkets%20data%3C%2Fa%3E%09Free%0Af_autofe_mul_6a97c336%090.0085%09100.0%090.4963,%200.7824,%200.5567%09Upgini%09AutoFE%3A%20features%20from%20%3Ca%20href%3D%27https%3A%2F%2Fupgini.com%2F%23data_sources%27%20target%3D%27_blank%27%20rel%3D%27noopener%20noreferrer%27%3ECalendar%20data%3C%2Fa%3E,%3Ca%20href%3D%27https%3A%2F%2Fupgini.com%2F%23data_sources%27%20target%3D%27_blank%27%20rel%3D%27noopener%20noreferrer%27%3EMarkets%20data%3C%2Fa%3E%09Free%0Af_autofe_mul_28524d47%090.0074%09100.0%09-0.0276,%20-0.7881,%200.7859%09Upgini%09AutoFE%3A%20features%20from%20%3Ca%20href%3D%27https%3A%2F%2Fupgini.com%2F%23data_sources%27%20target%3D%27_blank%27%20rel%3D%27noopener%20noreferrer%27%3ECalendar%20data%3C%2Fa%3E,%3Ca%20href%3D%27https%3A%2F%2Fupgini.com%2F%23data_sources%27%20target%3D%27_blank%27%20rel%3D%27noopener%20noreferrer%27%3EMarkets%20data%3C%2Fa%3E%09Free%0Af_autofe_mul_af6d166b%090.006%09100.0%09-0.8251,%200.8978,%20-0.8576%09Upgini%09AutoFE%3A%20features%20from%20%3Ca%20href%3D%27https%3A%2F%2Fupgini.com%2F%23data_sources%27%20target%3D%27_blank%27%20rel%3D%27noopener%20noreferrer%27%3ECalendar%20data%3C%2Fa%3E,%3Ca%20href%3D%27https%3A%2F%2Fupgini.com%2F%23data_sources%27%20target%3D%27_blank%27%20rel%3D%27noopener%20noreferrer%27%3EMarkets%20data%3C%2Fa%3E%09Free%0Af_autofe_div_0b384b21%090.0059%09100.0%091.6152,%200.7269,%201.5159%09Upgini%09AutoFE%3A%20features%20from%20%3Ca%20href%3D%27https%3A%2F%2Fupgini.com%2F%23data_sources%27%20target%3D%27_blank%27%20rel%3D%27noopener%20noreferrer%27%3EMarkets%20data%3C%2Fa%3E%09Free%0Af_autofe_div_04d9bc60%090.0056%09100.0%09-0.7272,%200.5961,%200.8893%09Upgini%09AutoFE%3A%20features%20from%20%3Ca%20href%3D%27https%3A%2F%2Fupgini.com%2F%23data_sources%27%20target%3D%27_blank%27%20rel%3D%27noopener%20noreferrer%27%3ECalendar%20data%3C%2Fa%3E,%3Ca%20href%3D%27https%3A%2F%2Fupgini.com%2F%23data_sources%27%20target%3D%27_blank%27%20rel%3D%27noopener%20noreferrer%27%3EMarkets%20data%3C%2Fa%3E%09Free%0Af_autofe_div_d6db5d7a%090.0054%09100.0%09-0.9246,%200.5528,%200.7115%09Upgini%09AutoFE%3A%20features%20from%20%3Ca%20href%3D%27https%3A%2F%2Fupgini.com%2F%23data_sources%27%20target%3D%27_blank%27%20rel%3D%27noopener%20noreferrer%27%3ECalendar%20data%3C%2Fa%3E,%3Ca%20href%3D%27https%3A%2F%2Fupgini.com%2F%23data_sources%27%20target%3D%27_blank%27%20rel%3D%27noopener%20noreferrer%27%3EMarkets%20data%3C%2Fa%3E%09Free%0Af_autofe_div_1ce27d18%090.004%09100.0%090.3893,%20-0.386,%20-0.9177%09Upgini%09AutoFE%3A%20features%20from%20%3Ca%20href%3D%27https%3A%2F%2Fupgini.com%2F%23data_sources%27%20target%3D%27_blank%27%20rel%3D%27noopener%20noreferrer%27%3ECalendar%20data%3C%2Fa%3E,%3Ca%20href%3D%27https%3A%2F%2Fupgini.com%2F%23data_sources%27%20target%3D%27_blank%27%20rel%3D%27noopener%20noreferrer%27%3EMarkets%20data%3C%2Fa%3E%09Free%0Af_autofe_div_e8cdf4c5%090.0035%0985.31547320981471%092.3018,%201.0244,%200.2133%09Upgini%09AutoFE%3A%20features%20from%20%3Ca%20href%3D%27https%3A%2F%2Fupgini.com%2F%23data_sources%27%20target%3D%27_blank%27%20rel%3D%27noopener%20noreferrer%27%3ECalendar%20data%3C%2Fa%3E%09Free%0Af_autofe_div_67b4a230%090.0031%09100.0%09-0.1925,%20-0.2134,%20-0.8278%09Upgini%09AutoFE%3A%20features%20from%20%3Ca%20href%3D%27https%3A%2F%2Fupgini.com%2F%23data_sources%27%20target%3D%27_blank%27%20rel%3D%27noopener%20noreferrer%27%3ECalendar%20data%3C%2Fa%3E,%3Ca%20href%3D%27https%3A%2F%2Fupgini.com%2F%23data_sources%27%20target%3D%27_blank%27%20rel%3D%27noopener%20noreferrer%27%3EMarkets%20data%3C%2Fa%3E%09Free%0Af_events_date_year_cos1_9014a856%090.0031%09100.0%090.1114,%20-0.9357,%200.4054%09Upgini%09Calendar%20data%09Free%0Af_weather_date_weather_umap_12_d03be9a0%090.0031%09100.0%095.9983,%205.7035,%204.859%09Upgini%09Weather%20%26%20climate%20normals%20data%09Premium%0Af_autofe_div_3e22df83%090.003%09100.0%090.0163,%20-0.0078,%20-0.0157%09Upgini%09AutoFE%3A%20features%20from%20%3Ca%20href%3D%27https%3A%2F%2Fupgini.com%2F%23data_sources%27%20target%3D%27_blank%27%20rel%3D%27noopener%20noreferrer%27%3ECalendar%20data%3C%2Fa%3E,%3Ca%20href%3D%27https%3A%2F%2Fupgini.com%2F%23data_sources%27%20target%3D%27_blank%27%20rel%3D%27noopener%20noreferrer%27%3EMarkets%20data%3C%2Fa%3E%09Free%0Af_weather_date_weather_umap_16_25ac8b87%090.0028%09100.0%096.0696,%206.3268,%206.1219%09Upgini%09Weather%20%26%20climate%20normals%20data%09Premium%0Af_autofe_mul_25296268%090.0022%09100.0%090.8545,%20-0.3978,%200.6343%09Upgini%09AutoFE%3A%20features%20from%20%3Ca%20href%3D%27https%3A%2F%2Fupgini.com%2F%23data_sources%27%20target%3D%27_blank%27%20rel%3D%27noopener%20noreferrer%27%3ECalendar%20data%3C%2Fa%3E,%3Ca%20href%3D%27https%3A%2F%2Fupgini.com%2F%23data_sources%27%20target%3D%27_blank%27%20rel%3D%27noopener%20noreferrer%27%3EMarkets%20data%3C%2Fa%3E%09Free%0Af_autofe_mul_08e89348%090.002%09100.0%09-94.7922,%2073.0621,%2037.3202%09Upgini%09AutoFE%3A%20features%20from%20%3Ca%20href%3D%27https%3A%2F%2Fupgini.com%2F%23data_sources%27%20target%3D%27_blank%27%20rel%3D%27noopener%20noreferrer%27%3ECalendar%20data%3C%2Fa%3E,%3Ca%20href%3D%27https%3A%2F%2Fupgini.com%2F%23data_sources%27%20target%3D%27_blank%27%20rel%3D%27noopener%20noreferrer%27%3EMarkets%20data%3C%2Fa%3E%09Free%0Af_autofe_mul_0cc09d2d%090.0019%09100.0%09-1.8462,%2029.7593,%20-1.8462%09Upgini%09AutoFE%3A%20features%20from%20%3Ca%20href%3D%27https%3A%2F%2Fupgini.com%2F%23data_sources%27%20target%3D%27_blank%27%20rel%3D%27noopener%20noreferrer%27%3ECalendar%20data%3C%2Fa%3E,%3Ca%20href%3D%27https%3A%2F%2Fupgini.com%2F%23data_sources%27%20target%3D%27_blank%27%20rel%3D%27noopener%20noreferrer%27%3EMarkets%20data%3C%2Fa%3E%09Free%0Af_autofe_mul_52933c24%090.0018%09100.0%09-0.2076,%20-0.068,%20-0.7675%09Upgini%09AutoFE%3A%20features%20from%20%3Ca%20href%3D%27https%3A%2F%2Fupgini.com%2F%23data_sources%27%20target%3D%27_blank%27%20rel%3D%27noopener%20noreferrer%27%3ECalendar%20data%3C%2Fa%3E,%3Ca%20href%3D%27https%3A%2F%2Fupgini.com%2F%23data_sources%27%20target%3D%27_blank%27%20rel%3D%27noopener%20noreferrer%27%3EMarkets%20data%3C%2Fa%3E%09Free%0Af_autofe_mul_b2bfad41%090.0017%09100.0%090.8169,%200.545,%200.5115%09Upgini%09AutoFE%3A%20features%20from%20%3Ca%20href%3D%27https%3A%2F%2Fupgini.com%2F%23data_sources%27%20target%3D%27_blank%27%20rel%3D%27noopener%20noreferrer%27%3ECalendar%20data%3C%2Fa%3E,%3Ca%20href%3D%27https%3A%2F%2Fupgini.com%2F%23data_sources%27%20target%3D%27_blank%27%20rel%3D%27noopener%20noreferrer%27%3EMarkets%20data%3C%2Fa%3E%09Free%0Af_autofe_mul_f5777239%090.0017%09100.0%091.5213,%200.643,%200.3215%09Upgini%09AutoFE%3A%20features%20from%20%3Ca%20href%3D%27https%3A%2F%2Fupgini.com%2F%23data_sources%27%20target%3D%27_blank%27%20rel%3D%27noopener%20noreferrer%27%3ECalendar%20data%3C%2Fa%3E,%3Ca%20href%3D%27https%3A%2F%2Fupgini.com%2F%23data_sources%27%20target%3D%27_blank%27%20rel%3D%27noopener%20noreferrer%27%3EMarkets%20data%3C%2Fa%3E%09Free%0Af_autofe_div_fb99ff57%090.0016%09100.0%09327.9377,%20322.3393,%20323.8283%09Upgini%09AutoFE%3A%20features%20from%20%3Ca%20href%3D%27https%3A%2F%2Fupgini.com%2F%23data_sources%27%20target%3D%27_blank%27%20rel%3D%27noopener%20noreferrer%27%3EMarkets%20data%3C%2Fa%3E%09Free%0Af_weather_date_weather_pca_1_9e4af931%090.0013%09100.0%09-5.365,%2016.3087,%20-3.7573%09Upgini%09Weather%20%26%20climate%20normals%20data%09Premium%0Af_weather_date_weather_umap_13_842ae1fc%090.0012%09100.0%094.798,%205.3328,%204.524%09Upgini%09Weather%20%26%20climate%20normals%20data%09Premium%0Af_autofe_div_f554dfdc%090.0012%0968.52779168753129%090.0081,%20-0.0867,%20-0.2004%09Upgini%09AutoFE%3A%20features%20from%20%3Ca%20href%3D%27https%3A%2F%2Fupgini.com%2F%23data_sources%27%20target%3D%27_blank%27%20rel%3D%27noopener%20noreferrer%27%3ECalendar%20data%3C%2Fa%3E,%3Ca%20href%3D%27https%3A%2F%2Fupgini.com%2F%23data_sources%27%20target%3D%27_blank%27%20rel%3D%27noopener%20noreferrer%27%3EMarkets%20data%3C%2Fa%3E%09Free%0Af_weather_date_weather_umap_30_898d12c4%090.0012%09100.0%094.9664,%204.954,%204.9767%09Upgini%09Weather%20%26%20climate%20normals%20data%09Premium%0Af_autofe_mul_5388a2c0%090.0011%09100.0%091.2581,%201.1363,%200.7607%09Upgini%09AutoFE%3A%20features%20from%20%3Ca%20href%3D%27https%3A%2F%2Fupgini.com%2F%23data_sources%27%20target%3D%27_blank%27%20rel%3D%27noopener%20noreferrer%27%3EMarkets%20data%3C%2Fa%3E%09Free%0Af_financial_date_nasdaq_7d_to_1y_autofe_residual_65f21712%090.0011%09100.0%090.1196,%200.0701,%200.0427%09Upgini%09AutoFE%3A%20feature%20from%20%3Ca%20href%3D%27https%3A%2F%2Fupgini.com%2F%23data_sources%27%20target%3D%27_blank%27%20rel%3D%27noopener%20noreferrer%27%3EMarkets%20data%3C%2Fa%3E%09Free%0Af_autofe_div_9151e6df%090.001%09100.0%090.9471,%200.9224,%200.862%09Upgini%09AutoFE%3A%20features%20from%20%3Ca%20href%3D%27https%3A%2F%2Fupgini.com%2F%23data_sources%27%20target%3D%27_blank%27%20rel%3D%27noopener%20noreferrer%27%3EMarkets%20data%3C%2Fa%3E%09Free%0Af_autofe_mul_c6f59861%090.0009%09100.0%091.1553,%200.5618,%200.8279%09Upgini%09AutoFE%3A%20features%20from%20%3Ca%20href%3D%27https%3A%2F%2Fupgini.com%2F%23data_sources%27%20target%3D%27_blank%27%20rel%3D%27noopener%20noreferrer%27%3EMarkets%20data%3C%2Fa%3E%09Free%0Af_autofe_mul_a3d814ec%090.0009%09100.0%09-0.4896,%20-0.1218,%20-0.2753%09Upgini%09AutoFE%3A%20features%20from%20%3Ca%20href%3D%27https%3A%2F%2Fupgini.com%2F%23data_sources%27%20target%3D%27_blank%27%20rel%3D%27noopener%20noreferrer%27%3ECalendar%20data%3C%2Fa%3E,%3Ca%20href%3D%27https%3A%2F%2Fupgini.com%2F%23data_sources%27%20target%3D%27_blank%27%20rel%3D%27noopener%20noreferrer%27%3EMarkets%20data%3C%2Fa%3E%09Free%0Af_autofe_mul_b0ac774f%090.0008%09100.0%091.0827,%20-0.8841,%201.303%09Upgini%09AutoFE%3A%20features%20from%20%3Ca%20href%3D%27https%3A%2F%2Fupgini.com%2F%23data_sources%27%20target%3D%27_blank%27%20rel%3D%27noopener%20noreferrer%27%3ECalendar%20data%3C%2Fa%3E,%3Ca%20href%3D%27https%3A%2F%2Fupgini.com%2F%23data_sources%27%20target%3D%27_blank%27%20rel%3D%27noopener%20noreferrer%27%3EMarkets%20data%3C%2Fa%3E%09Free%0Af_autofe_div_440201e6%090.0008%0963.20731096644967%092.7814,%201.309,%20-4.2903%09Upgini%09AutoFE%3A%20features%20from%20%3Ca%20href%3D%27https%3A%2F%2Fupgini.com%2F%23data_sources%27%20target%3D%27_blank%27%20rel%3D%27noopener%20noreferrer%27%3ECalendar%20data%3C%2Fa%3E,%3Ca%20href%3D%27https%3A%2F%2Fupgini.com%2F%23data_sources%27%20target%3D%27_blank%27%20rel%3D%27noopener%20noreferrer%27%3EMarkets%20data%3C%2Fa%3E%09Free%0Af_autofe_mul_041b52f4%090.0007%09100.0%09-0.7496,%20-0.1538,%20-0.7568%09Upgini%09AutoFE%3A%20features%20from%20%3Ca%20href%3D%27https%3A%2F%2Fupgini.com%2F%23data_sources%27%20target%3D%27_blank%27%20rel%3D%27noopener%20noreferrer%27%3ECalendar%20data%3C%2Fa%3E%09Free%0Af_autofe_div_0a9c9355%090.0007%0985.31547320981471%09-0.0,%201.8646,%20-0.8298%09Upgini%09AutoFE%3A%20features%20from%20%3Ca%20href%3D%27https%3A%2F%2Fupgini.com%2F%23data_sources%27%20target%3D%27_blank%27%20rel%3D%27noopener%20noreferrer%27%3ECalendar%20data%3C%2Fa%3E%09Free%0Af_weather_date_weather_umap_35_5ddaa0ba%090.0007%09100.0%095.0152,%204.7364,%204.8105%09Upgini%09Weather%20%26%20climate%20normals%20data%09Premium%0Af_autofe_div_48404110%090.0007%0985.31547320981471%091.2204,%200.8419,%200.5426%09Upgini%09AutoFE%3A%20features%20from%20%3Ca%20href%3D%27https%3A%2F%2Fupgini.com%2F%23data_sources%27%20target%3D%27_blank%27%20rel%3D%27noopener%20noreferrer%27%3ECalendar%20data%3C%2Fa%3E%09Free%0Af_autofe_div_270d64a2%090.0006%09100.0%090.6021,%20-1.2448,%200.6119%09Upgini%09AutoFE%3A%20features%20from%20%3Ca%20href%3D%27https%3A%2F%2Fupgini.com%2F%23data_sources%27%20target%3D%27_blank%27%20rel%3D%27noopener%20noreferrer%27%3ECalendar%20data%3C%2Fa%3E,%3Ca%20href%3D%27https%3A%2F%2Fupgini.com%2F%23data_sources%27%20target%3D%27_blank%27%20rel%3D%27noopener%20noreferrer%27%3EMarkets%20data%3C%2Fa%3E%09Free%0Af_autofe_mul_0062f3ed%090.0006%09100.0%09-17.6461,%2045.6851,%2080.771%09Upgini%09AutoFE%3A%20features%20from%20%3Ca%20href%3D%27https%3A%2F%2Fupgini.com%2F%23data_sources%27%20target%3D%27_blank%27%20rel%3D%27noopener%20noreferrer%27%3ECalendar%20data%3C%2Fa%3E,%3Ca%20href%3D%27https%3A%2F%2Fupgini.com%2F%23data_sources%27%20target%3D%27_blank%27%20rel%3D%27noopener%20noreferrer%27%3EMarkets%20data%3C%2Fa%3E%09Free%0Af_autofe_mul_3f4a1860%090.0005%09100.0%09-0.3821,%20-0.5378,%20-0.7754%09Upgini%09AutoFE%3A%20features%20from%20%3Ca%20href%3D%27https%3A%2F%2Fupgini.com%2F%23data_sources%27%20target%3D%27_blank%27%20rel%3D%27noopener%20noreferrer%27%3ECalendar%20data%3C%2Fa%3E,%3Ca%20href%3D%27https%3A%2F%2Fupgini.com%2F%23data_sources%27%20target%3D%27_blank%27%20rel%3D%27noopener%20noreferrer%27%3EMarkets%20data%3C%2Fa%3E%09Free%0Af_autofe_mul_a77d0e6c%090.0005%09100.0%0953.7782,%2077.0921,%2054.476%09Upgini%09AutoFE%3A%20features%20from%20%3Ca%20href%3D%27https%3A%2F%2Fupgini.com%2F%23data_sources%27%20target%3D%27_blank%27%20rel%3D%27noopener%20noreferrer%27%3EMarkets%20data%3C%2Fa%3E%09Free%0Af_autofe_mul_53b94336%090.0004%09100.0%09-0.0223,%20-0.2693,%200.1738%09Upgini%09AutoFE%3A%20features%20from%20%3Ca%20href%3D%27https%3A%2F%2Fupgini.com%2F%23data_sources%27%20target%3D%27_blank%27%20rel%3D%27noopener%20noreferrer%27%3ECalendar%20data%3C%2Fa%3E%09Free%0Af_autofe_div_e939fcf8%090.0004%09100.0%090.6797,%20-0.2325,%20-1.0506%09Upgini%09AutoFE%3A%20features%20from%20%3Ca%20href%3D%27https%3A%2F%2Fupgini.com%2F%23data_sources%27%20target%3D%27_blank%27%20rel%3D%27noopener%20noreferrer%27%3ECalendar%20data%3C%2Fa%3E,%3Ca%20href%3D%27https%3A%2F%2Fupgini.com%2F%23data_sources%27%20target%3D%27_blank%27%20rel%3D%27noopener%20noreferrer%27%3EMarkets%20data%3C%2Fa%3E%09Free%0Af_autofe_mul_c094face%090.0004%09100.0%090.0535,%20-0.4977,%200.0821%09Upgini%09AutoFE%3A%20features%20from%20%3Ca%20href%3D%27https%3A%2F%2Fupgini.com%2F%23data_sources%27%20target%3D%27_blank%27%20rel%3D%27noopener%20noreferrer%27%3ECalendar%20data%3C%2Fa%3E%09Free%0Af_economic_date_cbpol_pca_1_31e5f62c%090.0004%09100.0%09-2.783,%20-3.4621,%20-1.9868%09Upgini%09World%20economic%20indicators%09Free%0Af_weather_date_weather_umap_4_0c0d6662%090.0004%09100.0%094.7461,%205.2671,%204.7812%09Upgini%09Weather%20%26%20climate%20normals%20data%09Premium%0A'))>📂 Copy</button>\n",
              "                <a href='mailto:<Share with...>?subject=Relevant external data sources from Upgini.com&body=Feature%20name%09SHAP%20value%09Coverage%20%25%09Value%20preview%09Provider%09Source%09Feature%20type%0Af_weather_date_weather_umap_48_b39cd0c4%090.0481%09100.0%095.0802,%204.88,%205.1556%09Upgini%09Weather%20%26%20climate%20normals%20data%09Premium%0Af_weather_date_weather_umap_31_fa6d9a99%090.0448%09100.0%095.5616,%204.8025,%205.6095%09Upgini%09Weather%20%26%20climate%20normals%20data%09Premium%0Af_autofe_mul_16f51329%090.0178%09100.0%09-0.7956,%20-0.4169,%20-0.321%09Upgini%09AutoFE%3A%20features%20from%20%3Ca%20href%3D%27https%3A%2F%2Fupgini.com%2F%23data_sources%27%20target%3D%27_blank%27%20rel%3D%27noopener%20noreferrer%27%3ECalendar%20data%3C%2Fa%3E,%3Ca%20href%3D%27https%3A%2F%2Fupgini.com%2F%23data_sources%27%20target%3D%27_blank%27%20rel%3D%27noopener%20noreferrer%27%3EMarkets%20data%3C%2Fa%3E%09Free%0Af_autofe_div_20a12630%090.0142%09100.0%090.0075,%200.0023,%20-0.0091%09Upgini%09AutoFE%3A%20features%20from%20%3Ca%20href%3D%27https%3A%2F%2Fupgini.com%2F%23data_sources%27%20target%3D%27_blank%27%20rel%3D%27noopener%20noreferrer%27%3ECalendar%20data%3C%2Fa%3E,%3Ca%20href%3D%27https%3A%2F%2Fupgini.com%2F%23data_sources%27%20target%3D%27_blank%27%20rel%3D%27noopener%20noreferrer%27%3EMarkets%20data%3C%2Fa%3E%09Free%0Af_autofe_div_cbf285e0%090.012%09100.0%09-0.8013,%20-0.0139,%20-0.2956%09Upgini%09AutoFE%3A%20features%20from%20%3Ca%20href%3D%27https%3A%2F%2Fupgini.com%2F%23data_sources%27%20target%3D%27_blank%27%20rel%3D%27noopener%20noreferrer%27%3ECalendar%20data%3C%2Fa%3E,%3Ca%20href%3D%27https%3A%2F%2Fupgini.com%2F%23data_sources%27%20target%3D%27_blank%27%20rel%3D%27noopener%20noreferrer%27%3EMarkets%20data%3C%2Fa%3E%09Free%0Af_autofe_mul_6a97c336%090.0085%09100.0%090.4963,%200.7824,%200.5567%09Upgini%09AutoFE%3A%20features%20from%20%3Ca%20href%3D%27https%3A%2F%2Fupgini.com%2F%23data_sources%27%20target%3D%27_blank%27%20rel%3D%27noopener%20noreferrer%27%3ECalendar%20data%3C%2Fa%3E,%3Ca%20href%3D%27https%3A%2F%2Fupgini.com%2F%23data_sources%27%20target%3D%27_blank%27%20rel%3D%27noopener%20noreferrer%27%3EMarkets%20data%3C%2Fa%3E%09Free%0Af_autofe_mul_28524d47%090.0074%09100.0%09-0.0276,%20-0.7881,%200.7859%09Upgini%09AutoFE%3A%20features%20from%20%3Ca%20href%3D%27https%3A%2F%2Fupgini.com%2F%23data_sources%27%20target%3D%27_blank%27%20rel%3D%27noopener%20noreferrer%27%3ECalendar%20data%3C%2Fa%3E,%3Ca%20href%3D%27https%3A%2F%2Fupgini.com%2F%23data_sources%27%20target%3D%27_blank%27%20rel%3D%27noopener%20noreferrer%27%3EMarkets%20data%3C%2Fa%3E%09Free%0Af_autofe_mul_af6d166b%090.006%09100.0%09-0.8251,%200.8978,%20-0.8576%09Upgini%09AutoFE%3A%20features%20from%20%3Ca%20href%3D%27https%3A%2F%2Fupgini.com%2F%23data_sources%27%20target%3D%27_blank%27%20rel%3D%27noopener%20noreferrer%27%3ECalendar%20data%3C%2Fa%3E,%3Ca%20href%3D%27https%3A%2F%2Fupgini.com%2F%23data_sources%27%20target%3D%27_blank%27%20rel%3D%27noopener%20noreferrer%27%3EMarkets%20data%3C%2Fa%3E%09Free%0Af_autofe_div_0b384b21%090.0059%09100.0%091.6152,%200.7269,%201.5159%09Upgini%09AutoFE%3A%20features%20from%20%3Ca%20href%3D%27https%3A%2F%2Fupgini.com%2F%23data_sources%27%20target%3D%27_blank%27%20rel%3D%27noopener%20noreferrer%27%3EMarkets%20data%3C%2Fa%3E%09Free%0Af_autofe_div_04d9bc60%090.0056%09100.0%09-0.7272,%200.5961,%200.8893%09Upgini%09AutoFE%3A%20features%20from%20%3Ca%20href%3D%27https%3A%2F%2Fupgini.com%2F%23data_sources%27%20target%3D%27_blank%27%20rel%3D%27noopener%20noreferrer%27%3ECalendar%20data%3C%2Fa%3E,%3Ca%20href%3D%27https%3A%2F%2Fupgini.com%2F%23data_sources%27%20target%3D%27_blank%27%20rel%3D%27noopener%20noreferrer%27%3EMarkets%20data%3C%2Fa%3E%09Free%0Af_autofe_div_d6db5d7a%090.0054%09100.0%09-0.9246,%200.5528,%200.7115%09Upgini%09AutoFE%3A%20features%20from%20%3Ca%20href%3D%27https%3A%2F%2Fupgini.com%2F%23data_sources%27%20target%3D%27_blank%27%20rel%3D%27noopener%20noreferrer%27%3ECalendar%20data%3C%2Fa%3E,%3Ca%20href%3D%27https%3A%2F%2Fupgini.com%2F%23data_sources%27%20target%3D%27_blank%27%20rel%3D%27noopener%20noreferrer%27%3EMarkets%20data%3C%2Fa%3E%09Free%0Af_autofe_div_1ce27d18%090.004%09100.0%090.3893,%20-0.386,%20-0.9177%09Upgini%09AutoFE%3A%20features%20from%20%3Ca%20href%3D%27https%3A%2F%2Fupgini.com%2F%23data_sources%27%20target%3D%27_blank%27%20rel%3D%27noopener%20noreferrer%27%3ECalendar%20data%3C%2Fa%3E,%3Ca%20href%3D%27https%3A%2F%2Fupgini.com%2F%23data_sources%27%20target%3D%27_blank%27%20rel%3D%27noopener%20noreferrer%27%3EMarkets%20data%3C%2Fa%3E%09Free%0Af_autofe_div_e8cdf4c5%090.0035%0985.31547320981471%092.3018,%201.0244,%200.2133%09Upgini%09AutoFE%3A%20features%20from%20%3Ca%20href%3D%27https%3A%2F%2Fupgini.com%2F%23data_sources%27%20target%3D%27_blank%27%20rel%3D%27noopener%20noreferrer%27%3ECalendar%20data%3C%2Fa%3E%09Free%0Af_autofe_div_67b4a230%090.0031%09100.0%09-0.1925,%20-0.2134,%20-0.8278%09Upgini%09AutoFE%3A%20features%20from%20%3Ca%20href%3D%27https%3A%2F%2Fupgini.com%2F%23data_sources%27%20target%3D%27_blank%27%20rel%3D%27noopener%20noreferrer%27%3ECalendar%20data%3C%2Fa%3E,%3Ca%20href%3D%27https%3A%2F%2Fupgini.com%2F%23data_sources%27%20target%3D%27_blank%27%20rel%3D%27noopener%20noreferrer%27%3EMarkets%20data%3C%2Fa%3E%09Free%0Af_events_date_year_cos1_9014a856%090.0031%09100.0%090.1114,%20-0.9357,%200.4054%09Upgini%09Calendar%20data%09Free%0Af_weather_date_weather_umap_12_d03be9a0%090.0031%09100.0%095.9983,%205.7035,%204.859%09Upgini%09Weather%20%26%20climate%20normals%20data%09Premium%0Af_autofe_div_3e22df83%090.003%09100.0%090.0163,%20-0.0078,%20-0.0157%09Upgini%09AutoFE%3A%20features%20from%20%3Ca%20href%3D%27https%3A%2F%2Fupgini.com%2F%23data_sources%27%20target%3D%27_blank%27%20rel%3D%27noopener%20noreferrer%27%3ECalendar%20data%3C%2Fa%3E,%3Ca%20href%3D%27https%3A%2F%2Fupgini.com%2F%23data_sources%27%20target%3D%27_blank%27%20rel%3D%27noopener%20noreferrer%27%3EMarkets%20data%3C%2Fa%3E%09Free%0Af_weather_date_weather_umap_16_25ac8b87%090.0028%09100.0%096.0696,%206.3268,%206.1219%09Upgini%09Weather%20%26%20climate%20normals%20data%09Premium%0Af_autofe_mul_25296268%090.0022%09100.0%090.8545,%20-0.3978,%200.6343%09Upgini%09AutoFE%3A%20features%20from%20%3Ca%20href%3D%27https%3A%2F%2Fupgini.com%2F%23data_sources%27%20target%3D%27_blank%27%20rel%3D%27noopener%20noreferrer%27%3ECalendar%20data%3C%2Fa%3E,%3Ca%20href%3D%27https%3A%2F%2Fupgini.com%2F%23data_sources%27%20target%3D%27_blank%27%20rel%3D%27noopener%20noreferrer%27%3EMarkets%20data%3C%2Fa%3E%09Free%0Af_autofe_mul_08e89348%090.002%09100.0%09-94.7922,%2073.0621,%2037.3202%09Upgini%09AutoFE%3A%20features%20from%20%3Ca%20href%3D%27https%3A%2F%2Fupgini.com%2F%23data_sources%27%20target%3D%27_blank%27%20rel%3D%27noopener%20noreferrer%27%3ECalendar%20data%3C%2Fa%3E,%3Ca%20href%3D%27https%3A%2F%2Fupgini.com%2F%23data_sources%27%20target%3D%27_blank%27%20rel%3D%27noopener%20noreferrer%27%3EMarkets%20data%3C%2Fa%3E%09Free%0Af_autofe_mul_0cc09d2d%090.0019%09100.0%09-1.8462,%2029.7593,%20-1.8462%09Upgini%09AutoFE%3A%20features%20from%20%3Ca%20href%3D%27https%3A%2F%2Fupgini.com%2F%23data_sources%27%20target%3D%27_blank%27%20rel%3D%27noopener%20noreferrer%27%3ECalendar%20data%3C%2Fa%3E,%3Ca%20href%3D%27https%3A%2F%2Fupgini.com%2F%23data_sources%27%20target%3D%27_blank%27%20rel%3D%27noopener%20noreferrer%27%3EMarkets%20data%3C%2Fa%3E%09Free%0Af_autofe_mul_52933c24%090.0018%09100.0%09-0.2076,%20-0.068,%20-0.7675%09Upgini%09AutoFE%3A%20features%20from%20%3Ca%20href%3D%27https%3A%2F%2Fupgini.com%2F%23data_sources%27%20target%3D%27_blank%27%20rel%3D%27noopener%20noreferrer%27%3ECalendar%20data%3C%2Fa%3E,%3Ca%20href%3D%27https%3A%2F%2Fupgini.com%2F%23data_sources%27%20target%3D%27_blank%27%20rel%3D%27noopener%20noreferrer%27%3EMarkets%20data%3C%2Fa%3E%09Free%0Af_autofe_mul_b2bfad41%090.0017%09100.0%090.8169,%200.545,%200.5115%09Upgini%09AutoFE%3A%20features%20from%20%3Ca%20href%3D%27https%3A%2F%2Fupgini.com%2F%23data_sources%27%20target%3D%27_blank%27%20rel%3D%27noopener%20noreferrer%27%3ECalendar%20data%3C%2Fa%3E,%3Ca%20href%3D%27https%3A%2F%2Fupgini.com%2F%23data_sources%27%20target%3D%27_blank%27%20rel%3D%27noopener%20noreferrer%27%3EMarkets%20data%3C%2Fa%3E%09Free%0Af_autofe_mul_f5777239%090.0017%09100.0%091.5213,%200.643,%200.3215%09Upgini%09AutoFE%3A%20features%20from%20%3Ca%20href%3D%27https%3A%2F%2Fupgini.com%2F%23data_sources%27%20target%3D%27_blank%27%20rel%3D%27noopener%20noreferrer%27%3ECalendar%20data%3C%2Fa%3E,%3Ca%20href%3D%27https%3A%2F%2Fupgini.com%2F%23data_sources%27%20target%3D%27_blank%27%20rel%3D%27noopener%20noreferrer%27%3EMarkets%20data%3C%2Fa%3E%09Free%0Af_autofe_div_fb99ff57%090.0016%09100.0%09327.9377,%20322.3393,%20323.8283%09Upgini%09AutoFE%3A%20features%20from%20%3Ca%20href%3D%27https%3A%2F%2Fupgini.com%2F%23data_sources%27%20target%3D%27_blank%27%20rel%3D%27noopener%20noreferrer%27%3EMarkets%20data%3C%2Fa%3E%09Free%0Af_weather_date_weather_pca_1_9e4af931%090.0013%09100.0%09-5.365,%2016.3087,%20-3.7573%09Upgini%09Weather%20%26%20climate%20normals%20data%09Premium%0Af_weather_date_weather_umap_13_842ae1fc%090.0012%09100.0%094.798,%205.3328,%204.524%09Upgini%09Weather%20%26%20climate%20normals%20data%09Premium%0Af_autofe_div_f554dfdc%090.0012%0968.52779168753129%090.0081,%20-0.0867,%20-0.2004%09Upgini%09AutoFE%3A%20features%20from%20%3Ca%20href%3D%27https%3A%2F%2Fupgini.com%2F%23data_sources%27%20target%3D%27_blank%27%20rel%3D%27noopener%20noreferrer%27%3ECalendar%20data%3C%2Fa%3E,%3Ca%20href%3D%27https%3A%2F%2Fupgini.com%2F%23data_sources%27%20target%3D%27_blank%27%20rel%3D%27noopener%20noreferrer%27%3EMarkets%20data%3C%2Fa%3E%09Free%0Af_weather_date_weather_umap_30_898d12c4%090.0012%09100.0%094.9664,%204.954,%204.9767%09Upgini%09Weather%20%26%20climate%20normals%20data%09Premium%0Af_autofe_mul_5388a2c0%090.0011%09100.0%091.2581,%201.1363,%200.7607%09Upgini%09AutoFE%3A%20features%20from%20%3Ca%20href%3D%27https%3A%2F%2Fupgini.com%2F%23data_sources%27%20target%3D%27_blank%27%20rel%3D%27noopener%20noreferrer%27%3EMarkets%20data%3C%2Fa%3E%09Free%0Af_financial_date_nasdaq_7d_to_1y_autofe_residual_65f21712%090.0011%09100.0%090.1196,%200.0701,%200.0427%09Upgini%09AutoFE%3A%20feature%20from%20%3Ca%20href%3D%27https%3A%2F%2Fupgini.com%2F%23data_sources%27%20target%3D%27_blank%27%20rel%3D%27noopener%20noreferrer%27%3EMarkets%20data%3C%2Fa%3E%09Free%0Af_autofe_div_9151e6df%090.001%09100.0%090.9471,%200.9224,%200.862%09Upgini%09AutoFE%3A%20features%20from%20%3Ca%20href%3D%27https%3A%2F%2Fupgini.com%2F%23data_sources%27%20target%3D%27_blank%27%20rel%3D%27noopener%20noreferrer%27%3EMarkets%20data%3C%2Fa%3E%09Free%0Af_autofe_mul_c6f59861%090.0009%09100.0%091.1553,%200.5618,%200.8279%09Upgini%09AutoFE%3A%20features%20from%20%3Ca%20href%3D%27https%3A%2F%2Fupgini.com%2F%23data_sources%27%20target%3D%27_blank%27%20rel%3D%27noopener%20noreferrer%27%3EMarkets%20data%3C%2Fa%3E%09Free%0Af_autofe_mul_a3d814ec%090.0009%09100.0%09-0.4896,%20-0.1218,%20-0.2753%09Upgini%09AutoFE%3A%20features%20from%20%3Ca%20href%3D%27https%3A%2F%2Fupgini.com%2F%23data_sources%27%20target%3D%27_blank%27%20rel%3D%27noopener%20noreferrer%27%3ECalendar%20data%3C%2Fa%3E,%3Ca%20href%3D%27https%3A%2F%2Fupgini.com%2F%23data_sources%27%20target%3D%27_blank%27%20rel%3D%27noopener%20noreferrer%27%3EMarkets%20data%3C%2Fa%3E%09Free%0Af_autofe_mul_b0ac774f%090.0008%09100.0%091.0827,%20-0.8841,%201.303%09Upgini%09AutoFE%3A%20features%20from%20%3Ca%20href%3D%27https%3A%2F%2Fupgini.com%2F%23data_sources%27%20target%3D%27_blank%27%20rel%3D%27noopener%20noreferrer%27%3ECalendar%20data%3C%2Fa%3E,%3Ca%20href%3D%27https%3A%2F%2Fupgini.com%2F%23data_sources%27%20target%3D%27_blank%27%20rel%3D%27noopener%20noreferrer%27%3EMarkets%20data%3C%2Fa%3E%09Free%0Af_autofe_div_440201e6%090.0008%0963.20731096644967%092.7814,%201.309,%20-4.2903%09Upgini%09AutoFE%3A%20features%20from%20%3Ca%20href%3D%27https%3A%2F%2Fupgini.com%2F%23data_sources%27%20target%3D%27_blank%27%20rel%3D%27noopener%20noreferrer%27%3ECalendar%20data%3C%2Fa%3E,%3Ca%20href%3D%27https%3A%2F%2Fupgini.com%2F%23data_sources%27%20target%3D%27_blank%27%20rel%3D%27noopener%20noreferrer%27%3EMarkets%20data%3C%2Fa%3E%09Free%0Af_autofe_mul_041b52f4%090.0007%09100.0%09-0.7496,%20-0.1538,%20-0.7568%09Upgini%09AutoFE%3A%20features%20from%20%3Ca%20href%3D%27https%3A%2F%2Fupgini.com%2F%23data_sources%27%20target%3D%27_blank%27%20rel%3D%27noopener%20noreferrer%27%3ECalendar%20data%3C%2Fa%3E%09Free%0Af_autofe_div_0a9c9355%090.0007%0985.31547320981471%09-0.0,%201.8646,%20-0.8298%09Upgini%09AutoFE%3A%20features%20from%20%3Ca%20href%3D%27https%3A%2F%2Fupgini.com%2F%23data_sources%27%20target%3D%27_blank%27%20rel%3D%27noopener%20noreferrer%27%3ECalendar%20data%3C%2Fa%3E%09Free%0Af_weather_date_weather_umap_35_5ddaa0ba%090.0007%09100.0%095.0152,%204.7364,%204.8105%09Upgini%09Weather%20%26%20climate%20normals%20data%09Premium%0Af_autofe_div_48404110%090.0007%0985.31547320981471%091.2204,%200.8419,%200.5426%09Upgini%09AutoFE%3A%20features%20from%20%3Ca%20href%3D%27https%3A%2F%2Fupgini.com%2F%23data_sources%27%20target%3D%27_blank%27%20rel%3D%27noopener%20noreferrer%27%3ECalendar%20data%3C%2Fa%3E%09Free%0Af_autofe_div_270d64a2%090.0006%09100.0%090.6021,%20-1.2448,%200.6119%09Upgini%09AutoFE%3A%20features%20from%20%3Ca%20href%3D%27https%3A%2F%2Fupgini.com%2F%23data_sources%27%20target%3D%27_blank%27%20rel%3D%27noopener%20noreferrer%27%3ECalendar%20data%3C%2Fa%3E,%3Ca%20href%3D%27https%3A%2F%2Fupgini.com%2F%23data_sources%27%20target%3D%27_blank%27%20rel%3D%27noopener%20noreferrer%27%3EMarkets%20data%3C%2Fa%3E%09Free%0Af_autofe_mul_0062f3ed%090.0006%09100.0%09-17.6461,%2045.6851,%2080.771%09Upgini%09AutoFE%3A%20features%20from%20%3Ca%20href%3D%27https%3A%2F%2Fupgini.com%2F%23data_sources%27%20target%3D%27_blank%27%20rel%3D%27noopener%20noreferrer%27%3ECalendar%20data%3C%2Fa%3E,%3Ca%20href%3D%27https%3A%2F%2Fupgini.com%2F%23data_sources%27%20target%3D%27_blank%27%20rel%3D%27noopener%20noreferrer%27%3EMarkets%20data%3C%2Fa%3E%09Free%0Af_autofe_mul_3f4a1860%090.0005%09100.0%09-0.3821,%20-0.5378,%20-0.7754%09Upgini%09AutoFE%3A%20features%20from%20%3Ca%20href%3D%27https%3A%2F%2Fupgini.com%2F%23data_sources%27%20target%3D%27_blank%27%20rel%3D%27noopener%20noreferrer%27%3ECalendar%20data%3C%2Fa%3E,%3Ca%20href%3D%27https%3A%2F%2Fupgini.com%2F%23data_sources%27%20target%3D%27_blank%27%20rel%3D%27noopener%20noreferrer%27%3EMarkets%20data%3C%2Fa%3E%09Free%0Af_autofe_mul_a77d0e6c%090.0005%09100.0%0953.7782,%2077.0921,%2054.476%09Upgini%09AutoFE%3A%20features%20from%20%3Ca%20href%3D%27https%3A%2F%2Fupgini.com%2F%23data_sources%27%20target%3D%27_blank%27%20rel%3D%27noopener%20noreferrer%27%3EMarkets%20data%3C%2Fa%3E%09Free%0Af_autofe_mul_53b94336%090.0004%09100.0%09-0.0223,%20-0.2693,%200.1738%09Upgini%09AutoFE%3A%20features%20from%20%3Ca%20href%3D%27https%3A%2F%2Fupgini.com%2F%23data_sources%27%20target%3D%27_blank%27%20rel%3D%27noopener%20noreferrer%27%3ECalendar%20data%3C%2Fa%3E%09Free%0Af_autofe_div_e939fcf8%090.0004%09100.0%090.6797,%20-0.2325,%20-1.0506%09Upgini%09AutoFE%3A%20features%20from%20%3Ca%20href%3D%27https%3A%2F%2Fupgini.com%2F%23data_sources%27%20target%3D%27_blank%27%20rel%3D%27noopener%20noreferrer%27%3ECalendar%20data%3C%2Fa%3E,%3Ca%20href%3D%27https%3A%2F%2Fupgini.com%2F%23data_sources%27%20target%3D%27_blank%27%20rel%3D%27noopener%20noreferrer%27%3EMarkets%20data%3C%2Fa%3E%09Free%0Af_autofe_mul_c094face%090.0004%09100.0%090.0535,%20-0.4977,%200.0821%09Upgini%09AutoFE%3A%20features%20from%20%3Ca%20href%3D%27https%3A%2F%2Fupgini.com%2F%23data_sources%27%20target%3D%27_blank%27%20rel%3D%27noopener%20noreferrer%27%3ECalendar%20data%3C%2Fa%3E%09Free%0Af_economic_date_cbpol_pca_1_31e5f62c%090.0004%09100.0%09-2.783,%20-3.4621,%20-1.9868%09Upgini%09World%20economic%20indicators%09Free%0Af_weather_date_weather_umap_4_0c0d6662%090.0004%09100.0%094.7461,%205.2671,%204.7812%09Upgini%09Weather%20%26%20climate%20normals%20data%09Premium%0A'>\n",
              "                    <button>📨 Share</button>\n",
              "                </a>\n",
              "            </div>\n",
              "            <table class='upgini-df'><thead><th>Feature name</th><th>SHAP value</th><th>Coverage %</th><th>Value preview</th><th>Provider</th><th>Source</th><th>Feature type</th></thead><tbody><tr><td class='upgini-text'><a href='https://docs.upgini.com/public/weather/weather_umap#f_weather_date_weather_umap_48_b39cd0c4' target='_blank' rel='noopener noreferrer'>f_weather_date_weather_umap_48_b39cd0c4</a></td><td class='upgini-number'>0.0481</td><td class='upgini-number'>100.0000</td><td class='upgini-text'>5.0802, 4.88, 5.1556</td><td class='upgini-text'><a href='https://upgini.com' target='_blank' rel='noopener noreferrer'>Upgini</a></td><td class='upgini-text'><a href='https://upgini.com/#data_sources' target='_blank' rel='noopener noreferrer'>Weather & climate normals data</a></td><td class='upgini-text'>Premium</td></tr><tr><td class='upgini-text'><a href='https://docs.upgini.com/public/weather/weather_umap#f_weather_date_weather_umap_31_fa6d9a99' target='_blank' rel='noopener noreferrer'>f_weather_date_weather_umap_31_fa6d9a99</a></td><td class='upgini-number'>0.0448</td><td class='upgini-number'>100.0000</td><td class='upgini-text'>5.5616, 4.8025, 5.6095</td><td class='upgini-text'><a href='https://upgini.com' target='_blank' rel='noopener noreferrer'>Upgini</a></td><td class='upgini-text'><a href='https://upgini.com/#data_sources' target='_blank' rel='noopener noreferrer'>Weather & climate normals data</a></td><td class='upgini-text'>Premium</td></tr><tr><td class='upgini-text'>f_autofe_mul_16f51329</td><td class='upgini-number'>0.0178</td><td class='upgini-number'>100.0000</td><td class='upgini-text'>-0.7956, -0.4169, -0.321</td><td class='upgini-text'><a href='https://upgini.com' target='_blank' rel='noopener noreferrer'>Upgini</a></td><td class='upgini-text'>AutoFE: features from <a href='https://upgini.com/#data_sources' target='_blank' rel='noopener noreferrer'>Calendar data</a>,<a href='https://upgini.com/#data_sources' target='_blank' rel='noopener noreferrer'>Markets data</a></td><td class='upgini-text'>Free</td></tr><tr><td class='upgini-text'>f_autofe_div_20a12630</td><td class='upgini-number'>0.0142</td><td class='upgini-number'>100.0000</td><td class='upgini-text'>0.0075, 0.0023, -0.0091</td><td class='upgini-text'><a href='https://upgini.com' target='_blank' rel='noopener noreferrer'>Upgini</a></td><td class='upgini-text'>AutoFE: features from <a href='https://upgini.com/#data_sources' target='_blank' rel='noopener noreferrer'>Calendar data</a>,<a href='https://upgini.com/#data_sources' target='_blank' rel='noopener noreferrer'>Markets data</a></td><td class='upgini-text'>Free</td></tr><tr><td class='upgini-text'>f_autofe_div_cbf285e0</td><td class='upgini-number'>0.0120</td><td class='upgini-number'>100.0000</td><td class='upgini-text'>-0.8013, -0.0139, -0.2956</td><td class='upgini-text'><a href='https://upgini.com' target='_blank' rel='noopener noreferrer'>Upgini</a></td><td class='upgini-text'>AutoFE: features from <a href='https://upgini.com/#data_sources' target='_blank' rel='noopener noreferrer'>Calendar data</a>,<a href='https://upgini.com/#data_sources' target='_blank' rel='noopener noreferrer'>Markets data</a></td><td class='upgini-text'>Free</td></tr><tr><td class='upgini-text'>f_autofe_mul_6a97c336</td><td class='upgini-number'>0.0085</td><td class='upgini-number'>100.0000</td><td class='upgini-text'>0.4963, 0.7824, 0.5567</td><td class='upgini-text'><a href='https://upgini.com' target='_blank' rel='noopener noreferrer'>Upgini</a></td><td class='upgini-text'>AutoFE: features from <a href='https://upgini.com/#data_sources' target='_blank' rel='noopener noreferrer'>Calendar data</a>,<a href='https://upgini.com/#data_sources' target='_blank' rel='noopener noreferrer'>Markets data</a></td><td class='upgini-text'>Free</td></tr><tr><td class='upgini-text'>f_autofe_mul_28524d47</td><td class='upgini-number'>0.0074</td><td class='upgini-number'>100.0000</td><td class='upgini-text'>-0.0276, -0.7881, 0.7859</td><td class='upgini-text'><a href='https://upgini.com' target='_blank' rel='noopener noreferrer'>Upgini</a></td><td class='upgini-text'>AutoFE: features from <a href='https://upgini.com/#data_sources' target='_blank' rel='noopener noreferrer'>Calendar data</a>,<a href='https://upgini.com/#data_sources' target='_blank' rel='noopener noreferrer'>Markets data</a></td><td class='upgini-text'>Free</td></tr><tr><td class='upgini-text'>f_autofe_mul_af6d166b</td><td class='upgini-number'>0.0060</td><td class='upgini-number'>100.0000</td><td class='upgini-text'>-0.8251, 0.8978, -0.8576</td><td class='upgini-text'><a href='https://upgini.com' target='_blank' rel='noopener noreferrer'>Upgini</a></td><td class='upgini-text'>AutoFE: features from <a href='https://upgini.com/#data_sources' target='_blank' rel='noopener noreferrer'>Calendar data</a>,<a href='https://upgini.com/#data_sources' target='_blank' rel='noopener noreferrer'>Markets data</a></td><td class='upgini-text'>Free</td></tr><tr><td class='upgini-text'>f_autofe_div_0b384b21</td><td class='upgini-number'>0.0059</td><td class='upgini-number'>100.0000</td><td class='upgini-text'>1.6152, 0.7269, 1.5159</td><td class='upgini-text'><a href='https://upgini.com' target='_blank' rel='noopener noreferrer'>Upgini</a></td><td class='upgini-text'>AutoFE: features from <a href='https://upgini.com/#data_sources' target='_blank' rel='noopener noreferrer'>Markets data</a></td><td class='upgini-text'>Free</td></tr><tr><td class='upgini-text'>f_autofe_div_04d9bc60</td><td class='upgini-number'>0.0056</td><td class='upgini-number'>100.0000</td><td class='upgini-text'>-0.7272, 0.5961, 0.8893</td><td class='upgini-text'><a href='https://upgini.com' target='_blank' rel='noopener noreferrer'>Upgini</a></td><td class='upgini-text'>AutoFE: features from <a href='https://upgini.com/#data_sources' target='_blank' rel='noopener noreferrer'>Calendar data</a>,<a href='https://upgini.com/#data_sources' target='_blank' rel='noopener noreferrer'>Markets data</a></td><td class='upgini-text'>Free</td></tr><tr><td class='upgini-text'>f_autofe_div_d6db5d7a</td><td class='upgini-number'>0.0054</td><td class='upgini-number'>100.0000</td><td class='upgini-text'>-0.9246, 0.5528, 0.7115</td><td class='upgini-text'><a href='https://upgini.com' target='_blank' rel='noopener noreferrer'>Upgini</a></td><td class='upgini-text'>AutoFE: features from <a href='https://upgini.com/#data_sources' target='_blank' rel='noopener noreferrer'>Calendar data</a>,<a href='https://upgini.com/#data_sources' target='_blank' rel='noopener noreferrer'>Markets data</a></td><td class='upgini-text'>Free</td></tr><tr><td class='upgini-text'>f_autofe_div_1ce27d18</td><td class='upgini-number'>0.0040</td><td class='upgini-number'>100.0000</td><td class='upgini-text'>0.3893, -0.386, -0.9177</td><td class='upgini-text'><a href='https://upgini.com' target='_blank' rel='noopener noreferrer'>Upgini</a></td><td class='upgini-text'>AutoFE: features from <a href='https://upgini.com/#data_sources' target='_blank' rel='noopener noreferrer'>Calendar data</a>,<a href='https://upgini.com/#data_sources' target='_blank' rel='noopener noreferrer'>Markets data</a></td><td class='upgini-text'>Free</td></tr><tr><td class='upgini-text'>f_autofe_div_e8cdf4c5</td><td class='upgini-number'>0.0035</td><td class='upgini-number'>85.3155</td><td class='upgini-text'>2.3018, 1.0244, 0.2133</td><td class='upgini-text'><a href='https://upgini.com' target='_blank' rel='noopener noreferrer'>Upgini</a></td><td class='upgini-text'>AutoFE: features from <a href='https://upgini.com/#data_sources' target='_blank' rel='noopener noreferrer'>Calendar data</a></td><td class='upgini-text'>Free</td></tr><tr><td class='upgini-text'>f_autofe_div_67b4a230</td><td class='upgini-number'>0.0031</td><td class='upgini-number'>100.0000</td><td class='upgini-text'>-0.1925, -0.2134, -0.8278</td><td class='upgini-text'><a href='https://upgini.com' target='_blank' rel='noopener noreferrer'>Upgini</a></td><td class='upgini-text'>AutoFE: features from <a href='https://upgini.com/#data_sources' target='_blank' rel='noopener noreferrer'>Calendar data</a>,<a href='https://upgini.com/#data_sources' target='_blank' rel='noopener noreferrer'>Markets data</a></td><td class='upgini-text'>Free</td></tr><tr><td class='upgini-text'><a href='https://docs.upgini.com/public/calendar/calendar#f_events_date_year_cos1_9014a856' target='_blank' rel='noopener noreferrer'>f_events_date_year_cos1_9014a856</a></td><td class='upgini-number'>0.0031</td><td class='upgini-number'>100.0000</td><td class='upgini-text'>0.1114, -0.9357, 0.4054</td><td class='upgini-text'><a href='https://upgini.com' target='_blank' rel='noopener noreferrer'>Upgini</a></td><td class='upgini-text'><a href='https://upgini.com/#data_sources' target='_blank' rel='noopener noreferrer'>Calendar data</a></td><td class='upgini-text'>Free</td></tr><tr><td class='upgini-text'><a href='https://docs.upgini.com/public/weather/weather_umap#f_weather_date_weather_umap_12_d03be9a0' target='_blank' rel='noopener noreferrer'>f_weather_date_weather_umap_12_d03be9a0</a></td><td class='upgini-number'>0.0031</td><td class='upgini-number'>100.0000</td><td class='upgini-text'>5.9983, 5.7035, 4.859</td><td class='upgini-text'><a href='https://upgini.com' target='_blank' rel='noopener noreferrer'>Upgini</a></td><td class='upgini-text'><a href='https://upgini.com/#data_sources' target='_blank' rel='noopener noreferrer'>Weather & climate normals data</a></td><td class='upgini-text'>Premium</td></tr><tr><td class='upgini-text'>f_autofe_div_3e22df83</td><td class='upgini-number'>0.0030</td><td class='upgini-number'>100.0000</td><td class='upgini-text'>0.0163, -0.0078, -0.0157</td><td class='upgini-text'><a href='https://upgini.com' target='_blank' rel='noopener noreferrer'>Upgini</a></td><td class='upgini-text'>AutoFE: features from <a href='https://upgini.com/#data_sources' target='_blank' rel='noopener noreferrer'>Calendar data</a>,<a href='https://upgini.com/#data_sources' target='_blank' rel='noopener noreferrer'>Markets data</a></td><td class='upgini-text'>Free</td></tr><tr><td class='upgini-text'><a href='https://docs.upgini.com/public/weather/weather_umap#f_weather_date_weather_umap_16_25ac8b87' target='_blank' rel='noopener noreferrer'>f_weather_date_weather_umap_16_25ac8b87</a></td><td class='upgini-number'>0.0028</td><td class='upgini-number'>100.0000</td><td class='upgini-text'>6.0696, 6.3268, 6.1219</td><td class='upgini-text'><a href='https://upgini.com' target='_blank' rel='noopener noreferrer'>Upgini</a></td><td class='upgini-text'><a href='https://upgini.com/#data_sources' target='_blank' rel='noopener noreferrer'>Weather & climate normals data</a></td><td class='upgini-text'>Premium</td></tr><tr><td class='upgini-text'>f_autofe_mul_25296268</td><td class='upgini-number'>0.0022</td><td class='upgini-number'>100.0000</td><td class='upgini-text'>0.8545, -0.3978, 0.6343</td><td class='upgini-text'><a href='https://upgini.com' target='_blank' rel='noopener noreferrer'>Upgini</a></td><td class='upgini-text'>AutoFE: features from <a href='https://upgini.com/#data_sources' target='_blank' rel='noopener noreferrer'>Calendar data</a>,<a href='https://upgini.com/#data_sources' target='_blank' rel='noopener noreferrer'>Markets data</a></td><td class='upgini-text'>Free</td></tr><tr><td class='upgini-text'>f_autofe_mul_08e89348</td><td class='upgini-number'>0.0020</td><td class='upgini-number'>100.0000</td><td class='upgini-text'>-94.7922, 73.0621, 37.3202</td><td class='upgini-text'><a href='https://upgini.com' target='_blank' rel='noopener noreferrer'>Upgini</a></td><td class='upgini-text'>AutoFE: features from <a href='https://upgini.com/#data_sources' target='_blank' rel='noopener noreferrer'>Calendar data</a>,<a href='https://upgini.com/#data_sources' target='_blank' rel='noopener noreferrer'>Markets data</a></td><td class='upgini-text'>Free</td></tr><tr><td class='upgini-text'>f_autofe_mul_0cc09d2d</td><td class='upgini-number'>0.0019</td><td class='upgini-number'>100.0000</td><td class='upgini-text'>-1.8462, 29.7593, -1.8462</td><td class='upgini-text'><a href='https://upgini.com' target='_blank' rel='noopener noreferrer'>Upgini</a></td><td class='upgini-text'>AutoFE: features from <a href='https://upgini.com/#data_sources' target='_blank' rel='noopener noreferrer'>Calendar data</a>,<a href='https://upgini.com/#data_sources' target='_blank' rel='noopener noreferrer'>Markets data</a></td><td class='upgini-text'>Free</td></tr><tr><td class='upgini-text'>f_autofe_mul_52933c24</td><td class='upgini-number'>0.0018</td><td class='upgini-number'>100.0000</td><td class='upgini-text'>-0.2076, -0.068, -0.7675</td><td class='upgini-text'><a href='https://upgini.com' target='_blank' rel='noopener noreferrer'>Upgini</a></td><td class='upgini-text'>AutoFE: features from <a href='https://upgini.com/#data_sources' target='_blank' rel='noopener noreferrer'>Calendar data</a>,<a href='https://upgini.com/#data_sources' target='_blank' rel='noopener noreferrer'>Markets data</a></td><td class='upgini-text'>Free</td></tr><tr><td class='upgini-text'>f_autofe_mul_b2bfad41</td><td class='upgini-number'>0.0017</td><td class='upgini-number'>100.0000</td><td class='upgini-text'>0.8169, 0.545, 0.5115</td><td class='upgini-text'><a href='https://upgini.com' target='_blank' rel='noopener noreferrer'>Upgini</a></td><td class='upgini-text'>AutoFE: features from <a href='https://upgini.com/#data_sources' target='_blank' rel='noopener noreferrer'>Calendar data</a>,<a href='https://upgini.com/#data_sources' target='_blank' rel='noopener noreferrer'>Markets data</a></td><td class='upgini-text'>Free</td></tr><tr><td class='upgini-text'>f_autofe_mul_f5777239</td><td class='upgini-number'>0.0017</td><td class='upgini-number'>100.0000</td><td class='upgini-text'>1.5213, 0.643, 0.3215</td><td class='upgini-text'><a href='https://upgini.com' target='_blank' rel='noopener noreferrer'>Upgini</a></td><td class='upgini-text'>AutoFE: features from <a href='https://upgini.com/#data_sources' target='_blank' rel='noopener noreferrer'>Calendar data</a>,<a href='https://upgini.com/#data_sources' target='_blank' rel='noopener noreferrer'>Markets data</a></td><td class='upgini-text'>Free</td></tr><tr><td class='upgini-text'>f_autofe_div_fb99ff57</td><td class='upgini-number'>0.0016</td><td class='upgini-number'>100.0000</td><td class='upgini-text'>327.9377, 322.3393, 323.8283</td><td class='upgini-text'><a href='https://upgini.com' target='_blank' rel='noopener noreferrer'>Upgini</a></td><td class='upgini-text'>AutoFE: features from <a href='https://upgini.com/#data_sources' target='_blank' rel='noopener noreferrer'>Markets data</a></td><td class='upgini-text'>Free</td></tr><tr><td class='upgini-text'><a href='https://docs.upgini.com/public/weather/weather_pca#f_weather_date_weather_pca_1_9e4af931' target='_blank' rel='noopener noreferrer'>f_weather_date_weather_pca_1_9e4af931</a></td><td class='upgini-number'>0.0013</td><td class='upgini-number'>100.0000</td><td class='upgini-text'>-5.365, 16.3087, -3.7573</td><td class='upgini-text'><a href='https://upgini.com' target='_blank' rel='noopener noreferrer'>Upgini</a></td><td class='upgini-text'><a href='https://upgini.com/#data_sources' target='_blank' rel='noopener noreferrer'>Weather & climate normals data</a></td><td class='upgini-text'>Premium</td></tr><tr><td class='upgini-text'><a href='https://docs.upgini.com/public/weather/weather_umap#f_weather_date_weather_umap_13_842ae1fc' target='_blank' rel='noopener noreferrer'>f_weather_date_weather_umap_13_842ae1fc</a></td><td class='upgini-number'>0.0012</td><td class='upgini-number'>100.0000</td><td class='upgini-text'>4.798, 5.3328, 4.524</td><td class='upgini-text'><a href='https://upgini.com' target='_blank' rel='noopener noreferrer'>Upgini</a></td><td class='upgini-text'><a href='https://upgini.com/#data_sources' target='_blank' rel='noopener noreferrer'>Weather & climate normals data</a></td><td class='upgini-text'>Premium</td></tr><tr><td class='upgini-text'>f_autofe_div_f554dfdc</td><td class='upgini-number'>0.0012</td><td class='upgini-number'>68.5278</td><td class='upgini-text'>0.0081, -0.0867, -0.2004</td><td class='upgini-text'><a href='https://upgini.com' target='_blank' rel='noopener noreferrer'>Upgini</a></td><td class='upgini-text'>AutoFE: features from <a href='https://upgini.com/#data_sources' target='_blank' rel='noopener noreferrer'>Calendar data</a>,<a href='https://upgini.com/#data_sources' target='_blank' rel='noopener noreferrer'>Markets data</a></td><td class='upgini-text'>Free</td></tr><tr><td class='upgini-text'><a href='https://docs.upgini.com/public/weather/weather_umap#f_weather_date_weather_umap_30_898d12c4' target='_blank' rel='noopener noreferrer'>f_weather_date_weather_umap_30_898d12c4</a></td><td class='upgini-number'>0.0012</td><td class='upgini-number'>100.0000</td><td class='upgini-text'>4.9664, 4.954, 4.9767</td><td class='upgini-text'><a href='https://upgini.com' target='_blank' rel='noopener noreferrer'>Upgini</a></td><td class='upgini-text'><a href='https://upgini.com/#data_sources' target='_blank' rel='noopener noreferrer'>Weather & climate normals data</a></td><td class='upgini-text'>Premium</td></tr><tr><td class='upgini-text'>f_autofe_mul_5388a2c0</td><td class='upgini-number'>0.0011</td><td class='upgini-number'>100.0000</td><td class='upgini-text'>1.2581, 1.1363, 0.7607</td><td class='upgini-text'><a href='https://upgini.com' target='_blank' rel='noopener noreferrer'>Upgini</a></td><td class='upgini-text'>AutoFE: features from <a href='https://upgini.com/#data_sources' target='_blank' rel='noopener noreferrer'>Markets data</a></td><td class='upgini-text'>Free</td></tr><tr><td class='upgini-text'>f_financial_date_nasdaq_7d_to_1y_autofe_residual_65f21712</td><td class='upgini-number'>0.0011</td><td class='upgini-number'>100.0000</td><td class='upgini-text'>0.1196, 0.0701, 0.0427</td><td class='upgini-text'><a href='https://upgini.com' target='_blank' rel='noopener noreferrer'>Upgini</a></td><td class='upgini-text'>AutoFE: feature from <a href='https://upgini.com/#data_sources' target='_blank' rel='noopener noreferrer'>Markets data</a></td><td class='upgini-text'>Free</td></tr><tr><td class='upgini-text'>f_autofe_div_9151e6df</td><td class='upgini-number'>0.0010</td><td class='upgini-number'>100.0000</td><td class='upgini-text'>0.9471, 0.9224, 0.862</td><td class='upgini-text'><a href='https://upgini.com' target='_blank' rel='noopener noreferrer'>Upgini</a></td><td class='upgini-text'>AutoFE: features from <a href='https://upgini.com/#data_sources' target='_blank' rel='noopener noreferrer'>Markets data</a></td><td class='upgini-text'>Free</td></tr><tr><td class='upgini-text'>f_autofe_mul_c6f59861</td><td class='upgini-number'>0.0009</td><td class='upgini-number'>100.0000</td><td class='upgini-text'>1.1553, 0.5618, 0.8279</td><td class='upgini-text'><a href='https://upgini.com' target='_blank' rel='noopener noreferrer'>Upgini</a></td><td class='upgini-text'>AutoFE: features from <a href='https://upgini.com/#data_sources' target='_blank' rel='noopener noreferrer'>Markets data</a></td><td class='upgini-text'>Free</td></tr><tr><td class='upgini-text'>f_autofe_mul_a3d814ec</td><td class='upgini-number'>0.0009</td><td class='upgini-number'>100.0000</td><td class='upgini-text'>-0.4896, -0.1218, -0.2753</td><td class='upgini-text'><a href='https://upgini.com' target='_blank' rel='noopener noreferrer'>Upgini</a></td><td class='upgini-text'>AutoFE: features from <a href='https://upgini.com/#data_sources' target='_blank' rel='noopener noreferrer'>Calendar data</a>,<a href='https://upgini.com/#data_sources' target='_blank' rel='noopener noreferrer'>Markets data</a></td><td class='upgini-text'>Free</td></tr><tr><td class='upgini-text'>f_autofe_mul_b0ac774f</td><td class='upgini-number'>0.0008</td><td class='upgini-number'>100.0000</td><td class='upgini-text'>1.0827, -0.8841, 1.303</td><td class='upgini-text'><a href='https://upgini.com' target='_blank' rel='noopener noreferrer'>Upgini</a></td><td class='upgini-text'>AutoFE: features from <a href='https://upgini.com/#data_sources' target='_blank' rel='noopener noreferrer'>Calendar data</a>,<a href='https://upgini.com/#data_sources' target='_blank' rel='noopener noreferrer'>Markets data</a></td><td class='upgini-text'>Free</td></tr><tr><td class='upgini-text'>f_autofe_div_440201e6</td><td class='upgini-number'>0.0008</td><td class='upgini-number'>63.2073</td><td class='upgini-text'>2.7814, 1.309, -4.2903</td><td class='upgini-text'><a href='https://upgini.com' target='_blank' rel='noopener noreferrer'>Upgini</a></td><td class='upgini-text'>AutoFE: features from <a href='https://upgini.com/#data_sources' target='_blank' rel='noopener noreferrer'>Calendar data</a>,<a href='https://upgini.com/#data_sources' target='_blank' rel='noopener noreferrer'>Markets data</a></td><td class='upgini-text'>Free</td></tr><tr><td class='upgini-text'>f_autofe_mul_041b52f4</td><td class='upgini-number'>0.0007</td><td class='upgini-number'>100.0000</td><td class='upgini-text'>-0.7496, -0.1538, -0.7568</td><td class='upgini-text'><a href='https://upgini.com' target='_blank' rel='noopener noreferrer'>Upgini</a></td><td class='upgini-text'>AutoFE: features from <a href='https://upgini.com/#data_sources' target='_blank' rel='noopener noreferrer'>Calendar data</a></td><td class='upgini-text'>Free</td></tr><tr><td class='upgini-text'>f_autofe_div_0a9c9355</td><td class='upgini-number'>0.0007</td><td class='upgini-number'>85.3155</td><td class='upgini-text'>-0.0, 1.8646, -0.8298</td><td class='upgini-text'><a href='https://upgini.com' target='_blank' rel='noopener noreferrer'>Upgini</a></td><td class='upgini-text'>AutoFE: features from <a href='https://upgini.com/#data_sources' target='_blank' rel='noopener noreferrer'>Calendar data</a></td><td class='upgini-text'>Free</td></tr><tr><td class='upgini-text'><a href='https://docs.upgini.com/public/weather/weather_umap#f_weather_date_weather_umap_35_5ddaa0ba' target='_blank' rel='noopener noreferrer'>f_weather_date_weather_umap_35_5ddaa0ba</a></td><td class='upgini-number'>0.0007</td><td class='upgini-number'>100.0000</td><td class='upgini-text'>5.0152, 4.7364, 4.8105</td><td class='upgini-text'><a href='https://upgini.com' target='_blank' rel='noopener noreferrer'>Upgini</a></td><td class='upgini-text'><a href='https://upgini.com/#data_sources' target='_blank' rel='noopener noreferrer'>Weather & climate normals data</a></td><td class='upgini-text'>Premium</td></tr><tr><td class='upgini-text'>f_autofe_div_48404110</td><td class='upgini-number'>0.0007</td><td class='upgini-number'>85.3155</td><td class='upgini-text'>1.2204, 0.8419, 0.5426</td><td class='upgini-text'><a href='https://upgini.com' target='_blank' rel='noopener noreferrer'>Upgini</a></td><td class='upgini-text'>AutoFE: features from <a href='https://upgini.com/#data_sources' target='_blank' rel='noopener noreferrer'>Calendar data</a></td><td class='upgini-text'>Free</td></tr><tr><td class='upgini-text'>f_autofe_div_270d64a2</td><td class='upgini-number'>0.0006</td><td class='upgini-number'>100.0000</td><td class='upgini-text'>0.6021, -1.2448, 0.6119</td><td class='upgini-text'><a href='https://upgini.com' target='_blank' rel='noopener noreferrer'>Upgini</a></td><td class='upgini-text'>AutoFE: features from <a href='https://upgini.com/#data_sources' target='_blank' rel='noopener noreferrer'>Calendar data</a>,<a href='https://upgini.com/#data_sources' target='_blank' rel='noopener noreferrer'>Markets data</a></td><td class='upgini-text'>Free</td></tr><tr><td class='upgini-text'>f_autofe_mul_0062f3ed</td><td class='upgini-number'>0.0006</td><td class='upgini-number'>100.0000</td><td class='upgini-text'>-17.6461, 45.6851, 80.771</td><td class='upgini-text'><a href='https://upgini.com' target='_blank' rel='noopener noreferrer'>Upgini</a></td><td class='upgini-text'>AutoFE: features from <a href='https://upgini.com/#data_sources' target='_blank' rel='noopener noreferrer'>Calendar data</a>,<a href='https://upgini.com/#data_sources' target='_blank' rel='noopener noreferrer'>Markets data</a></td><td class='upgini-text'>Free</td></tr><tr><td class='upgini-text'>f_autofe_mul_3f4a1860</td><td class='upgini-number'>0.0005</td><td class='upgini-number'>100.0000</td><td class='upgini-text'>-0.3821, -0.5378, -0.7754</td><td class='upgini-text'><a href='https://upgini.com' target='_blank' rel='noopener noreferrer'>Upgini</a></td><td class='upgini-text'>AutoFE: features from <a href='https://upgini.com/#data_sources' target='_blank' rel='noopener noreferrer'>Calendar data</a>,<a href='https://upgini.com/#data_sources' target='_blank' rel='noopener noreferrer'>Markets data</a></td><td class='upgini-text'>Free</td></tr><tr><td class='upgini-text'>f_autofe_mul_a77d0e6c</td><td class='upgini-number'>0.0005</td><td class='upgini-number'>100.0000</td><td class='upgini-text'>53.7782, 77.0921, 54.476</td><td class='upgini-text'><a href='https://upgini.com' target='_blank' rel='noopener noreferrer'>Upgini</a></td><td class='upgini-text'>AutoFE: features from <a href='https://upgini.com/#data_sources' target='_blank' rel='noopener noreferrer'>Markets data</a></td><td class='upgini-text'>Free</td></tr><tr><td class='upgini-text'>f_autofe_mul_53b94336</td><td class='upgini-number'>0.0004</td><td class='upgini-number'>100.0000</td><td class='upgini-text'>-0.0223, -0.2693, 0.1738</td><td class='upgini-text'><a href='https://upgini.com' target='_blank' rel='noopener noreferrer'>Upgini</a></td><td class='upgini-text'>AutoFE: features from <a href='https://upgini.com/#data_sources' target='_blank' rel='noopener noreferrer'>Calendar data</a></td><td class='upgini-text'>Free</td></tr><tr><td class='upgini-text'>f_autofe_div_e939fcf8</td><td class='upgini-number'>0.0004</td><td class='upgini-number'>100.0000</td><td class='upgini-text'>0.6797, -0.2325, -1.0506</td><td class='upgini-text'><a href='https://upgini.com' target='_blank' rel='noopener noreferrer'>Upgini</a></td><td class='upgini-text'>AutoFE: features from <a href='https://upgini.com/#data_sources' target='_blank' rel='noopener noreferrer'>Calendar data</a>,<a href='https://upgini.com/#data_sources' target='_blank' rel='noopener noreferrer'>Markets data</a></td><td class='upgini-text'>Free</td></tr><tr><td class='upgini-text'>f_autofe_mul_c094face</td><td class='upgini-number'>0.0004</td><td class='upgini-number'>100.0000</td><td class='upgini-text'>0.0535, -0.4977, 0.0821</td><td class='upgini-text'><a href='https://upgini.com' target='_blank' rel='noopener noreferrer'>Upgini</a></td><td class='upgini-text'>AutoFE: features from <a href='https://upgini.com/#data_sources' target='_blank' rel='noopener noreferrer'>Calendar data</a></td><td class='upgini-text'>Free</td></tr><tr><td class='upgini-text'><a href='https://docs.upgini.com/public/economics/cbpol_pca#f_economic_date_cbpol_pca_1_31e5f62c' target='_blank' rel='noopener noreferrer'>f_economic_date_cbpol_pca_1_31e5f62c</a></td><td class='upgini-number'>0.0004</td><td class='upgini-number'>100.0000</td><td class='upgini-text'>-2.783, -3.4621, -1.9868</td><td class='upgini-text'><a href='https://upgini.com' target='_blank' rel='noopener noreferrer'>Upgini</a></td><td class='upgini-text'><a href='https://upgini.com/#data_sources' target='_blank' rel='noopener noreferrer'>World economic indicators</a></td><td class='upgini-text'>Free</td></tr><tr><td class='upgini-text'><a href='https://docs.upgini.com/public/weather/weather_umap#f_weather_date_weather_umap_4_0c0d6662' target='_blank' rel='noopener noreferrer'>f_weather_date_weather_umap_4_0c0d6662</a></td><td class='upgini-number'>0.0004</td><td class='upgini-number'>100.0000</td><td class='upgini-text'>4.7461, 5.2671, 4.7812</td><td class='upgini-text'><a href='https://upgini.com' target='_blank' rel='noopener noreferrer'>Upgini</a></td><td class='upgini-text'><a href='https://upgini.com/#data_sources' target='_blank' rel='noopener noreferrer'>Weather & climate normals data</a></td><td class='upgini-text'>Premium</td></tr></tbody></table>\n",
              "        </div>\n",
              "        "
            ]
          },
          "metadata": {}
        },
        {
          "output_type": "display_data",
          "data": {
            "text/plain": [
              "<IPython.core.display.HTML object>"
            ],
            "text/html": [
              "<style>\n",
              "            .upgini-df thead th {\n",
              "                font-weight:bold;\n",
              "                text-align: center;\n",
              "                padding: 0.5em;\n",
              "                border-bottom: 2px solid black;\n",
              "            }\n",
              "\n",
              "            .upgini-df tbody td {\n",
              "                padding: 0.5em;\n",
              "            }\n",
              "\n",
              "            .upgini-df tbody tr:nth-child(odd) {\n",
              "                background-color: #ffffff;\n",
              "            }\n",
              "\n",
              "            .upgini-df tbody tr:nth-child(even) {\n",
              "                background-color: #f2f2f2;\n",
              "            }\n",
              "\n",
              "            .upgini-text {\n",
              "                text-align: left;\n",
              "            }\n",
              "\n",
              "            .upgini-number {\n",
              "                text-align: center;\n",
              "            }\n",
              "        </style>\n",
              "        <h2>Relevant data sources</h2>\n",
              "        <div style=\"display:flex; flex-direction:column; align-items:flex-end; width: fit-content;\">\n",
              "            <div style=\"text-align: right\">\n",
              "                <button onclick=navigator.clipboard.writeText(decodeURI('Provider%09Source%09All%20features%20SHAP%09Number%20of%20relevant%20features%0AUpgini%09AutoFE%3A%20features%20from%20%3Ca%20href%3D%27https%3A%2F%2Fupgini.com%2F%23data_sources%27%20target%3D%27_blank%27%20rel%3D%27noopener%20noreferrer%27%3ECalendar%20data%3C%2Fa%3E,%3Ca%20href%3D%27https%3A%2F%2Fupgini.com%2F%23data_sources%27%20target%3D%27_blank%27%20rel%3D%27noopener%20noreferrer%27%3EMarkets%20data%3C%2Fa%3E%090.1041%0925%0AUpgini%09Weather%20%26%20climate%20normals%20data%090.1036%099%0AUpgini%09AutoFE%3A%20features%20from%20%3Ca%20href%3D%27https%3A%2F%2Fupgini.com%2F%23data_sources%27%20target%3D%27_blank%27%20rel%3D%27noopener%20noreferrer%27%3EMarkets%20data%3C%2Fa%3E%090.011%096%0AUpgini%09AutoFE%3A%20features%20from%20%3Ca%20href%3D%27https%3A%2F%2Fupgini.com%2F%23data_sources%27%20target%3D%27_blank%27%20rel%3D%27noopener%20noreferrer%27%3ECalendar%20data%3C%2Fa%3E%090.0064%096%0AUpgini%09Calendar%20data%090.0031%091%0AUpgini%09AutoFE%3A%20feature%20from%20%3Ca%20href%3D%27https%3A%2F%2Fupgini.com%2F%23data_sources%27%20target%3D%27_blank%27%20rel%3D%27noopener%20noreferrer%27%3EMarkets%20data%3C%2Fa%3E%090.0011%091%0AUpgini%09World%20economic%20indicators%090.0004%091%0A'))>📂 Copy</button>\n",
              "                <a href='mailto:<Share with...>?subject=Relevant external data sources from Upgini.com&body=Provider%09Source%09All%20features%20SHAP%09Number%20of%20relevant%20features%0AUpgini%09AutoFE%3A%20features%20from%20%3Ca%20href%3D%27https%3A%2F%2Fupgini.com%2F%23data_sources%27%20target%3D%27_blank%27%20rel%3D%27noopener%20noreferrer%27%3ECalendar%20data%3C%2Fa%3E,%3Ca%20href%3D%27https%3A%2F%2Fupgini.com%2F%23data_sources%27%20target%3D%27_blank%27%20rel%3D%27noopener%20noreferrer%27%3EMarkets%20data%3C%2Fa%3E%090.1041%0925%0AUpgini%09Weather%20%26%20climate%20normals%20data%090.1036%099%0AUpgini%09AutoFE%3A%20features%20from%20%3Ca%20href%3D%27https%3A%2F%2Fupgini.com%2F%23data_sources%27%20target%3D%27_blank%27%20rel%3D%27noopener%20noreferrer%27%3EMarkets%20data%3C%2Fa%3E%090.011%096%0AUpgini%09AutoFE%3A%20features%20from%20%3Ca%20href%3D%27https%3A%2F%2Fupgini.com%2F%23data_sources%27%20target%3D%27_blank%27%20rel%3D%27noopener%20noreferrer%27%3ECalendar%20data%3C%2Fa%3E%090.0064%096%0AUpgini%09Calendar%20data%090.0031%091%0AUpgini%09AutoFE%3A%20feature%20from%20%3Ca%20href%3D%27https%3A%2F%2Fupgini.com%2F%23data_sources%27%20target%3D%27_blank%27%20rel%3D%27noopener%20noreferrer%27%3EMarkets%20data%3C%2Fa%3E%090.0011%091%0AUpgini%09World%20economic%20indicators%090.0004%091%0A'>\n",
              "                    <button>📨 Share</button>\n",
              "                </a>\n",
              "            </div>\n",
              "            <table class='upgini-df'><thead><th>Provider</th><th>Source</th><th>All features SHAP</th><th>Number of relevant features</th></thead><tbody><tr><td class='upgini-text'><a href='https://upgini.com' target='_blank' rel='noopener noreferrer'>Upgini</a></td><td class='upgini-text'>AutoFE: features from <a href='https://upgini.com/#data_sources' target='_blank' rel='noopener noreferrer'>Calendar data</a>,<a href='https://upgini.com/#data_sources' target='_blank' rel='noopener noreferrer'>Markets data</a></td><td class='upgini-number'>0.1041</td><td class='upgini-number'>25</td></tr><tr><td class='upgini-text'><a href='https://upgini.com' target='_blank' rel='noopener noreferrer'>Upgini</a></td><td class='upgini-text'><a href='https://upgini.com/#data_sources' target='_blank' rel='noopener noreferrer'>Weather & climate normals data</a></td><td class='upgini-number'>0.1036</td><td class='upgini-number'>9</td></tr><tr><td class='upgini-text'><a href='https://upgini.com' target='_blank' rel='noopener noreferrer'>Upgini</a></td><td class='upgini-text'>AutoFE: features from <a href='https://upgini.com/#data_sources' target='_blank' rel='noopener noreferrer'>Markets data</a></td><td class='upgini-number'>0.0110</td><td class='upgini-number'>6</td></tr><tr><td class='upgini-text'><a href='https://upgini.com' target='_blank' rel='noopener noreferrer'>Upgini</a></td><td class='upgini-text'>AutoFE: features from <a href='https://upgini.com/#data_sources' target='_blank' rel='noopener noreferrer'>Calendar data</a></td><td class='upgini-number'>0.0064</td><td class='upgini-number'>6</td></tr><tr><td class='upgini-text'><a href='https://upgini.com' target='_blank' rel='noopener noreferrer'>Upgini</a></td><td class='upgini-text'><a href='https://upgini.com/#data_sources' target='_blank' rel='noopener noreferrer'>Calendar data</a></td><td class='upgini-number'>0.0031</td><td class='upgini-number'>1</td></tr><tr><td class='upgini-text'><a href='https://upgini.com' target='_blank' rel='noopener noreferrer'>Upgini</a></td><td class='upgini-text'>AutoFE: feature from <a href='https://upgini.com/#data_sources' target='_blank' rel='noopener noreferrer'>Markets data</a></td><td class='upgini-number'>0.0011</td><td class='upgini-number'>1</td></tr><tr><td class='upgini-text'><a href='https://upgini.com' target='_blank' rel='noopener noreferrer'>Upgini</a></td><td class='upgini-text'><a href='https://upgini.com/#data_sources' target='_blank' rel='noopener noreferrer'>World economic indicators</a></td><td class='upgini-number'>0.0004</td><td class='upgini-number'>1</td></tr></tbody></table>\n",
              "        </div>\n",
              "        "
            ]
          },
          "metadata": {}
        },
        {
          "output_type": "display_data",
          "data": {
            "text/plain": [
              "<IPython.core.display.HTML object>"
            ],
            "text/html": [
              "<style>\n",
              "            .upgini-df thead th {\n",
              "                font-weight:bold;\n",
              "                text-align: center;\n",
              "                padding: 0.5em;\n",
              "                border-bottom: 2px solid black;\n",
              "            }\n",
              "\n",
              "            .upgini-df tbody td {\n",
              "                padding: 0.5em;\n",
              "            }\n",
              "\n",
              "            .upgini-df tbody tr:nth-child(odd) {\n",
              "                background-color: #ffffff;\n",
              "            }\n",
              "\n",
              "            .upgini-df tbody tr:nth-child(even) {\n",
              "                background-color: #f2f2f2;\n",
              "            }\n",
              "\n",
              "            .upgini-text {\n",
              "                text-align: left;\n",
              "            }\n",
              "\n",
              "            .upgini-number {\n",
              "                text-align: center;\n",
              "            }\n",
              "        </style>\n",
              "        <h2>*Description of AutoFE feature names</h2>\n",
              "        <div style=\"display:flex; flex-direction:column; align-items:flex-end; width: fit-content;\">\n",
              "            <div style=\"text-align: right\">\n",
              "                <button onclick=navigator.clipboard.writeText(decodeURI('Sources%09Feature%20name%09Feature%201%09Feature%202%09Function%0A%3Ca%20href%3D%27https%3A%2F%2Fupgini.com%2F%23data_sources%27%20target%3D%27_blank%27%20rel%3D%27noopener%20noreferrer%27%3ECalendar%20data%3C%2Fa%3E,%3Ca%20href%3D%27https%3A%2F%2Fupgini.com%2F%23data_sources%27%20target%3D%27_blank%27%20rel%3D%27noopener%20noreferrer%27%3EMarkets%20data%3C%2Fa%3E%09f_autofe_mul_16f51329%09f_events_date_week_sin1_847b5db1%09f_financial_date_gold_7d_to_7d_1y_shift_a8127a43%09%2A%0A%3Ca%20href%3D%27https%3A%2F%2Fupgini.com%2F%23data_sources%27%20target%3D%27_blank%27%20rel%3D%27noopener%20noreferrer%27%3ECalendar%20data%3C%2Fa%3E,%3Ca%20href%3D%27https%3A%2F%2Fupgini.com%2F%23data_sources%27%20target%3D%27_blank%27%20rel%3D%27noopener%20noreferrer%27%3EMarkets%20data%3C%2Fa%3E%09f_autofe_div_20a12630%09f_events_date_year_cos1_9014a856%09f_financial_date_crude_oil_1f195998%09%2F%0A%3Ca%20href%3D%27https%3A%2F%2Fupgini.com%2F%23data_sources%27%20target%3D%27_blank%27%20rel%3D%27noopener%20noreferrer%27%3ECalendar%20data%3C%2Fa%3E,%3Ca%20href%3D%27https%3A%2F%2Fupgini.com%2F%23data_sources%27%20target%3D%27_blank%27%20rel%3D%27noopener%20noreferrer%27%3EMarkets%20data%3C%2Fa%3E%09f_autofe_div_cbf285e0%09f_events_date_year_cos1_9014a856%09f_financial_date_gold_7d_to_7d_1y_shift_a8127a43%09%2F%0A%3Ca%20href%3D%27https%3A%2F%2Fupgini.com%2F%23data_sources%27%20target%3D%27_blank%27%20rel%3D%27noopener%20noreferrer%27%3ECalendar%20data%3C%2Fa%3E,%3Ca%20href%3D%27https%3A%2F%2Fupgini.com%2F%23data_sources%27%20target%3D%27_blank%27%20rel%3D%27noopener%20noreferrer%27%3EMarkets%20data%3C%2Fa%3E%09f_autofe_mul_6a97c336%09f_events_date_week_cos1_f6a8c1fc%09f_financial_date_vix_7d_to_1y_634c77eb%09%2A%0A%3Ca%20href%3D%27https%3A%2F%2Fupgini.com%2F%23data_sources%27%20target%3D%27_blank%27%20rel%3D%27noopener%20noreferrer%27%3ECalendar%20data%3C%2Fa%3E,%3Ca%20href%3D%27https%3A%2F%2Fupgini.com%2F%23data_sources%27%20target%3D%27_blank%27%20rel%3D%27noopener%20noreferrer%27%3EMarkets%20data%3C%2Fa%3E%09f_autofe_mul_28524d47%09f_events_date_year_cos1_9014a856%09f_financial_date_natural_gas_7d_to_1y_7a6f300d%09%2A%0A%3Ca%20href%3D%27https%3A%2F%2Fupgini.com%2F%23data_sources%27%20target%3D%27_blank%27%20rel%3D%27noopener%20noreferrer%27%3ECalendar%20data%3C%2Fa%3E,%3Ca%20href%3D%27https%3A%2F%2Fupgini.com%2F%23data_sources%27%20target%3D%27_blank%27%20rel%3D%27noopener%20noreferrer%27%3EMarkets%20data%3C%2Fa%3E%09f_autofe_mul_af6d166b%09f_events_date_week_cos3_7525fe31%09f_financial_date_vix_7d_to_1y_634c77eb%09%2A%0A%3Ca%20href%3D%27https%3A%2F%2Fupgini.com%2F%23data_sources%27%20target%3D%27_blank%27%20rel%3D%27noopener%20noreferrer%27%3EMarkets%20data%3C%2Fa%3E%09f_autofe_div_0b384b21%09f_financial_date_natural_gas_7d_to_7d_1y_shift_a5c3c07f%09f_financial_date_silver_7d_to_1y_0ccfe462%09%2F%0A%3Ca%20href%3D%27https%3A%2F%2Fupgini.com%2F%23data_sources%27%20target%3D%27_blank%27%20rel%3D%27noopener%20noreferrer%27%3ECalendar%20data%3C%2Fa%3E,%3Ca%20href%3D%27https%3A%2F%2Fupgini.com%2F%23data_sources%27%20target%3D%27_blank%27%20rel%3D%27noopener%20noreferrer%27%3EMarkets%20data%3C%2Fa%3E%09f_autofe_div_04d9bc60%09f_events_date_week_sin1_847b5db1%09f_financial_date_gold_7d_to_7d_1y_shift_a8127a43%09%2F%0A%3Ca%20href%3D%27https%3A%2F%2Fupgini.com%2F%23data_sources%27%20target%3D%27_blank%27%20rel%3D%27noopener%20noreferrer%27%3ECalendar%20data%3C%2Fa%3E,%3Ca%20href%3D%27https%3A%2F%2Fupgini.com%2F%23data_sources%27%20target%3D%27_blank%27%20rel%3D%27noopener%20noreferrer%27%3EMarkets%20data%3C%2Fa%3E%09f_autofe_div_d6db5d7a%09f_events_date_year_cos1_9014a856%09f_financial_date_crude_oil_7d_to_1y_c3e0ad17%09%2F%0A%3Ca%20href%3D%27https%3A%2F%2Fupgini.com%2F%23data_sources%27%20target%3D%27_blank%27%20rel%3D%27noopener%20noreferrer%27%3ECalendar%20data%3C%2Fa%3E,%3Ca%20href%3D%27https%3A%2F%2Fupgini.com%2F%23data_sources%27%20target%3D%27_blank%27%20rel%3D%27noopener%20noreferrer%27%3EMarkets%20data%3C%2Fa%3E%09f_autofe_div_1ce27d18%09f_events_date_week_sin1_847b5db1%09f_financial_date_crude_oil_7d_to_1y_c3e0ad17%09%2F%0A%3Ca%20href%3D%27https%3A%2F%2Fupgini.com%2F%23data_sources%27%20target%3D%27_blank%27%20rel%3D%27noopener%20noreferrer%27%3ECalendar%20data%3C%2Fa%3E%09f_autofe_div_e8cdf4c5%09f_events_date_month_sin4_81a273ac%09f_events_date_week_sin1_847b5db1%09%2F%0A%3Ca%20href%3D%27https%3A%2F%2Fupgini.com%2F%23data_sources%27%20target%3D%27_blank%27%20rel%3D%27noopener%20noreferrer%27%3ECalendar%20data%3C%2Fa%3E,%3Ca%20href%3D%27https%3A%2F%2Fupgini.com%2F%23data_sources%27%20target%3D%27_blank%27%20rel%3D%27noopener%20noreferrer%27%3EMarkets%20data%3C%2Fa%3E%09f_autofe_div_67b4a230%09f_events_date_week_cos1_f6a8c1fc%09f_financial_date_natural_gas_7d_to_7d_1y_shift_a5c3c07f%09%2F%0A%3Ca%20href%3D%27https%3A%2F%2Fupgini.com%2F%23data_sources%27%20target%3D%27_blank%27%20rel%3D%27noopener%20noreferrer%27%3ECalendar%20data%3C%2Fa%3E,%3Ca%20href%3D%27https%3A%2F%2Fupgini.com%2F%23data_sources%27%20target%3D%27_blank%27%20rel%3D%27noopener%20noreferrer%27%3EMarkets%20data%3C%2Fa%3E%09f_autofe_div_3e22df83%09f_events_date_week_sin1_847b5db1%09f_financial_date_crude_oil_1f195998%09%2F%0A%3Ca%20href%3D%27https%3A%2F%2Fupgini.com%2F%23data_sources%27%20target%3D%27_blank%27%20rel%3D%27noopener%20noreferrer%27%3ECalendar%20data%3C%2Fa%3E,%3Ca%20href%3D%27https%3A%2F%2Fupgini.com%2F%23data_sources%27%20target%3D%27_blank%27%20rel%3D%27noopener%20noreferrer%27%3EMarkets%20data%3C%2Fa%3E%09f_autofe_mul_25296268%09f_events_date_week_sin1_847b5db1%09f_financial_date_vix_7d_to_1y_634c77eb%09%2A%0A%3Ca%20href%3D%27https%3A%2F%2Fupgini.com%2F%23data_sources%27%20target%3D%27_blank%27%20rel%3D%27noopener%20noreferrer%27%3ECalendar%20data%3C%2Fa%3E,%3Ca%20href%3D%27https%3A%2F%2Fupgini.com%2F%23data_sources%27%20target%3D%27_blank%27%20rel%3D%27noopener%20noreferrer%27%3EMarkets%20data%3C%2Fa%3E%09f_autofe_mul_08e89348%09f_events_date_week_sin1_847b5db1%09f_financial_date_crude_oil_1f195998%09%2A%0A%3Ca%20href%3D%27https%3A%2F%2Fupgini.com%2F%23data_sources%27%20target%3D%27_blank%27%20rel%3D%27noopener%20noreferrer%27%3ECalendar%20data%3C%2Fa%3E,%3Ca%20href%3D%27https%3A%2F%2Fupgini.com%2F%23data_sources%27%20target%3D%27_blank%27%20rel%3D%27noopener%20noreferrer%27%3EMarkets%20data%3C%2Fa%3E%09f_autofe_mul_0cc09d2d%09f_events_date_year_cos1_9014a856%09f_financial_date_crude_oil_1f195998%09%2A%0A%3Ca%20href%3D%27https%3A%2F%2Fupgini.com%2F%23data_sources%27%20target%3D%27_blank%27%20rel%3D%27noopener%20noreferrer%27%3ECalendar%20data%3C%2Fa%3E,%3Ca%20href%3D%27https%3A%2F%2Fupgini.com%2F%23data_sources%27%20target%3D%27_blank%27%20rel%3D%27noopener%20noreferrer%27%3EMarkets%20data%3C%2Fa%3E%09f_autofe_mul_52933c24%09f_events_date_year_cos1_9014a856%09f_financial_date_crude_oil_7d_to_1y_c3e0ad17%09%2A%0A%3Ca%20href%3D%27https%3A%2F%2Fupgini.com%2F%23data_sources%27%20target%3D%27_blank%27%20rel%3D%27noopener%20noreferrer%27%3ECalendar%20data%3C%2Fa%3E,%3Ca%20href%3D%27https%3A%2F%2Fupgini.com%2F%23data_sources%27%20target%3D%27_blank%27%20rel%3D%27noopener%20noreferrer%27%3EMarkets%20data%3C%2Fa%3E%09f_autofe_mul_b2bfad41%09f_events_date_week_cos2_b0a07cfc%09f_financial_date_vix_7d_to_1y_634c77eb%09%2A%0A%3Ca%20href%3D%27https%3A%2F%2Fupgini.com%2F%23data_sources%27%20target%3D%27_blank%27%20rel%3D%27noopener%20noreferrer%27%3ECalendar%20data%3C%2Fa%3E,%3Ca%20href%3D%27https%3A%2F%2Fupgini.com%2F%23data_sources%27%20target%3D%27_blank%27%20rel%3D%27noopener%20noreferrer%27%3EMarkets%20data%3C%2Fa%3E%09f_autofe_mul_f5777239%09f_events_date_week_sin1_847b5db1%09f_financial_date_natural_gas_7d_to_7d_1y_shift_a5c3c07f%09%2A%0A%3Ca%20href%3D%27https%3A%2F%2Fupgini.com%2F%23data_sources%27%20target%3D%27_blank%27%20rel%3D%27noopener%20noreferrer%27%3EMarkets%20data%3C%2Fa%3E%09f_autofe_div_fb99ff57%09f_financial_date_stoxx_043cbcd4%09f_financial_date_usd_7d_to_7d_1y_shift_35cb53e9%09%2F%0A%3Ca%20href%3D%27https%3A%2F%2Fupgini.com%2F%23data_sources%27%20target%3D%27_blank%27%20rel%3D%27noopener%20noreferrer%27%3ECalendar%20data%3C%2Fa%3E,%3Ca%20href%3D%27https%3A%2F%2Fupgini.com%2F%23data_sources%27%20target%3D%27_blank%27%20rel%3D%27noopener%20noreferrer%27%3EMarkets%20data%3C%2Fa%3E%09f_autofe_div_f554dfdc%09f_events_date_year_sin1_3c44bc64%09f_financial_date_nasdaq_gap_83732bb1%09%2F%0A%3Ca%20href%3D%27https%3A%2F%2Fupgini.com%2F%23data_sources%27%20target%3D%27_blank%27%20rel%3D%27noopener%20noreferrer%27%3EMarkets%20data%3C%2Fa%3E%09f_autofe_mul_5388a2c0%09f_financial_date_gold_7d_to_7d_1y_shift_a8127a43%09f_financial_date_natural_gas_7d_to_1y_7a6f300d%09%2A%0A%3Ca%20href%3D%27https%3A%2F%2Fupgini.com%2F%23data_sources%27%20target%3D%27_blank%27%20rel%3D%27noopener%20noreferrer%27%3EMarkets%20data%3C%2Fa%3E%09f_financial_date_nasdaq_7d_to_1y_autofe_residual_65f21712%09f_financial_date_nasdaq_7d_to_1y_b00bfaa7%09%09residual%0A%3Ca%20href%3D%27https%3A%2F%2Fupgini.com%2F%23data_sources%27%20target%3D%27_blank%27%20rel%3D%27noopener%20noreferrer%27%3EMarkets%20data%3C%2Fa%3E%09f_autofe_div_9151e6df%09f_financial_date_nasdaq_1d_to_7d_3a0acc83%09f_financial_date_nasdaq_7d_to_1y_b00bfaa7%09%2F%0A%3Ca%20href%3D%27https%3A%2F%2Fupgini.com%2F%23data_sources%27%20target%3D%27_blank%27%20rel%3D%27noopener%20noreferrer%27%3EMarkets%20data%3C%2Fa%3E%09f_autofe_mul_c6f59861%09f_financial_date_crude_oil_7d_to_1y_c3e0ad17%09f_financial_date_gold_7d_to_7d_1y_shift_a8127a43%09%2A%0A%3Ca%20href%3D%27https%3A%2F%2Fupgini.com%2F%23data_sources%27%20target%3D%27_blank%27%20rel%3D%27noopener%20noreferrer%27%3ECalendar%20data%3C%2Fa%3E,%3Ca%20href%3D%27https%3A%2F%2Fupgini.com%2F%23data_sources%27%20target%3D%27_blank%27%20rel%3D%27noopener%20noreferrer%27%3EMarkets%20data%3C%2Fa%3E%09f_autofe_mul_a3d814ec%09f_events_date_week_cos2_b0a07cfc%09f_financial_date_crude_oil_7d_to_7d_1y_shift_718136ef%09%2A%0A%3Ca%20href%3D%27https%3A%2F%2Fupgini.com%2F%23data_sources%27%20target%3D%27_blank%27%20rel%3D%27noopener%20noreferrer%27%3ECalendar%20data%3C%2Fa%3E,%3Ca%20href%3D%27https%3A%2F%2Fupgini.com%2F%23data_sources%27%20target%3D%27_blank%27%20rel%3D%27noopener%20noreferrer%27%3EMarkets%20data%3C%2Fa%3E%09f_autofe_mul_b0ac774f%09f_events_date_week_sin2_e28440a5%09f_financial_date_natural_gas_7d_to_7d_1y_shift_a5c3c07f%09%2A%0A%3Ca%20href%3D%27https%3A%2F%2Fupgini.com%2F%23data_sources%27%20target%3D%27_blank%27%20rel%3D%27noopener%20noreferrer%27%3ECalendar%20data%3C%2Fa%3E,%3Ca%20href%3D%27https%3A%2F%2Fupgini.com%2F%23data_sources%27%20target%3D%27_blank%27%20rel%3D%27noopener%20noreferrer%27%3EMarkets%20data%3C%2Fa%3E%09f_autofe_div_440201e6%09f_events_date_week_cos2_b0a07cfc%09f_financial_date_usd_gap_615a0ec0%09%2F%0A%3Ca%20href%3D%27https%3A%2F%2Fupgini.com%2F%23data_sources%27%20target%3D%27_blank%27%20rel%3D%27noopener%20noreferrer%27%3ECalendar%20data%3C%2Fa%3E%09f_autofe_mul_041b52f4%09f_events_date_week_sin1_847b5db1%09f_events_date_year_sin1_3c44bc64%09%2A%0A%3Ca%20href%3D%27https%3A%2F%2Fupgini.com%2F%23data_sources%27%20target%3D%27_blank%27%20rel%3D%27noopener%20noreferrer%27%3ECalendar%20data%3C%2Fa%3E%09f_autofe_div_0a9c9355%09f_events_date_month_cos3_a9200432%09f_events_date_week_sin2_e28440a5%09%2F%0A%3Ca%20href%3D%27https%3A%2F%2Fupgini.com%2F%23data_sources%27%20target%3D%27_blank%27%20rel%3D%27noopener%20noreferrer%27%3ECalendar%20data%3C%2Fa%3E%09f_autofe_div_48404110%09f_events_date_month_cos3_a9200432%09f_events_date_week_sin1_847b5db1%09%2F%0A%3Ca%20href%3D%27https%3A%2F%2Fupgini.com%2F%23data_sources%27%20target%3D%27_blank%27%20rel%3D%27noopener%20noreferrer%27%3ECalendar%20data%3C%2Fa%3E,%3Ca%20href%3D%27https%3A%2F%2Fupgini.com%2F%23data_sources%27%20target%3D%27_blank%27%20rel%3D%27noopener%20noreferrer%27%3EMarkets%20data%3C%2Fa%3E%09f_autofe_div_270d64a2%09f_events_date_week_cos1_f6a8c1fc%09f_financial_date_crude_oil_7d_to_1y_c3e0ad17%09%2F%0A%3Ca%20href%3D%27https%3A%2F%2Fupgini.com%2F%23data_sources%27%20target%3D%27_blank%27%20rel%3D%27noopener%20noreferrer%27%3ECalendar%20data%3C%2Fa%3E,%3Ca%20href%3D%27https%3A%2F%2Fupgini.com%2F%23data_sources%27%20target%3D%27_blank%27%20rel%3D%27noopener%20noreferrer%27%3EMarkets%20data%3C%2Fa%3E%09f_autofe_mul_0062f3ed%09f_events_date_week_sin2_e28440a5%09f_financial_date_crude_oil_1f195998%09%2A%0A%3Ca%20href%3D%27https%3A%2F%2Fupgini.com%2F%23data_sources%27%20target%3D%27_blank%27%20rel%3D%27noopener%20noreferrer%27%3ECalendar%20data%3C%2Fa%3E,%3Ca%20href%3D%27https%3A%2F%2Fupgini.com%2F%23data_sources%27%20target%3D%27_blank%27%20rel%3D%27noopener%20noreferrer%27%3EMarkets%20data%3C%2Fa%3E%09f_autofe_mul_3f4a1860%09f_events_date_year_cos1_9014a856%09f_financial_date_crude_oil_7d_to_7d_1y_shift_718136ef%09%2A%0A%3Ca%20href%3D%27https%3A%2F%2Fupgini.com%2F%23data_sources%27%20target%3D%27_blank%27%20rel%3D%27noopener%20noreferrer%27%3EMarkets%20data%3C%2Fa%3E%09f_autofe_mul_a77d0e6c%09f_financial_date_crude_oil_1f195998%09f_financial_date_gold_7d_to_7d_1y_shift_a8127a43%09%2A%0A%3Ca%20href%3D%27https%3A%2F%2Fupgini.com%2F%23data_sources%27%20target%3D%27_blank%27%20rel%3D%27noopener%20noreferrer%27%3ECalendar%20data%3C%2Fa%3E%09f_autofe_mul_53b94336%09f_events_date_week_sin2_e28440a5%09f_events_date_year_sin9_a4f6646e%09%2A%0A%3Ca%20href%3D%27https%3A%2F%2Fupgini.com%2F%23data_sources%27%20target%3D%27_blank%27%20rel%3D%27noopener%20noreferrer%27%3ECalendar%20data%3C%2Fa%3E,%3Ca%20href%3D%27https%3A%2F%2Fupgini.com%2F%23data_sources%27%20target%3D%27_blank%27%20rel%3D%27noopener%20noreferrer%27%3EMarkets%20data%3C%2Fa%3E%09f_autofe_div_e939fcf8%09f_events_date_week_cos2_b0a07cfc%09f_financial_date_vix_7d_to_1y_634c77eb%09%2F%0A%3Ca%20href%3D%27https%3A%2F%2Fupgini.com%2F%23data_sources%27%20target%3D%27_blank%27%20rel%3D%27noopener%20noreferrer%27%3ECalendar%20data%3C%2Fa%3E%09f_autofe_mul_c094face%09f_events_date_week_cos1_f6a8c1fc%09f_events_date_year_sin1_3c44bc64%09%2A%0A'))>📂 Copy</button>\n",
              "                <a href='mailto:<Share with...>?subject=Relevant external data sources from Upgini.com&body=Sources%09Feature%20name%09Feature%201%09Feature%202%09Function%0A%3Ca%20href%3D%27https%3A%2F%2Fupgini.com%2F%23data_sources%27%20target%3D%27_blank%27%20rel%3D%27noopener%20noreferrer%27%3ECalendar%20data%3C%2Fa%3E,%3Ca%20href%3D%27https%3A%2F%2Fupgini.com%2F%23data_sources%27%20target%3D%27_blank%27%20rel%3D%27noopener%20noreferrer%27%3EMarkets%20data%3C%2Fa%3E%09f_autofe_mul_16f51329%09f_events_date_week_sin1_847b5db1%09f_financial_date_gold_7d_to_7d_1y_shift_a8127a43%09%2A%0A%3Ca%20href%3D%27https%3A%2F%2Fupgini.com%2F%23data_sources%27%20target%3D%27_blank%27%20rel%3D%27noopener%20noreferrer%27%3ECalendar%20data%3C%2Fa%3E,%3Ca%20href%3D%27https%3A%2F%2Fupgini.com%2F%23data_sources%27%20target%3D%27_blank%27%20rel%3D%27noopener%20noreferrer%27%3EMarkets%20data%3C%2Fa%3E%09f_autofe_div_20a12630%09f_events_date_year_cos1_9014a856%09f_financial_date_crude_oil_1f195998%09%2F%0A%3Ca%20href%3D%27https%3A%2F%2Fupgini.com%2F%23data_sources%27%20target%3D%27_blank%27%20rel%3D%27noopener%20noreferrer%27%3ECalendar%20data%3C%2Fa%3E,%3Ca%20href%3D%27https%3A%2F%2Fupgini.com%2F%23data_sources%27%20target%3D%27_blank%27%20rel%3D%27noopener%20noreferrer%27%3EMarkets%20data%3C%2Fa%3E%09f_autofe_div_cbf285e0%09f_events_date_year_cos1_9014a856%09f_financial_date_gold_7d_to_7d_1y_shift_a8127a43%09%2F%0A%3Ca%20href%3D%27https%3A%2F%2Fupgini.com%2F%23data_sources%27%20target%3D%27_blank%27%20rel%3D%27noopener%20noreferrer%27%3ECalendar%20data%3C%2Fa%3E,%3Ca%20href%3D%27https%3A%2F%2Fupgini.com%2F%23data_sources%27%20target%3D%27_blank%27%20rel%3D%27noopener%20noreferrer%27%3EMarkets%20data%3C%2Fa%3E%09f_autofe_mul_6a97c336%09f_events_date_week_cos1_f6a8c1fc%09f_financial_date_vix_7d_to_1y_634c77eb%09%2A%0A%3Ca%20href%3D%27https%3A%2F%2Fupgini.com%2F%23data_sources%27%20target%3D%27_blank%27%20rel%3D%27noopener%20noreferrer%27%3ECalendar%20data%3C%2Fa%3E,%3Ca%20href%3D%27https%3A%2F%2Fupgini.com%2F%23data_sources%27%20target%3D%27_blank%27%20rel%3D%27noopener%20noreferrer%27%3EMarkets%20data%3C%2Fa%3E%09f_autofe_mul_28524d47%09f_events_date_year_cos1_9014a856%09f_financial_date_natural_gas_7d_to_1y_7a6f300d%09%2A%0A%3Ca%20href%3D%27https%3A%2F%2Fupgini.com%2F%23data_sources%27%20target%3D%27_blank%27%20rel%3D%27noopener%20noreferrer%27%3ECalendar%20data%3C%2Fa%3E,%3Ca%20href%3D%27https%3A%2F%2Fupgini.com%2F%23data_sources%27%20target%3D%27_blank%27%20rel%3D%27noopener%20noreferrer%27%3EMarkets%20data%3C%2Fa%3E%09f_autofe_mul_af6d166b%09f_events_date_week_cos3_7525fe31%09f_financial_date_vix_7d_to_1y_634c77eb%09%2A%0A%3Ca%20href%3D%27https%3A%2F%2Fupgini.com%2F%23data_sources%27%20target%3D%27_blank%27%20rel%3D%27noopener%20noreferrer%27%3EMarkets%20data%3C%2Fa%3E%09f_autofe_div_0b384b21%09f_financial_date_natural_gas_7d_to_7d_1y_shift_a5c3c07f%09f_financial_date_silver_7d_to_1y_0ccfe462%09%2F%0A%3Ca%20href%3D%27https%3A%2F%2Fupgini.com%2F%23data_sources%27%20target%3D%27_blank%27%20rel%3D%27noopener%20noreferrer%27%3ECalendar%20data%3C%2Fa%3E,%3Ca%20href%3D%27https%3A%2F%2Fupgini.com%2F%23data_sources%27%20target%3D%27_blank%27%20rel%3D%27noopener%20noreferrer%27%3EMarkets%20data%3C%2Fa%3E%09f_autofe_div_04d9bc60%09f_events_date_week_sin1_847b5db1%09f_financial_date_gold_7d_to_7d_1y_shift_a8127a43%09%2F%0A%3Ca%20href%3D%27https%3A%2F%2Fupgini.com%2F%23data_sources%27%20target%3D%27_blank%27%20rel%3D%27noopener%20noreferrer%27%3ECalendar%20data%3C%2Fa%3E,%3Ca%20href%3D%27https%3A%2F%2Fupgini.com%2F%23data_sources%27%20target%3D%27_blank%27%20rel%3D%27noopener%20noreferrer%27%3EMarkets%20data%3C%2Fa%3E%09f_autofe_div_d6db5d7a%09f_events_date_year_cos1_9014a856%09f_financial_date_crude_oil_7d_to_1y_c3e0ad17%09%2F%0A%3Ca%20href%3D%27https%3A%2F%2Fupgini.com%2F%23data_sources%27%20target%3D%27_blank%27%20rel%3D%27noopener%20noreferrer%27%3ECalendar%20data%3C%2Fa%3E,%3Ca%20href%3D%27https%3A%2F%2Fupgini.com%2F%23data_sources%27%20target%3D%27_blank%27%20rel%3D%27noopener%20noreferrer%27%3EMarkets%20data%3C%2Fa%3E%09f_autofe_div_1ce27d18%09f_events_date_week_sin1_847b5db1%09f_financial_date_crude_oil_7d_to_1y_c3e0ad17%09%2F%0A%3Ca%20href%3D%27https%3A%2F%2Fupgini.com%2F%23data_sources%27%20target%3D%27_blank%27%20rel%3D%27noopener%20noreferrer%27%3ECalendar%20data%3C%2Fa%3E%09f_autofe_div_e8cdf4c5%09f_events_date_month_sin4_81a273ac%09f_events_date_week_sin1_847b5db1%09%2F%0A%3Ca%20href%3D%27https%3A%2F%2Fupgini.com%2F%23data_sources%27%20target%3D%27_blank%27%20rel%3D%27noopener%20noreferrer%27%3ECalendar%20data%3C%2Fa%3E,%3Ca%20href%3D%27https%3A%2F%2Fupgini.com%2F%23data_sources%27%20target%3D%27_blank%27%20rel%3D%27noopener%20noreferrer%27%3EMarkets%20data%3C%2Fa%3E%09f_autofe_div_67b4a230%09f_events_date_week_cos1_f6a8c1fc%09f_financial_date_natural_gas_7d_to_7d_1y_shift_a5c3c07f%09%2F%0A%3Ca%20href%3D%27https%3A%2F%2Fupgini.com%2F%23data_sources%27%20target%3D%27_blank%27%20rel%3D%27noopener%20noreferrer%27%3ECalendar%20data%3C%2Fa%3E,%3Ca%20href%3D%27https%3A%2F%2Fupgini.com%2F%23data_sources%27%20target%3D%27_blank%27%20rel%3D%27noopener%20noreferrer%27%3EMarkets%20data%3C%2Fa%3E%09f_autofe_div_3e22df83%09f_events_date_week_sin1_847b5db1%09f_financial_date_crude_oil_1f195998%09%2F%0A%3Ca%20href%3D%27https%3A%2F%2Fupgini.com%2F%23data_sources%27%20target%3D%27_blank%27%20rel%3D%27noopener%20noreferrer%27%3ECalendar%20data%3C%2Fa%3E,%3Ca%20href%3D%27https%3A%2F%2Fupgini.com%2F%23data_sources%27%20target%3D%27_blank%27%20rel%3D%27noopener%20noreferrer%27%3EMarkets%20data%3C%2Fa%3E%09f_autofe_mul_25296268%09f_events_date_week_sin1_847b5db1%09f_financial_date_vix_7d_to_1y_634c77eb%09%2A%0A%3Ca%20href%3D%27https%3A%2F%2Fupgini.com%2F%23data_sources%27%20target%3D%27_blank%27%20rel%3D%27noopener%20noreferrer%27%3ECalendar%20data%3C%2Fa%3E,%3Ca%20href%3D%27https%3A%2F%2Fupgini.com%2F%23data_sources%27%20target%3D%27_blank%27%20rel%3D%27noopener%20noreferrer%27%3EMarkets%20data%3C%2Fa%3E%09f_autofe_mul_08e89348%09f_events_date_week_sin1_847b5db1%09f_financial_date_crude_oil_1f195998%09%2A%0A%3Ca%20href%3D%27https%3A%2F%2Fupgini.com%2F%23data_sources%27%20target%3D%27_blank%27%20rel%3D%27noopener%20noreferrer%27%3ECalendar%20data%3C%2Fa%3E,%3Ca%20href%3D%27https%3A%2F%2Fupgini.com%2F%23data_sources%27%20target%3D%27_blank%27%20rel%3D%27noopener%20noreferrer%27%3EMarkets%20data%3C%2Fa%3E%09f_autofe_mul_0cc09d2d%09f_events_date_year_cos1_9014a856%09f_financial_date_crude_oil_1f195998%09%2A%0A%3Ca%20href%3D%27https%3A%2F%2Fupgini.com%2F%23data_sources%27%20target%3D%27_blank%27%20rel%3D%27noopener%20noreferrer%27%3ECalendar%20data%3C%2Fa%3E,%3Ca%20href%3D%27https%3A%2F%2Fupgini.com%2F%23data_sources%27%20target%3D%27_blank%27%20rel%3D%27noopener%20noreferrer%27%3EMarkets%20data%3C%2Fa%3E%09f_autofe_mul_52933c24%09f_events_date_year_cos1_9014a856%09f_financial_date_crude_oil_7d_to_1y_c3e0ad17%09%2A%0A%3Ca%20href%3D%27https%3A%2F%2Fupgini.com%2F%23data_sources%27%20target%3D%27_blank%27%20rel%3D%27noopener%20noreferrer%27%3ECalendar%20data%3C%2Fa%3E,%3Ca%20href%3D%27https%3A%2F%2Fupgini.com%2F%23data_sources%27%20target%3D%27_blank%27%20rel%3D%27noopener%20noreferrer%27%3EMarkets%20data%3C%2Fa%3E%09f_autofe_mul_b2bfad41%09f_events_date_week_cos2_b0a07cfc%09f_financial_date_vix_7d_to_1y_634c77eb%09%2A%0A%3Ca%20href%3D%27https%3A%2F%2Fupgini.com%2F%23data_sources%27%20target%3D%27_blank%27%20rel%3D%27noopener%20noreferrer%27%3ECalendar%20data%3C%2Fa%3E,%3Ca%20href%3D%27https%3A%2F%2Fupgini.com%2F%23data_sources%27%20target%3D%27_blank%27%20rel%3D%27noopener%20noreferrer%27%3EMarkets%20data%3C%2Fa%3E%09f_autofe_mul_f5777239%09f_events_date_week_sin1_847b5db1%09f_financial_date_natural_gas_7d_to_7d_1y_shift_a5c3c07f%09%2A%0A%3Ca%20href%3D%27https%3A%2F%2Fupgini.com%2F%23data_sources%27%20target%3D%27_blank%27%20rel%3D%27noopener%20noreferrer%27%3EMarkets%20data%3C%2Fa%3E%09f_autofe_div_fb99ff57%09f_financial_date_stoxx_043cbcd4%09f_financial_date_usd_7d_to_7d_1y_shift_35cb53e9%09%2F%0A%3Ca%20href%3D%27https%3A%2F%2Fupgini.com%2F%23data_sources%27%20target%3D%27_blank%27%20rel%3D%27noopener%20noreferrer%27%3ECalendar%20data%3C%2Fa%3E,%3Ca%20href%3D%27https%3A%2F%2Fupgini.com%2F%23data_sources%27%20target%3D%27_blank%27%20rel%3D%27noopener%20noreferrer%27%3EMarkets%20data%3C%2Fa%3E%09f_autofe_div_f554dfdc%09f_events_date_year_sin1_3c44bc64%09f_financial_date_nasdaq_gap_83732bb1%09%2F%0A%3Ca%20href%3D%27https%3A%2F%2Fupgini.com%2F%23data_sources%27%20target%3D%27_blank%27%20rel%3D%27noopener%20noreferrer%27%3EMarkets%20data%3C%2Fa%3E%09f_autofe_mul_5388a2c0%09f_financial_date_gold_7d_to_7d_1y_shift_a8127a43%09f_financial_date_natural_gas_7d_to_1y_7a6f300d%09%2A%0A%3Ca%20href%3D%27https%3A%2F%2Fupgini.com%2F%23data_sources%27%20target%3D%27_blank%27%20rel%3D%27noopener%20noreferrer%27%3EMarkets%20data%3C%2Fa%3E%09f_financial_date_nasdaq_7d_to_1y_autofe_residual_65f21712%09f_financial_date_nasdaq_7d_to_1y_b00bfaa7%09%09residual%0A%3Ca%20href%3D%27https%3A%2F%2Fupgini.com%2F%23data_sources%27%20target%3D%27_blank%27%20rel%3D%27noopener%20noreferrer%27%3EMarkets%20data%3C%2Fa%3E%09f_autofe_div_9151e6df%09f_financial_date_nasdaq_1d_to_7d_3a0acc83%09f_financial_date_nasdaq_7d_to_1y_b00bfaa7%09%2F%0A%3Ca%20href%3D%27https%3A%2F%2Fupgini.com%2F%23data_sources%27%20target%3D%27_blank%27%20rel%3D%27noopener%20noreferrer%27%3EMarkets%20data%3C%2Fa%3E%09f_autofe_mul_c6f59861%09f_financial_date_crude_oil_7d_to_1y_c3e0ad17%09f_financial_date_gold_7d_to_7d_1y_shift_a8127a43%09%2A%0A%3Ca%20href%3D%27https%3A%2F%2Fupgini.com%2F%23data_sources%27%20target%3D%27_blank%27%20rel%3D%27noopener%20noreferrer%27%3ECalendar%20data%3C%2Fa%3E,%3Ca%20href%3D%27https%3A%2F%2Fupgini.com%2F%23data_sources%27%20target%3D%27_blank%27%20rel%3D%27noopener%20noreferrer%27%3EMarkets%20data%3C%2Fa%3E%09f_autofe_mul_a3d814ec%09f_events_date_week_cos2_b0a07cfc%09f_financial_date_crude_oil_7d_to_7d_1y_shift_718136ef%09%2A%0A%3Ca%20href%3D%27https%3A%2F%2Fupgini.com%2F%23data_sources%27%20target%3D%27_blank%27%20rel%3D%27noopener%20noreferrer%27%3ECalendar%20data%3C%2Fa%3E,%3Ca%20href%3D%27https%3A%2F%2Fupgini.com%2F%23data_sources%27%20target%3D%27_blank%27%20rel%3D%27noopener%20noreferrer%27%3EMarkets%20data%3C%2Fa%3E%09f_autofe_mul_b0ac774f%09f_events_date_week_sin2_e28440a5%09f_financial_date_natural_gas_7d_to_7d_1y_shift_a5c3c07f%09%2A%0A%3Ca%20href%3D%27https%3A%2F%2Fupgini.com%2F%23data_sources%27%20target%3D%27_blank%27%20rel%3D%27noopener%20noreferrer%27%3ECalendar%20data%3C%2Fa%3E,%3Ca%20href%3D%27https%3A%2F%2Fupgini.com%2F%23data_sources%27%20target%3D%27_blank%27%20rel%3D%27noopener%20noreferrer%27%3EMarkets%20data%3C%2Fa%3E%09f_autofe_div_440201e6%09f_events_date_week_cos2_b0a07cfc%09f_financial_date_usd_gap_615a0ec0%09%2F%0A%3Ca%20href%3D%27https%3A%2F%2Fupgini.com%2F%23data_sources%27%20target%3D%27_blank%27%20rel%3D%27noopener%20noreferrer%27%3ECalendar%20data%3C%2Fa%3E%09f_autofe_mul_041b52f4%09f_events_date_week_sin1_847b5db1%09f_events_date_year_sin1_3c44bc64%09%2A%0A%3Ca%20href%3D%27https%3A%2F%2Fupgini.com%2F%23data_sources%27%20target%3D%27_blank%27%20rel%3D%27noopener%20noreferrer%27%3ECalendar%20data%3C%2Fa%3E%09f_autofe_div_0a9c9355%09f_events_date_month_cos3_a9200432%09f_events_date_week_sin2_e28440a5%09%2F%0A%3Ca%20href%3D%27https%3A%2F%2Fupgini.com%2F%23data_sources%27%20target%3D%27_blank%27%20rel%3D%27noopener%20noreferrer%27%3ECalendar%20data%3C%2Fa%3E%09f_autofe_div_48404110%09f_events_date_month_cos3_a9200432%09f_events_date_week_sin1_847b5db1%09%2F%0A%3Ca%20href%3D%27https%3A%2F%2Fupgini.com%2F%23data_sources%27%20target%3D%27_blank%27%20rel%3D%27noopener%20noreferrer%27%3ECalendar%20data%3C%2Fa%3E,%3Ca%20href%3D%27https%3A%2F%2Fupgini.com%2F%23data_sources%27%20target%3D%27_blank%27%20rel%3D%27noopener%20noreferrer%27%3EMarkets%20data%3C%2Fa%3E%09f_autofe_div_270d64a2%09f_events_date_week_cos1_f6a8c1fc%09f_financial_date_crude_oil_7d_to_1y_c3e0ad17%09%2F%0A%3Ca%20href%3D%27https%3A%2F%2Fupgini.com%2F%23data_sources%27%20target%3D%27_blank%27%20rel%3D%27noopener%20noreferrer%27%3ECalendar%20data%3C%2Fa%3E,%3Ca%20href%3D%27https%3A%2F%2Fupgini.com%2F%23data_sources%27%20target%3D%27_blank%27%20rel%3D%27noopener%20noreferrer%27%3EMarkets%20data%3C%2Fa%3E%09f_autofe_mul_0062f3ed%09f_events_date_week_sin2_e28440a5%09f_financial_date_crude_oil_1f195998%09%2A%0A%3Ca%20href%3D%27https%3A%2F%2Fupgini.com%2F%23data_sources%27%20target%3D%27_blank%27%20rel%3D%27noopener%20noreferrer%27%3ECalendar%20data%3C%2Fa%3E,%3Ca%20href%3D%27https%3A%2F%2Fupgini.com%2F%23data_sources%27%20target%3D%27_blank%27%20rel%3D%27noopener%20noreferrer%27%3EMarkets%20data%3C%2Fa%3E%09f_autofe_mul_3f4a1860%09f_events_date_year_cos1_9014a856%09f_financial_date_crude_oil_7d_to_7d_1y_shift_718136ef%09%2A%0A%3Ca%20href%3D%27https%3A%2F%2Fupgini.com%2F%23data_sources%27%20target%3D%27_blank%27%20rel%3D%27noopener%20noreferrer%27%3EMarkets%20data%3C%2Fa%3E%09f_autofe_mul_a77d0e6c%09f_financial_date_crude_oil_1f195998%09f_financial_date_gold_7d_to_7d_1y_shift_a8127a43%09%2A%0A%3Ca%20href%3D%27https%3A%2F%2Fupgini.com%2F%23data_sources%27%20target%3D%27_blank%27%20rel%3D%27noopener%20noreferrer%27%3ECalendar%20data%3C%2Fa%3E%09f_autofe_mul_53b94336%09f_events_date_week_sin2_e28440a5%09f_events_date_year_sin9_a4f6646e%09%2A%0A%3Ca%20href%3D%27https%3A%2F%2Fupgini.com%2F%23data_sources%27%20target%3D%27_blank%27%20rel%3D%27noopener%20noreferrer%27%3ECalendar%20data%3C%2Fa%3E,%3Ca%20href%3D%27https%3A%2F%2Fupgini.com%2F%23data_sources%27%20target%3D%27_blank%27%20rel%3D%27noopener%20noreferrer%27%3EMarkets%20data%3C%2Fa%3E%09f_autofe_div_e939fcf8%09f_events_date_week_cos2_b0a07cfc%09f_financial_date_vix_7d_to_1y_634c77eb%09%2F%0A%3Ca%20href%3D%27https%3A%2F%2Fupgini.com%2F%23data_sources%27%20target%3D%27_blank%27%20rel%3D%27noopener%20noreferrer%27%3ECalendar%20data%3C%2Fa%3E%09f_autofe_mul_c094face%09f_events_date_week_cos1_f6a8c1fc%09f_events_date_year_sin1_3c44bc64%09%2A%0A'>\n",
              "                    <button>📨 Share</button>\n",
              "                </a>\n",
              "            </div>\n",
              "            <table class='upgini-df'><thead><th>Sources</th><th>Feature name</th><th>Feature 1</th><th>Feature 2</th><th>Function</th></thead><tbody><tr><td class='upgini-text'><a href='https://upgini.com/#data_sources' target='_blank' rel='noopener noreferrer'>Calendar data</a>,<a href='https://upgini.com/#data_sources' target='_blank' rel='noopener noreferrer'>Markets data</a></td><td class='upgini-text'>f_autofe_mul_16f51329</td><td class='upgini-text'>f_events_date_week_sin1_847b5db1</td><td class='upgini-text'>f_financial_date_gold_7d_to_7d_1y_shift_a8127a43</td><td class='upgini-text'>*</td></tr><tr><td class='upgini-text'><a href='https://upgini.com/#data_sources' target='_blank' rel='noopener noreferrer'>Calendar data</a>,<a href='https://upgini.com/#data_sources' target='_blank' rel='noopener noreferrer'>Markets data</a></td><td class='upgini-text'>f_autofe_div_20a12630</td><td class='upgini-text'>f_events_date_year_cos1_9014a856</td><td class='upgini-text'>f_financial_date_crude_oil_1f195998</td><td class='upgini-text'>/</td></tr><tr><td class='upgini-text'><a href='https://upgini.com/#data_sources' target='_blank' rel='noopener noreferrer'>Calendar data</a>,<a href='https://upgini.com/#data_sources' target='_blank' rel='noopener noreferrer'>Markets data</a></td><td class='upgini-text'>f_autofe_div_cbf285e0</td><td class='upgini-text'>f_events_date_year_cos1_9014a856</td><td class='upgini-text'>f_financial_date_gold_7d_to_7d_1y_shift_a8127a43</td><td class='upgini-text'>/</td></tr><tr><td class='upgini-text'><a href='https://upgini.com/#data_sources' target='_blank' rel='noopener noreferrer'>Calendar data</a>,<a href='https://upgini.com/#data_sources' target='_blank' rel='noopener noreferrer'>Markets data</a></td><td class='upgini-text'>f_autofe_mul_6a97c336</td><td class='upgini-text'>f_events_date_week_cos1_f6a8c1fc</td><td class='upgini-text'>f_financial_date_vix_7d_to_1y_634c77eb</td><td class='upgini-text'>*</td></tr><tr><td class='upgini-text'><a href='https://upgini.com/#data_sources' target='_blank' rel='noopener noreferrer'>Calendar data</a>,<a href='https://upgini.com/#data_sources' target='_blank' rel='noopener noreferrer'>Markets data</a></td><td class='upgini-text'>f_autofe_mul_28524d47</td><td class='upgini-text'>f_events_date_year_cos1_9014a856</td><td class='upgini-text'>f_financial_date_natural_gas_7d_to_1y_7a6f300d</td><td class='upgini-text'>*</td></tr><tr><td class='upgini-text'><a href='https://upgini.com/#data_sources' target='_blank' rel='noopener noreferrer'>Calendar data</a>,<a href='https://upgini.com/#data_sources' target='_blank' rel='noopener noreferrer'>Markets data</a></td><td class='upgini-text'>f_autofe_mul_af6d166b</td><td class='upgini-text'>f_events_date_week_cos3_7525fe31</td><td class='upgini-text'>f_financial_date_vix_7d_to_1y_634c77eb</td><td class='upgini-text'>*</td></tr><tr><td class='upgini-text'><a href='https://upgini.com/#data_sources' target='_blank' rel='noopener noreferrer'>Markets data</a></td><td class='upgini-text'>f_autofe_div_0b384b21</td><td class='upgini-text'>f_financial_date_natural_gas_7d_to_7d_1y_shift_a5c3c07f</td><td class='upgini-text'>f_financial_date_silver_7d_to_1y_0ccfe462</td><td class='upgini-text'>/</td></tr><tr><td class='upgini-text'><a href='https://upgini.com/#data_sources' target='_blank' rel='noopener noreferrer'>Calendar data</a>,<a href='https://upgini.com/#data_sources' target='_blank' rel='noopener noreferrer'>Markets data</a></td><td class='upgini-text'>f_autofe_div_04d9bc60</td><td class='upgini-text'>f_events_date_week_sin1_847b5db1</td><td class='upgini-text'>f_financial_date_gold_7d_to_7d_1y_shift_a8127a43</td><td class='upgini-text'>/</td></tr><tr><td class='upgini-text'><a href='https://upgini.com/#data_sources' target='_blank' rel='noopener noreferrer'>Calendar data</a>,<a href='https://upgini.com/#data_sources' target='_blank' rel='noopener noreferrer'>Markets data</a></td><td class='upgini-text'>f_autofe_div_d6db5d7a</td><td class='upgini-text'>f_events_date_year_cos1_9014a856</td><td class='upgini-text'>f_financial_date_crude_oil_7d_to_1y_c3e0ad17</td><td class='upgini-text'>/</td></tr><tr><td class='upgini-text'><a href='https://upgini.com/#data_sources' target='_blank' rel='noopener noreferrer'>Calendar data</a>,<a href='https://upgini.com/#data_sources' target='_blank' rel='noopener noreferrer'>Markets data</a></td><td class='upgini-text'>f_autofe_div_1ce27d18</td><td class='upgini-text'>f_events_date_week_sin1_847b5db1</td><td class='upgini-text'>f_financial_date_crude_oil_7d_to_1y_c3e0ad17</td><td class='upgini-text'>/</td></tr><tr><td class='upgini-text'><a href='https://upgini.com/#data_sources' target='_blank' rel='noopener noreferrer'>Calendar data</a></td><td class='upgini-text'>f_autofe_div_e8cdf4c5</td><td class='upgini-text'>f_events_date_month_sin4_81a273ac</td><td class='upgini-text'>f_events_date_week_sin1_847b5db1</td><td class='upgini-text'>/</td></tr><tr><td class='upgini-text'><a href='https://upgini.com/#data_sources' target='_blank' rel='noopener noreferrer'>Calendar data</a>,<a href='https://upgini.com/#data_sources' target='_blank' rel='noopener noreferrer'>Markets data</a></td><td class='upgini-text'>f_autofe_div_67b4a230</td><td class='upgini-text'>f_events_date_week_cos1_f6a8c1fc</td><td class='upgini-text'>f_financial_date_natural_gas_7d_to_7d_1y_shift_a5c3c07f</td><td class='upgini-text'>/</td></tr><tr><td class='upgini-text'><a href='https://upgini.com/#data_sources' target='_blank' rel='noopener noreferrer'>Calendar data</a>,<a href='https://upgini.com/#data_sources' target='_blank' rel='noopener noreferrer'>Markets data</a></td><td class='upgini-text'>f_autofe_div_3e22df83</td><td class='upgini-text'>f_events_date_week_sin1_847b5db1</td><td class='upgini-text'>f_financial_date_crude_oil_1f195998</td><td class='upgini-text'>/</td></tr><tr><td class='upgini-text'><a href='https://upgini.com/#data_sources' target='_blank' rel='noopener noreferrer'>Calendar data</a>,<a href='https://upgini.com/#data_sources' target='_blank' rel='noopener noreferrer'>Markets data</a></td><td class='upgini-text'>f_autofe_mul_25296268</td><td class='upgini-text'>f_events_date_week_sin1_847b5db1</td><td class='upgini-text'>f_financial_date_vix_7d_to_1y_634c77eb</td><td class='upgini-text'>*</td></tr><tr><td class='upgini-text'><a href='https://upgini.com/#data_sources' target='_blank' rel='noopener noreferrer'>Calendar data</a>,<a href='https://upgini.com/#data_sources' target='_blank' rel='noopener noreferrer'>Markets data</a></td><td class='upgini-text'>f_autofe_mul_08e89348</td><td class='upgini-text'>f_events_date_week_sin1_847b5db1</td><td class='upgini-text'>f_financial_date_crude_oil_1f195998</td><td class='upgini-text'>*</td></tr><tr><td class='upgini-text'><a href='https://upgini.com/#data_sources' target='_blank' rel='noopener noreferrer'>Calendar data</a>,<a href='https://upgini.com/#data_sources' target='_blank' rel='noopener noreferrer'>Markets data</a></td><td class='upgini-text'>f_autofe_mul_0cc09d2d</td><td class='upgini-text'>f_events_date_year_cos1_9014a856</td><td class='upgini-text'>f_financial_date_crude_oil_1f195998</td><td class='upgini-text'>*</td></tr><tr><td class='upgini-text'><a href='https://upgini.com/#data_sources' target='_blank' rel='noopener noreferrer'>Calendar data</a>,<a href='https://upgini.com/#data_sources' target='_blank' rel='noopener noreferrer'>Markets data</a></td><td class='upgini-text'>f_autofe_mul_52933c24</td><td class='upgini-text'>f_events_date_year_cos1_9014a856</td><td class='upgini-text'>f_financial_date_crude_oil_7d_to_1y_c3e0ad17</td><td class='upgini-text'>*</td></tr><tr><td class='upgini-text'><a href='https://upgini.com/#data_sources' target='_blank' rel='noopener noreferrer'>Calendar data</a>,<a href='https://upgini.com/#data_sources' target='_blank' rel='noopener noreferrer'>Markets data</a></td><td class='upgini-text'>f_autofe_mul_b2bfad41</td><td class='upgini-text'>f_events_date_week_cos2_b0a07cfc</td><td class='upgini-text'>f_financial_date_vix_7d_to_1y_634c77eb</td><td class='upgini-text'>*</td></tr><tr><td class='upgini-text'><a href='https://upgini.com/#data_sources' target='_blank' rel='noopener noreferrer'>Calendar data</a>,<a href='https://upgini.com/#data_sources' target='_blank' rel='noopener noreferrer'>Markets data</a></td><td class='upgini-text'>f_autofe_mul_f5777239</td><td class='upgini-text'>f_events_date_week_sin1_847b5db1</td><td class='upgini-text'>f_financial_date_natural_gas_7d_to_7d_1y_shift_a5c3c07f</td><td class='upgini-text'>*</td></tr><tr><td class='upgini-text'><a href='https://upgini.com/#data_sources' target='_blank' rel='noopener noreferrer'>Markets data</a></td><td class='upgini-text'>f_autofe_div_fb99ff57</td><td class='upgini-text'>f_financial_date_stoxx_043cbcd4</td><td class='upgini-text'>f_financial_date_usd_7d_to_7d_1y_shift_35cb53e9</td><td class='upgini-text'>/</td></tr><tr><td class='upgini-text'><a href='https://upgini.com/#data_sources' target='_blank' rel='noopener noreferrer'>Calendar data</a>,<a href='https://upgini.com/#data_sources' target='_blank' rel='noopener noreferrer'>Markets data</a></td><td class='upgini-text'>f_autofe_div_f554dfdc</td><td class='upgini-text'>f_events_date_year_sin1_3c44bc64</td><td class='upgini-text'>f_financial_date_nasdaq_gap_83732bb1</td><td class='upgini-text'>/</td></tr><tr><td class='upgini-text'><a href='https://upgini.com/#data_sources' target='_blank' rel='noopener noreferrer'>Markets data</a></td><td class='upgini-text'>f_autofe_mul_5388a2c0</td><td class='upgini-text'>f_financial_date_gold_7d_to_7d_1y_shift_a8127a43</td><td class='upgini-text'>f_financial_date_natural_gas_7d_to_1y_7a6f300d</td><td class='upgini-text'>*</td></tr><tr><td class='upgini-text'><a href='https://upgini.com/#data_sources' target='_blank' rel='noopener noreferrer'>Markets data</a></td><td class='upgini-text'>f_financial_date_nasdaq_7d_to_1y_autofe_residual_65f21712</td><td class='upgini-text'>f_financial_date_nasdaq_7d_to_1y_b00bfaa7</td><td class='upgini-text'>&nbsp;</td><td class='upgini-text'>residual</td></tr><tr><td class='upgini-text'><a href='https://upgini.com/#data_sources' target='_blank' rel='noopener noreferrer'>Markets data</a></td><td class='upgini-text'>f_autofe_div_9151e6df</td><td class='upgini-text'>f_financial_date_nasdaq_1d_to_7d_3a0acc83</td><td class='upgini-text'>f_financial_date_nasdaq_7d_to_1y_b00bfaa7</td><td class='upgini-text'>/</td></tr><tr><td class='upgini-text'><a href='https://upgini.com/#data_sources' target='_blank' rel='noopener noreferrer'>Markets data</a></td><td class='upgini-text'>f_autofe_mul_c6f59861</td><td class='upgini-text'>f_financial_date_crude_oil_7d_to_1y_c3e0ad17</td><td class='upgini-text'>f_financial_date_gold_7d_to_7d_1y_shift_a8127a43</td><td class='upgini-text'>*</td></tr><tr><td class='upgini-text'><a href='https://upgini.com/#data_sources' target='_blank' rel='noopener noreferrer'>Calendar data</a>,<a href='https://upgini.com/#data_sources' target='_blank' rel='noopener noreferrer'>Markets data</a></td><td class='upgini-text'>f_autofe_mul_a3d814ec</td><td class='upgini-text'>f_events_date_week_cos2_b0a07cfc</td><td class='upgini-text'>f_financial_date_crude_oil_7d_to_7d_1y_shift_718136ef</td><td class='upgini-text'>*</td></tr><tr><td class='upgini-text'><a href='https://upgini.com/#data_sources' target='_blank' rel='noopener noreferrer'>Calendar data</a>,<a href='https://upgini.com/#data_sources' target='_blank' rel='noopener noreferrer'>Markets data</a></td><td class='upgini-text'>f_autofe_mul_b0ac774f</td><td class='upgini-text'>f_events_date_week_sin2_e28440a5</td><td class='upgini-text'>f_financial_date_natural_gas_7d_to_7d_1y_shift_a5c3c07f</td><td class='upgini-text'>*</td></tr><tr><td class='upgini-text'><a href='https://upgini.com/#data_sources' target='_blank' rel='noopener noreferrer'>Calendar data</a>,<a href='https://upgini.com/#data_sources' target='_blank' rel='noopener noreferrer'>Markets data</a></td><td class='upgini-text'>f_autofe_div_440201e6</td><td class='upgini-text'>f_events_date_week_cos2_b0a07cfc</td><td class='upgini-text'>f_financial_date_usd_gap_615a0ec0</td><td class='upgini-text'>/</td></tr><tr><td class='upgini-text'><a href='https://upgini.com/#data_sources' target='_blank' rel='noopener noreferrer'>Calendar data</a></td><td class='upgini-text'>f_autofe_mul_041b52f4</td><td class='upgini-text'>f_events_date_week_sin1_847b5db1</td><td class='upgini-text'>f_events_date_year_sin1_3c44bc64</td><td class='upgini-text'>*</td></tr><tr><td class='upgini-text'><a href='https://upgini.com/#data_sources' target='_blank' rel='noopener noreferrer'>Calendar data</a></td><td class='upgini-text'>f_autofe_div_0a9c9355</td><td class='upgini-text'>f_events_date_month_cos3_a9200432</td><td class='upgini-text'>f_events_date_week_sin2_e28440a5</td><td class='upgini-text'>/</td></tr><tr><td class='upgini-text'><a href='https://upgini.com/#data_sources' target='_blank' rel='noopener noreferrer'>Calendar data</a></td><td class='upgini-text'>f_autofe_div_48404110</td><td class='upgini-text'>f_events_date_month_cos3_a9200432</td><td class='upgini-text'>f_events_date_week_sin1_847b5db1</td><td class='upgini-text'>/</td></tr><tr><td class='upgini-text'><a href='https://upgini.com/#data_sources' target='_blank' rel='noopener noreferrer'>Calendar data</a>,<a href='https://upgini.com/#data_sources' target='_blank' rel='noopener noreferrer'>Markets data</a></td><td class='upgini-text'>f_autofe_div_270d64a2</td><td class='upgini-text'>f_events_date_week_cos1_f6a8c1fc</td><td class='upgini-text'>f_financial_date_crude_oil_7d_to_1y_c3e0ad17</td><td class='upgini-text'>/</td></tr><tr><td class='upgini-text'><a href='https://upgini.com/#data_sources' target='_blank' rel='noopener noreferrer'>Calendar data</a>,<a href='https://upgini.com/#data_sources' target='_blank' rel='noopener noreferrer'>Markets data</a></td><td class='upgini-text'>f_autofe_mul_0062f3ed</td><td class='upgini-text'>f_events_date_week_sin2_e28440a5</td><td class='upgini-text'>f_financial_date_crude_oil_1f195998</td><td class='upgini-text'>*</td></tr><tr><td class='upgini-text'><a href='https://upgini.com/#data_sources' target='_blank' rel='noopener noreferrer'>Calendar data</a>,<a href='https://upgini.com/#data_sources' target='_blank' rel='noopener noreferrer'>Markets data</a></td><td class='upgini-text'>f_autofe_mul_3f4a1860</td><td class='upgini-text'>f_events_date_year_cos1_9014a856</td><td class='upgini-text'>f_financial_date_crude_oil_7d_to_7d_1y_shift_718136ef</td><td class='upgini-text'>*</td></tr><tr><td class='upgini-text'><a href='https://upgini.com/#data_sources' target='_blank' rel='noopener noreferrer'>Markets data</a></td><td class='upgini-text'>f_autofe_mul_a77d0e6c</td><td class='upgini-text'>f_financial_date_crude_oil_1f195998</td><td class='upgini-text'>f_financial_date_gold_7d_to_7d_1y_shift_a8127a43</td><td class='upgini-text'>*</td></tr><tr><td class='upgini-text'><a href='https://upgini.com/#data_sources' target='_blank' rel='noopener noreferrer'>Calendar data</a></td><td class='upgini-text'>f_autofe_mul_53b94336</td><td class='upgini-text'>f_events_date_week_sin2_e28440a5</td><td class='upgini-text'>f_events_date_year_sin9_a4f6646e</td><td class='upgini-text'>*</td></tr><tr><td class='upgini-text'><a href='https://upgini.com/#data_sources' target='_blank' rel='noopener noreferrer'>Calendar data</a>,<a href='https://upgini.com/#data_sources' target='_blank' rel='noopener noreferrer'>Markets data</a></td><td class='upgini-text'>f_autofe_div_e939fcf8</td><td class='upgini-text'>f_events_date_week_cos2_b0a07cfc</td><td class='upgini-text'>f_financial_date_vix_7d_to_1y_634c77eb</td><td class='upgini-text'>/</td></tr><tr><td class='upgini-text'><a href='https://upgini.com/#data_sources' target='_blank' rel='noopener noreferrer'>Calendar data</a></td><td class='upgini-text'>f_autofe_mul_c094face</td><td class='upgini-text'>f_events_date_week_cos1_f6a8c1fc</td><td class='upgini-text'>f_events_date_year_sin1_3c44bc64</td><td class='upgini-text'>*</td></tr></tbody></table>\n",
              "        </div>\n",
              "        "
            ]
          },
          "metadata": {}
        },
        {
          "output_type": "stream",
          "name": "stdout",
          "text": [
            "We detected 55 outliers in your sample.\n",
            "Examples of outliers with maximum value of target:\n",
            "40    205\n",
            "24    196\n",
            "46    176\n",
            "Name: target, dtype: int64\n",
            "Outliers will be excluded during the metrics calculation.\n",
            "Before dropping target outliers size: 10000\n",
            "After dropping target outliers size: 9945\n",
            "Calculating accuracy uplift after enrichment...\n",
            "\n",
            "WARNING: y distributions from the training sample and eval_set differ according to the Kolmogorov-Smirnov test,\n",
            "which makes metrics between the train and eval_set incomparable.\n"
          ]
        },
        {
          "output_type": "display_data",
          "data": {
            "text/plain": [
              "<IPython.core.display.HTML object>"
            ],
            "text/html": [
              "<style>\n",
              "            .upgini-df thead th {\n",
              "                font-weight:bold;\n",
              "                text-align: center;\n",
              "                padding: 0.5em;\n",
              "                border-bottom: 2px solid black;\n",
              "            }\n",
              "\n",
              "            .upgini-df tbody td {\n",
              "                padding: 0.5em;\n",
              "            }\n",
              "\n",
              "            .upgini-df tbody tr:nth-child(odd) {\n",
              "                background-color: #ffffff;\n",
              "            }\n",
              "\n",
              "            .upgini-df tbody tr:nth-child(even) {\n",
              "                background-color: #f2f2f2;\n",
              "            }\n",
              "\n",
              "            .upgini-text {\n",
              "                text-align: left;\n",
              "            }\n",
              "\n",
              "            .upgini-number {\n",
              "                text-align: center;\n",
              "            }\n",
              "        </style>\n",
              "        <h2>Accuracy after enrichment</h2>\n",
              "        <div style=\"display:flex; flex-direction:column; align-items:flex-end; width: fit-content;\">\n",
              "            <div style=\"text-align: right\">\n",
              "                <button onclick=navigator.clipboard.writeText(decodeURI('Dataset%20type%09Rows%09Mean%20target%09Baseline%20mean_squared_error%09Enriched%20mean_squared_error%09Uplift%0ATrain%097988%0949.7598%09311.66434656447444%09217.50446515577386%0994.15988140870058%0AEval%201%092012%0959.4155%09574.1404976527764%09511.5295127575582%0962.61098489521817%0A'))>📂 Copy</button>\n",
              "                <a href='mailto:<Share with...>?subject=Relevant external data sources from Upgini.com&body=Dataset%20type%09Rows%09Mean%20target%09Baseline%20mean_squared_error%09Enriched%20mean_squared_error%09Uplift%0ATrain%097988%0949.7598%09311.66434656447444%09217.50446515577386%0994.15988140870058%0AEval%201%092012%0959.4155%09574.1404976527764%09511.5295127575582%0962.61098489521817%0A'>\n",
              "                    <button>📨 Share</button>\n",
              "                </a>\n",
              "            </div>\n",
              "            <table class='upgini-df'><thead><th>Dataset type</th><th>Rows</th><th>Mean target</th><th>Baseline mean_squared_error</th><th>Enriched mean_squared_error</th><th>Uplift</th></thead><tbody><tr><td class='upgini-text'>Train</td><td class='upgini-number'>7988</td><td class='upgini-number'>49.7598</td><td class='upgini-number'>311.6643</td><td class='upgini-number'>217.5045</td><td class='upgini-number'>94.1599</td></tr><tr><td class='upgini-text'>Eval 1</td><td class='upgini-number'>2012</td><td class='upgini-number'>59.4155</td><td class='upgini-number'>574.1405</td><td class='upgini-number'>511.5295</td><td class='upgini-number'>62.6110</td></tr></tbody></table>\n",
              "        </div>\n",
              "        "
            ]
          },
          "metadata": {}
        },
        {
          "output_type": "display_data",
          "data": {
            "text/plain": [
              "<IPython.core.display.HTML object>"
            ],
            "text/html": [
              "<a download=\"upgini-report-22d5bb5f-20bd-441e-b291-ece57fde98c7.pdf\" href=\"data:application/pdf;base64,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\" target=\"_blank\">\n",
              "        <button>📊 Download PDF report</button></a>"
            ]
          },
          "metadata": {}
        }
      ]
    },
    {
      "cell_type": "code",
      "source": [
        "from catboost import CatBoostRegressor\n",
        "from catboost.utils import eval_metric\n",
        "\n",
        "mod=CatBoostRegressor(verbose=False,allow_writing_files=False,random_state=0)\n",
        "\n",
        "enricher.calculate_metrics(\n",
        "    train_features,train_targ,\n",
        "    eval_set=[(test_features,test_targ)],\n",
        "    estimator=mod,\n",
        "    scoring=\"mean_absolute_percentage_error\"\n",
        ")\n"
      ],
      "metadata": {
        "colab": {
          "base_uri": "https://localhost:8080/",
          "height": 181
        },
        "id": "GgHjFH7FkAUe",
        "outputId": "36bb268d-fbfb-40ef-beca-9ecfb064e688"
      },
      "execution_count": null,
      "outputs": [
        {
          "output_type": "stream",
          "name": "stdout",
          "text": [
            "Calculating accuracy uplift after enrichment...\n",
            "-\r\n",
            "WARNING: y distributions from the training sample and eval_set differ according to the Kolmogorov-Smirnov test,\n",
            "which makes metrics between the train and eval_set incomparable.\n"
          ]
        },
        {
          "output_type": "execute_result",
          "data": {
            "text/plain": [
              "  Dataset type  Rows  Mean target  Baseline mean_absolute_percentage_error  \\\n",
              "0        Train  7988      49.7598                                 0.260691   \n",
              "1       Eval 1  2012      59.4155                                 0.267758   \n",
              "\n",
              "   Enriched mean_absolute_percentage_error    Uplift  \n",
              "0                                 0.165127  0.095564  \n",
              "1                                 0.192832  0.074926  "
            ],
            "text/html": [
              "\n",
              "  <div id=\"df-8f7e5857-2388-44f5-b32c-a2f308530bf1\" class=\"colab-df-container\">\n",
              "    <div>\n",
              "<style scoped>\n",
              "    .dataframe tbody tr th:only-of-type {\n",
              "        vertical-align: middle;\n",
              "    }\n",
              "\n",
              "    .dataframe tbody tr th {\n",
              "        vertical-align: top;\n",
              "    }\n",
              "\n",
              "    .dataframe thead th {\n",
              "        text-align: right;\n",
              "    }\n",
              "</style>\n",
              "<table border=\"1\" class=\"dataframe\">\n",
              "  <thead>\n",
              "    <tr style=\"text-align: right;\">\n",
              "      <th></th>\n",
              "      <th>Dataset type</th>\n",
              "      <th>Rows</th>\n",
              "      <th>Mean target</th>\n",
              "      <th>Baseline mean_absolute_percentage_error</th>\n",
              "      <th>Enriched mean_absolute_percentage_error</th>\n",
              "      <th>Uplift</th>\n",
              "    </tr>\n",
              "  </thead>\n",
              "  <tbody>\n",
              "    <tr>\n",
              "      <th>0</th>\n",
              "      <td>Train</td>\n",
              "      <td>7988</td>\n",
              "      <td>49.7598</td>\n",
              "      <td>0.260691</td>\n",
              "      <td>0.165127</td>\n",
              "      <td>0.095564</td>\n",
              "    </tr>\n",
              "    <tr>\n",
              "      <th>1</th>\n",
              "      <td>Eval 1</td>\n",
              "      <td>2012</td>\n",
              "      <td>59.4155</td>\n",
              "      <td>0.267758</td>\n",
              "      <td>0.192832</td>\n",
              "      <td>0.074926</td>\n",
              "    </tr>\n",
              "  </tbody>\n",
              "</table>\n",
              "</div>\n",
              "    <div class=\"colab-df-buttons\">\n",
              "\n",
              "  <div class=\"colab-df-container\">\n",
              "    <button class=\"colab-df-convert\" onclick=\"convertToInteractive('df-8f7e5857-2388-44f5-b32c-a2f308530bf1')\"\n",
              "            title=\"Convert this dataframe to an interactive table.\"\n",
              "            style=\"display:none;\">\n",
              "\n",
              "  <svg xmlns=\"http://www.w3.org/2000/svg\" height=\"24px\" viewBox=\"0 -960 960 960\">\n",
              "    <path d=\"M120-120v-720h720v720H120Zm60-500h600v-160H180v160Zm220 220h160v-160H400v160Zm0 220h160v-160H400v160ZM180-400h160v-160H180v160Zm440 0h160v-160H620v160ZM180-180h160v-160H180v160Zm440 0h160v-160H620v160Z\"/>\n",
              "  </svg>\n",
              "    </button>\n",
              "\n",
              "  <style>\n",
              "    .colab-df-container {\n",
              "      display:flex;\n",
              "      gap: 12px;\n",
              "    }\n",
              "\n",
              "    .colab-df-convert {\n",
              "      background-color: #E8F0FE;\n",
              "      border: none;\n",
              "      border-radius: 50%;\n",
              "      cursor: pointer;\n",
              "      display: none;\n",
              "      fill: #1967D2;\n",
              "      height: 32px;\n",
              "      padding: 0 0 0 0;\n",
              "      width: 32px;\n",
              "    }\n",
              "\n",
              "    .colab-df-convert:hover {\n",
              "      background-color: #E2EBFA;\n",
              "      box-shadow: 0px 1px 2px rgba(60, 64, 67, 0.3), 0px 1px 3px 1px rgba(60, 64, 67, 0.15);\n",
              "      fill: #174EA6;\n",
              "    }\n",
              "\n",
              "    .colab-df-buttons div {\n",
              "      margin-bottom: 4px;\n",
              "    }\n",
              "\n",
              "    [theme=dark] .colab-df-convert {\n",
              "      background-color: #3B4455;\n",
              "      fill: #D2E3FC;\n",
              "    }\n",
              "\n",
              "    [theme=dark] .colab-df-convert:hover {\n",
              "      background-color: #434B5C;\n",
              "      box-shadow: 0px 1px 3px 1px rgba(0, 0, 0, 0.15);\n",
              "      filter: drop-shadow(0px 1px 2px rgba(0, 0, 0, 0.3));\n",
              "      fill: #FFFFFF;\n",
              "    }\n",
              "  </style>\n",
              "\n",
              "    <script>\n",
              "      const buttonEl =\n",
              "        document.querySelector('#df-8f7e5857-2388-44f5-b32c-a2f308530bf1 button.colab-df-convert');\n",
              "      buttonEl.style.display =\n",
              "        google.colab.kernel.accessAllowed ? 'block' : 'none';\n",
              "\n",
              "      async function convertToInteractive(key) {\n",
              "        const element = document.querySelector('#df-8f7e5857-2388-44f5-b32c-a2f308530bf1');\n",
              "        const dataTable =\n",
              "          await google.colab.kernel.invokeFunction('convertToInteractive',\n",
              "                                                    [key], {});\n",
              "        if (!dataTable) return;\n",
              "\n",
              "        const docLinkHtml = 'Like what you see? Visit the ' +\n",
              "          '<a target=\"_blank\" href=https://colab.research.google.com/notebooks/data_table.ipynb>data table notebook</a>'\n",
              "          + ' to learn more about interactive tables.';\n",
              "        element.innerHTML = '';\n",
              "        dataTable['output_type'] = 'display_data';\n",
              "        await google.colab.output.renderOutput(dataTable, element);\n",
              "        const docLink = document.createElement('div');\n",
              "        docLink.innerHTML = docLinkHtml;\n",
              "        element.appendChild(docLink);\n",
              "      }\n",
              "    </script>\n",
              "  </div>\n",
              "\n",
              "\n",
              "<div id=\"df-e14a1162-9f41-43bd-874f-ae318bf1be61\">\n",
              "  <button class=\"colab-df-quickchart\" onclick=\"quickchart('df-e14a1162-9f41-43bd-874f-ae318bf1be61')\"\n",
              "            title=\"Suggest charts\"\n",
              "            style=\"display:none;\">\n",
              "\n",
              "<svg xmlns=\"http://www.w3.org/2000/svg\" height=\"24px\"viewBox=\"0 0 24 24\"\n",
              "     width=\"24px\">\n",
              "    <g>\n",
              "        <path d=\"M19 3H5c-1.1 0-2 .9-2 2v14c0 1.1.9 2 2 2h14c1.1 0 2-.9 2-2V5c0-1.1-.9-2-2-2zM9 17H7v-7h2v7zm4 0h-2V7h2v10zm4 0h-2v-4h2v4z\"/>\n",
              "    </g>\n",
              "</svg>\n",
              "  </button>\n",
              "\n",
              "<style>\n",
              "  .colab-df-quickchart {\n",
              "      --bg-color: #E8F0FE;\n",
              "      --fill-color: #1967D2;\n",
              "      --hover-bg-color: #E2EBFA;\n",
              "      --hover-fill-color: #174EA6;\n",
              "      --disabled-fill-color: #AAA;\n",
              "      --disabled-bg-color: #DDD;\n",
              "  }\n",
              "\n",
              "  [theme=dark] .colab-df-quickchart {\n",
              "      --bg-color: #3B4455;\n",
              "      --fill-color: #D2E3FC;\n",
              "      --hover-bg-color: #434B5C;\n",
              "      --hover-fill-color: #FFFFFF;\n",
              "      --disabled-bg-color: #3B4455;\n",
              "      --disabled-fill-color: #666;\n",
              "  }\n",
              "\n",
              "  .colab-df-quickchart {\n",
              "    background-color: var(--bg-color);\n",
              "    border: none;\n",
              "    border-radius: 50%;\n",
              "    cursor: pointer;\n",
              "    display: none;\n",
              "    fill: var(--fill-color);\n",
              "    height: 32px;\n",
              "    padding: 0;\n",
              "    width: 32px;\n",
              "  }\n",
              "\n",
              "  .colab-df-quickchart:hover {\n",
              "    background-color: var(--hover-bg-color);\n",
              "    box-shadow: 0 1px 2px rgba(60, 64, 67, 0.3), 0 1px 3px 1px rgba(60, 64, 67, 0.15);\n",
              "    fill: var(--button-hover-fill-color);\n",
              "  }\n",
              "\n",
              "  .colab-df-quickchart-complete:disabled,\n",
              "  .colab-df-quickchart-complete:disabled:hover {\n",
              "    background-color: var(--disabled-bg-color);\n",
              "    fill: var(--disabled-fill-color);\n",
              "    box-shadow: none;\n",
              "  }\n",
              "\n",
              "  .colab-df-spinner {\n",
              "    border: 2px solid var(--fill-color);\n",
              "    border-color: transparent;\n",
              "    border-bottom-color: var(--fill-color);\n",
              "    animation:\n",
              "      spin 1s steps(1) infinite;\n",
              "  }\n",
              "\n",
              "  @keyframes spin {\n",
              "    0% {\n",
              "      border-color: transparent;\n",
              "      border-bottom-color: var(--fill-color);\n",
              "      border-left-color: var(--fill-color);\n",
              "    }\n",
              "    20% {\n",
              "      border-color: transparent;\n",
              "      border-left-color: var(--fill-color);\n",
              "      border-top-color: var(--fill-color);\n",
              "    }\n",
              "    30% {\n",
              "      border-color: transparent;\n",
              "      border-left-color: var(--fill-color);\n",
              "      border-top-color: var(--fill-color);\n",
              "      border-right-color: var(--fill-color);\n",
              "    }\n",
              "    40% {\n",
              "      border-color: transparent;\n",
              "      border-right-color: var(--fill-color);\n",
              "      border-top-color: var(--fill-color);\n",
              "    }\n",
              "    60% {\n",
              "      border-color: transparent;\n",
              "      border-right-color: var(--fill-color);\n",
              "    }\n",
              "    80% {\n",
              "      border-color: transparent;\n",
              "      border-right-color: var(--fill-color);\n",
              "      border-bottom-color: var(--fill-color);\n",
              "    }\n",
              "    90% {\n",
              "      border-color: transparent;\n",
              "      border-bottom-color: var(--fill-color);\n",
              "    }\n",
              "  }\n",
              "</style>\n",
              "\n",
              "  <script>\n",
              "    async function quickchart(key) {\n",
              "      const quickchartButtonEl =\n",
              "        document.querySelector('#' + key + ' button');\n",
              "      quickchartButtonEl.disabled = true;  // To prevent multiple clicks.\n",
              "      quickchartButtonEl.classList.add('colab-df-spinner');\n",
              "      try {\n",
              "        const charts = await google.colab.kernel.invokeFunction(\n",
              "            'suggestCharts', [key], {});\n",
              "      } catch (error) {\n",
              "        console.error('Error during call to suggestCharts:', error);\n",
              "      }\n",
              "      quickchartButtonEl.classList.remove('colab-df-spinner');\n",
              "      quickchartButtonEl.classList.add('colab-df-quickchart-complete');\n",
              "    }\n",
              "    (() => {\n",
              "      let quickchartButtonEl =\n",
              "        document.querySelector('#df-e14a1162-9f41-43bd-874f-ae318bf1be61 button');\n",
              "      quickchartButtonEl.style.display =\n",
              "        google.colab.kernel.accessAllowed ? 'block' : 'none';\n",
              "    })();\n",
              "  </script>\n",
              "</div>\n",
              "    </div>\n",
              "  </div>\n"
            ]
          },
          "metadata": {},
          "execution_count": 6
        }
      ]
    },
    {
      "cell_type": "code",
      "source": [
        "enriched_train_features=enricher.transform(train_features,keep_input=True)\n",
        "enriched_test_features=enricher.transform(test_features,keep_input=True)\n",
        "enriched_train_features.head()\n"
      ],
      "metadata": {
        "colab": {
          "base_uri": "https://localhost:8080/",
          "height": 848
        },
        "id": "vuWGyzySnWiG",
        "outputId": "3b2d61cd-6a65-48a1-a31b-1bba50a8f005"
      },
      "execution_count": null,
      "outputs": [
        {
          "output_type": "display_data",
          "data": {
            "text/plain": [
              "[============================================================] 100% Finished"
            ],
            "text/html": [
              "<progress style='width:60ex' max='100' value='100'></progress>  100% Finished</br>"
            ]
          },
          "metadata": {}
        },
        {
          "output_type": "stream",
          "name": "stdout",
          "text": [
            "You use Trial access to Upgini data enrichment. Limit for Trial: 10000 rows. You have already enriched: 0 rows.\n",
            "\n",
            "WARNING: Search started with DATE search key only\n",
            "Try to add other keys like the COUNTRY, POSTAL_CODE, PHONE NUMBER, EMAIL/HEM, IPv4 to your training dataset\n",
            "for search through all the available data sources.\n",
            "See docs https://github.com/upgini/upgini#-total-239-countries-and-up-to-41-years-of-history\n"
          ]
        },
        {
          "output_type": "display_data",
          "data": {
            "text/plain": [
              "<IPython.core.display.HTML object>"
            ],
            "text/html": [
              "<table><tr><th style='font-weight:bold'>Column name</th><th style='font-weight:bold'>Status</th><th style='font-weight:bold'>Errors</th></tr><tr><td>date</td><td style='background-color:#DAF7A6;color:black'>All valid</td><td>-</td></tr></table>"
            ]
          },
          "metadata": {}
        },
        {
          "output_type": "stream",
          "name": "stdout",
          "text": [
            "\n",
            "Running search request, search_id=74a1e957-6ea9-4989-9fdd-804901b21c23\n",
            "We'll send email notification once it's completed, just use your personal api_key from profile.upgini.com\n",
            "\n",
            "Retrieving selected features from data sources...\n"
          ]
        },
        {
          "output_type": "display_data",
          "data": {
            "text/plain": [
              "[============================================================] 100% Finished"
            ],
            "text/html": [
              "<progress style='width:60ex' max='100' value='100'></progress>  100% Finished</br>"
            ]
          },
          "metadata": {}
        },
        {
          "output_type": "stream",
          "name": "stdout",
          "text": [
            "You use Trial access to Upgini data enrichment. Limit for Trial: 10000 rows. You have already enriched: 0 rows.\n",
            "\n",
            "WARNING: Search started with DATE search key only\n",
            "Try to add other keys like the COUNTRY, POSTAL_CODE, PHONE NUMBER, EMAIL/HEM, IPv4 to your training dataset\n",
            "for search through all the available data sources.\n",
            "See docs https://github.com/upgini/upgini#-total-239-countries-and-up-to-41-years-of-history\n"
          ]
        },
        {
          "output_type": "display_data",
          "data": {
            "text/plain": [
              "<IPython.core.display.HTML object>"
            ],
            "text/html": [
              "<table><tr><th style='font-weight:bold'>Column name</th><th style='font-weight:bold'>Status</th><th style='font-weight:bold'>Errors</th></tr><tr><td>date</td><td style='background-color:#DAF7A6;color:black'>All valid</td><td>-</td></tr></table>"
            ]
          },
          "metadata": {}
        },
        {
          "output_type": "stream",
          "name": "stdout",
          "text": [
            "\n",
            "Running search request, search_id=5d4836c9-2df3-4c59-a55d-7df89dfbaa17\n",
            "We'll send email notification once it's completed, just use your personal api_key from profile.upgini.com\n",
            "\n",
            "Retrieving selected features from data sources...\n"
          ]
        },
        {
          "output_type": "execute_result",
          "data": {
            "text/plain": [
              "        date store item  f_weather_date_weather_umap_48_b39cd0c4  \\\n",
              "0 2013-01-01     3   12                                 4.540985   \n",
              "1 2013-01-01     4    9                                 4.540985   \n",
              "2 2013-01-01    10   21                                 4.540985   \n",
              "3 2013-01-01     3   27                                 4.540985   \n",
              "4 2013-01-01     2    3                                 4.540985   \n",
              "\n",
              "   f_weather_date_weather_umap_31_fa6d9a99  f_autofe_div_cbf285e0  \\\n",
              "0                                 4.712653               0.932536   \n",
              "1                                 4.712653               0.932536   \n",
              "2                                 4.712653               0.932536   \n",
              "3                                 4.712653               0.932536   \n",
              "4                                 4.712653               0.932536   \n",
              "\n",
              "   f_autofe_mul_af6d166b  f_autofe_div_0b384b21  f_autofe_div_04d9bc60  \\\n",
              "0              -1.036025               1.162131               0.740023   \n",
              "1              -1.036025               1.162131               0.740023   \n",
              "2              -1.036025               1.162131               0.740023   \n",
              "3              -1.036025               1.162131               0.740023   \n",
              "4              -1.036025               1.162131               0.740023   \n",
              "\n",
              "   f_autofe_div_e8cdf4c5  ...  f_autofe_mul_b0ac774f  f_autofe_div_440201e6  \\\n",
              "0                    0.0  ...                1.09144               3.708833   \n",
              "1                    0.0  ...                1.09144               3.708833   \n",
              "2                    0.0  ...                1.09144               3.708833   \n",
              "3                    0.0  ...                1.09144               3.708833   \n",
              "4                    0.0  ...                1.09144               3.708833   \n",
              "\n",
              "   f_autofe_div_0a9c9355  f_weather_date_weather_umap_35_5ddaa0ba  \\\n",
              "0               1.025717                                  4.76773   \n",
              "1               1.025717                                  4.76773   \n",
              "2               1.025717                                  4.76773   \n",
              "3               1.025717                                  4.76773   \n",
              "4               1.025717                                  4.76773   \n",
              "\n",
              "   f_autofe_mul_3f4a1860  f_autofe_mul_a77d0e6c  f_autofe_mul_53b94336  \\\n",
              "0               0.897748               97.00742               0.974702   \n",
              "1               0.897748               97.00742               0.974702   \n",
              "2               0.897748               97.00742               0.974702   \n",
              "3               0.897748               97.00742               0.974702   \n",
              "4               0.897748               97.00742               0.974702   \n",
              "\n",
              "   f_autofe_div_e939fcf8  f_economic_date_cbpol_pca_1_31e5f62c  \\\n",
              "0              -0.193513                             -0.438029   \n",
              "1              -0.193513                             -0.438029   \n",
              "2              -0.193513                             -0.438029   \n",
              "3              -0.193513                             -0.438029   \n",
              "4              -0.193513                             -0.438029   \n",
              "\n",
              "   f_weather_date_weather_umap_4_0c0d6662  \n",
              "0                                4.561413  \n",
              "1                                4.561413  \n",
              "2                                4.561413  \n",
              "3                                4.561413  \n",
              "4                                4.561413  \n",
              "\n",
              "[5 rows x 34 columns]"
            ],
            "text/html": [
              "\n",
              "  <div id=\"df-55e3b3ea-04d4-4f32-9bb8-672f4088b4c0\" class=\"colab-df-container\">\n",
              "    <div>\n",
              "<style scoped>\n",
              "    .dataframe tbody tr th:only-of-type {\n",
              "        vertical-align: middle;\n",
              "    }\n",
              "\n",
              "    .dataframe tbody tr th {\n",
              "        vertical-align: top;\n",
              "    }\n",
              "\n",
              "    .dataframe thead th {\n",
              "        text-align: right;\n",
              "    }\n",
              "</style>\n",
              "<table border=\"1\" class=\"dataframe\">\n",
              "  <thead>\n",
              "    <tr style=\"text-align: right;\">\n",
              "      <th></th>\n",
              "      <th>date</th>\n",
              "      <th>store</th>\n",
              "      <th>item</th>\n",
              "      <th>f_weather_date_weather_umap_48_b39cd0c4</th>\n",
              "      <th>f_weather_date_weather_umap_31_fa6d9a99</th>\n",
              "      <th>f_autofe_div_cbf285e0</th>\n",
              "      <th>f_autofe_mul_af6d166b</th>\n",
              "      <th>f_autofe_div_0b384b21</th>\n",
              "      <th>f_autofe_div_04d9bc60</th>\n",
              "      <th>f_autofe_div_e8cdf4c5</th>\n",
              "      <th>...</th>\n",
              "      <th>f_autofe_mul_b0ac774f</th>\n",
              "      <th>f_autofe_div_440201e6</th>\n",
              "      <th>f_autofe_div_0a9c9355</th>\n",
              "      <th>f_weather_date_weather_umap_35_5ddaa0ba</th>\n",
              "      <th>f_autofe_mul_3f4a1860</th>\n",
              "      <th>f_autofe_mul_a77d0e6c</th>\n",
              "      <th>f_autofe_mul_53b94336</th>\n",
              "      <th>f_autofe_div_e939fcf8</th>\n",
              "      <th>f_economic_date_cbpol_pca_1_31e5f62c</th>\n",
              "      <th>f_weather_date_weather_umap_4_0c0d6662</th>\n",
              "    </tr>\n",
              "  </thead>\n",
              "  <tbody>\n",
              "    <tr>\n",
              "      <th>0</th>\n",
              "      <td>2013-01-01</td>\n",
              "      <td>3</td>\n",
              "      <td>12</td>\n",
              "      <td>4.540985</td>\n",
              "      <td>4.712653</td>\n",
              "      <td>0.932536</td>\n",
              "      <td>-1.036025</td>\n",
              "      <td>1.162131</td>\n",
              "      <td>0.740023</td>\n",
              "      <td>0.0</td>\n",
              "      <td>...</td>\n",
              "      <td>1.09144</td>\n",
              "      <td>3.708833</td>\n",
              "      <td>1.025717</td>\n",
              "      <td>4.76773</td>\n",
              "      <td>0.897748</td>\n",
              "      <td>97.00742</td>\n",
              "      <td>0.974702</td>\n",
              "      <td>-0.193513</td>\n",
              "      <td>-0.438029</td>\n",
              "      <td>4.561413</td>\n",
              "    </tr>\n",
              "    <tr>\n",
              "      <th>1</th>\n",
              "      <td>2013-01-01</td>\n",
              "      <td>4</td>\n",
              "      <td>9</td>\n",
              "      <td>4.540985</td>\n",
              "      <td>4.712653</td>\n",
              "      <td>0.932536</td>\n",
              "      <td>-1.036025</td>\n",
              "      <td>1.162131</td>\n",
              "      <td>0.740023</td>\n",
              "      <td>0.0</td>\n",
              "      <td>...</td>\n",
              "      <td>1.09144</td>\n",
              "      <td>3.708833</td>\n",
              "      <td>1.025717</td>\n",
              "      <td>4.76773</td>\n",
              "      <td>0.897748</td>\n",
              "      <td>97.00742</td>\n",
              "      <td>0.974702</td>\n",
              "      <td>-0.193513</td>\n",
              "      <td>-0.438029</td>\n",
              "      <td>4.561413</td>\n",
              "    </tr>\n",
              "    <tr>\n",
              "      <th>2</th>\n",
              "      <td>2013-01-01</td>\n",
              "      <td>10</td>\n",
              "      <td>21</td>\n",
              "      <td>4.540985</td>\n",
              "      <td>4.712653</td>\n",
              "      <td>0.932536</td>\n",
              "      <td>-1.036025</td>\n",
              "      <td>1.162131</td>\n",
              "      <td>0.740023</td>\n",
              "      <td>0.0</td>\n",
              "      <td>...</td>\n",
              "      <td>1.09144</td>\n",
              "      <td>3.708833</td>\n",
              "      <td>1.025717</td>\n",
              "      <td>4.76773</td>\n",
              "      <td>0.897748</td>\n",
              "      <td>97.00742</td>\n",
              "      <td>0.974702</td>\n",
              "      <td>-0.193513</td>\n",
              "      <td>-0.438029</td>\n",
              "      <td>4.561413</td>\n",
              "    </tr>\n",
              "    <tr>\n",
              "      <th>3</th>\n",
              "      <td>2013-01-01</td>\n",
              "      <td>3</td>\n",
              "      <td>27</td>\n",
              "      <td>4.540985</td>\n",
              "      <td>4.712653</td>\n",
              "      <td>0.932536</td>\n",
              "      <td>-1.036025</td>\n",
              "      <td>1.162131</td>\n",
              "      <td>0.740023</td>\n",
              "      <td>0.0</td>\n",
              "      <td>...</td>\n",
              "      <td>1.09144</td>\n",
              "      <td>3.708833</td>\n",
              "      <td>1.025717</td>\n",
              "      <td>4.76773</td>\n",
              "      <td>0.897748</td>\n",
              "      <td>97.00742</td>\n",
              "      <td>0.974702</td>\n",
              "      <td>-0.193513</td>\n",
              "      <td>-0.438029</td>\n",
              "      <td>4.561413</td>\n",
              "    </tr>\n",
              "    <tr>\n",
              "      <th>4</th>\n",
              "      <td>2013-01-01</td>\n",
              "      <td>2</td>\n",
              "      <td>3</td>\n",
              "      <td>4.540985</td>\n",
              "      <td>4.712653</td>\n",
              "      <td>0.932536</td>\n",
              "      <td>-1.036025</td>\n",
              "      <td>1.162131</td>\n",
              "      <td>0.740023</td>\n",
              "      <td>0.0</td>\n",
              "      <td>...</td>\n",
              "      <td>1.09144</td>\n",
              "      <td>3.708833</td>\n",
              "      <td>1.025717</td>\n",
              "      <td>4.76773</td>\n",
              "      <td>0.897748</td>\n",
              "      <td>97.00742</td>\n",
              "      <td>0.974702</td>\n",
              "      <td>-0.193513</td>\n",
              "      <td>-0.438029</td>\n",
              "      <td>4.561413</td>\n",
              "    </tr>\n",
              "  </tbody>\n",
              "</table>\n",
              "<p>5 rows × 34 columns</p>\n",
              "</div>\n",
              "    <div class=\"colab-df-buttons\">\n",
              "\n",
              "  <div class=\"colab-df-container\">\n",
              "    <button class=\"colab-df-convert\" onclick=\"convertToInteractive('df-55e3b3ea-04d4-4f32-9bb8-672f4088b4c0')\"\n",
              "            title=\"Convert this dataframe to an interactive table.\"\n",
              "            style=\"display:none;\">\n",
              "\n",
              "  <svg xmlns=\"http://www.w3.org/2000/svg\" height=\"24px\" viewBox=\"0 -960 960 960\">\n",
              "    <path d=\"M120-120v-720h720v720H120Zm60-500h600v-160H180v160Zm220 220h160v-160H400v160Zm0 220h160v-160H400v160ZM180-400h160v-160H180v160Zm440 0h160v-160H620v160ZM180-180h160v-160H180v160Zm440 0h160v-160H620v160Z\"/>\n",
              "  </svg>\n",
              "    </button>\n",
              "\n",
              "  <style>\n",
              "    .colab-df-container {\n",
              "      display:flex;\n",
              "      gap: 12px;\n",
              "    }\n",
              "\n",
              "    .colab-df-convert {\n",
              "      background-color: #E8F0FE;\n",
              "      border: none;\n",
              "      border-radius: 50%;\n",
              "      cursor: pointer;\n",
              "      display: none;\n",
              "      fill: #1967D2;\n",
              "      height: 32px;\n",
              "      padding: 0 0 0 0;\n",
              "      width: 32px;\n",
              "    }\n",
              "\n",
              "    .colab-df-convert:hover {\n",
              "      background-color: #E2EBFA;\n",
              "      box-shadow: 0px 1px 2px rgba(60, 64, 67, 0.3), 0px 1px 3px 1px rgba(60, 64, 67, 0.15);\n",
              "      fill: #174EA6;\n",
              "    }\n",
              "\n",
              "    .colab-df-buttons div {\n",
              "      margin-bottom: 4px;\n",
              "    }\n",
              "\n",
              "    [theme=dark] .colab-df-convert {\n",
              "      background-color: #3B4455;\n",
              "      fill: #D2E3FC;\n",
              "    }\n",
              "\n",
              "    [theme=dark] .colab-df-convert:hover {\n",
              "      background-color: #434B5C;\n",
              "      box-shadow: 0px 1px 3px 1px rgba(0, 0, 0, 0.15);\n",
              "      filter: drop-shadow(0px 1px 2px rgba(0, 0, 0, 0.3));\n",
              "      fill: #FFFFFF;\n",
              "    }\n",
              "  </style>\n",
              "\n",
              "    <script>\n",
              "      const buttonEl =\n",
              "        document.querySelector('#df-55e3b3ea-04d4-4f32-9bb8-672f4088b4c0 button.colab-df-convert');\n",
              "      buttonEl.style.display =\n",
              "        google.colab.kernel.accessAllowed ? 'block' : 'none';\n",
              "\n",
              "      async function convertToInteractive(key) {\n",
              "        const element = document.querySelector('#df-55e3b3ea-04d4-4f32-9bb8-672f4088b4c0');\n",
              "        const dataTable =\n",
              "          await google.colab.kernel.invokeFunction('convertToInteractive',\n",
              "                                                    [key], {});\n",
              "        if (!dataTable) return;\n",
              "\n",
              "        const docLinkHtml = 'Like what you see? Visit the ' +\n",
              "          '<a target=\"_blank\" href=https://colab.research.google.com/notebooks/data_table.ipynb>data table notebook</a>'\n",
              "          + ' to learn more about interactive tables.';\n",
              "        element.innerHTML = '';\n",
              "        dataTable['output_type'] = 'display_data';\n",
              "        await google.colab.output.renderOutput(dataTable, element);\n",
              "        const docLink = document.createElement('div');\n",
              "        docLink.innerHTML = docLinkHtml;\n",
              "        element.appendChild(docLink);\n",
              "      }\n",
              "    </script>\n",
              "  </div>\n",
              "\n",
              "\n",
              "<div id=\"df-6cedb300-b4ff-4e8e-a7a9-08cdbd11c755\">\n",
              "  <button class=\"colab-df-quickchart\" onclick=\"quickchart('df-6cedb300-b4ff-4e8e-a7a9-08cdbd11c755')\"\n",
              "            title=\"Suggest charts\"\n",
              "            style=\"display:none;\">\n",
              "\n",
              "<svg xmlns=\"http://www.w3.org/2000/svg\" height=\"24px\"viewBox=\"0 0 24 24\"\n",
              "     width=\"24px\">\n",
              "    <g>\n",
              "        <path d=\"M19 3H5c-1.1 0-2 .9-2 2v14c0 1.1.9 2 2 2h14c1.1 0 2-.9 2-2V5c0-1.1-.9-2-2-2zM9 17H7v-7h2v7zm4 0h-2V7h2v10zm4 0h-2v-4h2v4z\"/>\n",
              "    </g>\n",
              "</svg>\n",
              "  </button>\n",
              "\n",
              "<style>\n",
              "  .colab-df-quickchart {\n",
              "      --bg-color: #E8F0FE;\n",
              "      --fill-color: #1967D2;\n",
              "      --hover-bg-color: #E2EBFA;\n",
              "      --hover-fill-color: #174EA6;\n",
              "      --disabled-fill-color: #AAA;\n",
              "      --disabled-bg-color: #DDD;\n",
              "  }\n",
              "\n",
              "  [theme=dark] .colab-df-quickchart {\n",
              "      --bg-color: #3B4455;\n",
              "      --fill-color: #D2E3FC;\n",
              "      --hover-bg-color: #434B5C;\n",
              "      --hover-fill-color: #FFFFFF;\n",
              "      --disabled-bg-color: #3B4455;\n",
              "      --disabled-fill-color: #666;\n",
              "  }\n",
              "\n",
              "  .colab-df-quickchart {\n",
              "    background-color: var(--bg-color);\n",
              "    border: none;\n",
              "    border-radius: 50%;\n",
              "    cursor: pointer;\n",
              "    display: none;\n",
              "    fill: var(--fill-color);\n",
              "    height: 32px;\n",
              "    padding: 0;\n",
              "    width: 32px;\n",
              "  }\n",
              "\n",
              "  .colab-df-quickchart:hover {\n",
              "    background-color: var(--hover-bg-color);\n",
              "    box-shadow: 0 1px 2px rgba(60, 64, 67, 0.3), 0 1px 3px 1px rgba(60, 64, 67, 0.15);\n",
              "    fill: var(--button-hover-fill-color);\n",
              "  }\n",
              "\n",
              "  .colab-df-quickchart-complete:disabled,\n",
              "  .colab-df-quickchart-complete:disabled:hover {\n",
              "    background-color: var(--disabled-bg-color);\n",
              "    fill: var(--disabled-fill-color);\n",
              "    box-shadow: none;\n",
              "  }\n",
              "\n",
              "  .colab-df-spinner {\n",
              "    border: 2px solid var(--fill-color);\n",
              "    border-color: transparent;\n",
              "    border-bottom-color: var(--fill-color);\n",
              "    animation:\n",
              "      spin 1s steps(1) infinite;\n",
              "  }\n",
              "\n",
              "  @keyframes spin {\n",
              "    0% {\n",
              "      border-color: transparent;\n",
              "      border-bottom-color: var(--fill-color);\n",
              "      border-left-color: var(--fill-color);\n",
              "    }\n",
              "    20% {\n",
              "      border-color: transparent;\n",
              "      border-left-color: var(--fill-color);\n",
              "      border-top-color: var(--fill-color);\n",
              "    }\n",
              "    30% {\n",
              "      border-color: transparent;\n",
              "      border-left-color: var(--fill-color);\n",
              "      border-top-color: var(--fill-color);\n",
              "      border-right-color: var(--fill-color);\n",
              "    }\n",
              "    40% {\n",
              "      border-color: transparent;\n",
              "      border-right-color: var(--fill-color);\n",
              "      border-top-color: var(--fill-color);\n",
              "    }\n",
              "    60% {\n",
              "      border-color: transparent;\n",
              "      border-right-color: var(--fill-color);\n",
              "    }\n",
              "    80% {\n",
              "      border-color: transparent;\n",
              "      border-right-color: var(--fill-color);\n",
              "      border-bottom-color: var(--fill-color);\n",
              "    }\n",
              "    90% {\n",
              "      border-color: transparent;\n",
              "      border-bottom-color: var(--fill-color);\n",
              "    }\n",
              "  }\n",
              "</style>\n",
              "\n",
              "  <script>\n",
              "    async function quickchart(key) {\n",
              "      const quickchartButtonEl =\n",
              "        document.querySelector('#' + key + ' button');\n",
              "      quickchartButtonEl.disabled = true;  // To prevent multiple clicks.\n",
              "      quickchartButtonEl.classList.add('colab-df-spinner');\n",
              "      try {\n",
              "        const charts = await google.colab.kernel.invokeFunction(\n",
              "            'suggestCharts', [key], {});\n",
              "      } catch (error) {\n",
              "        console.error('Error during call to suggestCharts:', error);\n",
              "      }\n",
              "      quickchartButtonEl.classList.remove('colab-df-spinner');\n",
              "      quickchartButtonEl.classList.add('colab-df-quickchart-complete');\n",
              "    }\n",
              "    (() => {\n",
              "      let quickchartButtonEl =\n",
              "        document.querySelector('#df-6cedb300-b4ff-4e8e-a7a9-08cdbd11c755 button');\n",
              "      quickchartButtonEl.style.display =\n",
              "        google.colab.kernel.accessAllowed ? 'block' : 'none';\n",
              "    })();\n",
              "  </script>\n",
              "</div>\n",
              "    </div>\n",
              "  </div>\n"
            ]
          },
          "metadata": {},
          "execution_count": 7
        }
      ]
    },
    {
      "cell_type": "code",
      "source": [
        "mod.fit(train_features,train_targ)\n",
        "predicts=mod.predict(test_features)\n",
        "eval_metric(test_targ.values,predicts,\"SMAPE\")"
      ],
      "metadata": {
        "colab": {
          "base_uri": "https://localhost:8080/"
        },
        "id": "xJAN2dwEReHa",
        "outputId": "884a2af5-86f5-4289-96d6-00c726180b5c"
      },
      "execution_count": null,
      "outputs": [
        {
          "output_type": "execute_result",
          "data": {
            "text/plain": [
              "[39.56447289695444]"
            ]
          },
          "metadata": {},
          "execution_count": 14
        }
      ]
    },
    {
      "cell_type": "code",
      "source": [
        "mod.fit(enriched_train_features,train_targ)\n",
        "enriched_predicts=mod.predict(enriched_test_features)\n",
        "eval_metric(test_targ.values,enriched_predicts,\"SMAPE\")"
      ],
      "metadata": {
        "colab": {
          "base_uri": "https://localhost:8080/"
        },
        "id": "MRPGix30Tkph",
        "outputId": "ee6ea87f-89f5-469b-8386-0c152d350503"
      },
      "execution_count": null,
      "outputs": [
        {
          "output_type": "execute_result",
          "data": {
            "text/plain": [
              "[15.750466767325005]"
            ]
          },
          "metadata": {},
          "execution_count": 15
        }
      ]
    }
  ]
}